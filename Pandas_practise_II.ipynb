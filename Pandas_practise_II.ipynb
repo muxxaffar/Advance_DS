{
  "nbformat": 4,
  "nbformat_minor": 0,
  "metadata": {
    "colab": {
      "provenance": []
    },
    "kernelspec": {
      "name": "python3",
      "display_name": "Python 3"
    },
    "language_info": {
      "name": "python"
    }
  },
  "cells": [
    {
      "cell_type": "markdown",
      "source": [
        "**Q1:**\n",
        "\n",
        "Extract the data for the rows where the \"%\" column is greater than 50 from elections DataFrame.\n"
      ],
      "metadata": {
        "id": "_skpg5AsRUq7"
      }
    },
    {
      "cell_type": "code",
      "execution_count": null,
      "metadata": {
        "id": "A8LDgoLxRUBI"
      },
      "outputs": [],
      "source": []
    },
    {
      "cell_type": "markdown",
      "source": [
        "**Q2:**\n",
        "\n",
        "Retrieve the data for the last three rows and last three columns in elections DataFrame.\n"
      ],
      "metadata": {
        "id": "06Uvtuf5Rv90"
      }
    },
    {
      "cell_type": "code",
      "source": [],
      "metadata": {
        "id": "4if3E6GfRthm"
      },
      "execution_count": null,
      "outputs": []
    },
    {
      "cell_type": "markdown",
      "source": [
        "**Q3:**\n",
        "\n",
        "Extract the data for the rows where the \"Year\" column is between 2000 and 2018 (inclusive) and the \"%\" column is greater than 50% from elections DataFrame."
      ],
      "metadata": {
        "id": "irU9Oe_WR4l8"
      }
    },
    {
      "cell_type": "code",
      "source": [],
      "metadata": {
        "id": "KNZ4g-KmSjhm"
      },
      "execution_count": null,
      "outputs": []
    },
    {
      "cell_type": "markdown",
      "source": [
        "**Q4:**\n",
        "\n",
        "Retrieve the data for the first three rows and columns with index positions 1, 3, and 5 in elections DataFrame.\n"
      ],
      "metadata": {
        "id": "FJhaUyZGSkSo"
      }
    },
    {
      "cell_type": "code",
      "source": [],
      "metadata": {
        "id": "XtNGeVXESo2H"
      },
      "execution_count": null,
      "outputs": []
    },
    {
      "cell_type": "markdown",
      "source": [
        "**Q5:**\n",
        "\n",
        "Retrieve the data for every alternate row starting from the second row, and every alternate column starting from the third column, in the DataFrame."
      ],
      "metadata": {
        "id": "d1kOILErStOJ"
      }
    },
    {
      "cell_type": "code",
      "source": [],
      "metadata": {
        "id": "69nD_h_oS0T-"
      },
      "execution_count": null,
      "outputs": []
    },
    {
      "cell_type": "markdown",
      "source": [
        "**Q6:**\n",
        "\n",
        "Select the results of a particular party from year 1988 to 2020 where the % win is greater than 50%."
      ],
      "metadata": {
        "id": "tcSHZ-3fS0v0"
      }
    },
    {
      "cell_type": "code",
      "source": [],
      "metadata": {
        "id": "o0SMsI4gTmlk"
      },
      "execution_count": null,
      "outputs": []
    }
  ]
}