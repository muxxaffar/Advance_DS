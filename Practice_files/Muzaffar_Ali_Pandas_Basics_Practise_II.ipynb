{
  "cells": [
    {
      "cell_type": "code",
      "execution_count": 1,
      "metadata": {
        "id": "6PIse7FRFVO2"
      },
      "outputs": [],
      "source": [
        "%matplotlib inline\n",
        "import matplotlib.pyplot as plt\n",
        "import seaborn as sns\n",
        "import numpy as np\n",
        "import pandas as pd\n",
        "from IPython.display import display\n",
        "from IPython.display import Image\n",
        "sns.set_context(\"notebook\")"
      ]
    },
    {
      "cell_type": "code",
      "execution_count": 4,
      "metadata": {
        "colab": {
          "base_uri": "https://localhost:8080/"
        },
        "id": "61hY5_a-K1bi",
        "outputId": "c92c9405-4629-40a8-ea8c-46e50df92906"
      },
      "outputs": [],
      "source": [
        "#from google.colab import drive\n",
        "#drive.mount('/content/drive')"
      ]
    },
    {
      "cell_type": "markdown",
      "metadata": {
        "id": "Do3KBRcu3Ee2"
      },
      "source": [
        "# Extracting Data and Filtering\n",
        ":The `[]` operator supports array of booleans as an input. In this case, the array must be exactly as long as the number of rows.\n",
        "\n",
        "The result is a **filtered version of the data frame**, where **only rows corresponding to True appear**.\n",
        "\n",
        "# Q1.\n",
        "Select multiple criteria by creating multiple boolean Series and combining them using the `&` operator. For Examole Result is win and %win is more than 50."
      ]
    },
    {
      "cell_type": "code",
      "execution_count": 5,
      "metadata": {
        "id": "n6ahrlX728Fb"
      },
      "outputs": [],
      "source": [
        "elections = pd.read_csv(\"/workspaces/Advance_DS/elections.csv\") # reading a CSV file into a data frame\n",
        " # if we end a cell with an expression or variable name, the result will print\n",
        "# the data frame\n"
      ]
    },
    {
      "cell_type": "code",
      "execution_count": 6,
      "metadata": {
        "colab": {
          "base_uri": "https://localhost:8080/"
        },
        "id": "KF2fqcC8oZdM",
        "outputId": "77485526-9bd4-4757-8a81-12ed70f1c825"
      },
      "outputs": [
        {
          "name": "stdout",
          "output_type": "stream",
          "text": [
            "Result is win and %win is more than 50 : \n",
            "\n",
            "    Candidate       Party     %  Year Result\n",
            "0     Reagan  Republican  50.7  1980    win\n",
            "3     Reagan  Republican  58.8  1984    win\n",
            "5       Bush  Republican  53.4  1988    win\n",
            "16      Bush  Republican  50.7  2004    win\n",
            "17     Obama  Democratic  52.9  2008    win\n",
            "19     Obama  Democratic  51.1  2012    win\n"
          ]
        }
      ],
      "source": [
        "# Result is win and %win is more than 50\n",
        "extract_data = elections[(elections['Result'] == 'win')&(elections['%'] >50)]\n",
        "print('Result is win and %win is more than 50 : \\n\\n',extract_data)"
      ]
    },
    {
      "cell_type": "markdown",
      "metadata": {
        "id": "Qpjba2Q-FVO3"
      },
      "source": [
        "We will nowe work with a dataset containing the names of all babies born in California, USA. Visit the [Social Security Adminisitration Website](https://www.ssa.gov/oact/babynames/limits.html) for more details about the dataset if you want."
      ]
    },
    {
      "cell_type": "markdown",
      "metadata": {
        "id": "8Cy00jhFFVO4"
      },
      "source": [
        "**Let's start by loading the Baby Names dataset.**"
      ]
    },
    {
      "cell_type": "code",
      "execution_count": 7,
      "metadata": {
        "colab": {
          "base_uri": "https://localhost:8080/",
          "height": 520
        },
        "id": "9VAZe6aBFVO4",
        "outputId": "28562233-b1b2-4a70-d44b-7c20493b0824"
      },
      "outputs": [
        {
          "data": {
            "text/html": [
              "<div>\n",
              "<style scoped>\n",
              "    .dataframe tbody tr th:only-of-type {\n",
              "        vertical-align: middle;\n",
              "    }\n",
              "\n",
              "    .dataframe tbody tr th {\n",
              "        vertical-align: top;\n",
              "    }\n",
              "\n",
              "    .dataframe thead th {\n",
              "        text-align: right;\n",
              "    }\n",
              "</style>\n",
              "<table border=\"1\" class=\"dataframe\">\n",
              "  <thead>\n",
              "    <tr style=\"text-align: right;\">\n",
              "      <th></th>\n",
              "      <th>State</th>\n",
              "      <th>Sex</th>\n",
              "      <th>Year</th>\n",
              "      <th>Name</th>\n",
              "      <th>Count</th>\n",
              "    </tr>\n",
              "  </thead>\n",
              "  <tbody>\n",
              "    <tr>\n",
              "      <th>0</th>\n",
              "      <td>CA</td>\n",
              "      <td>F</td>\n",
              "      <td>1910</td>\n",
              "      <td>Mary</td>\n",
              "      <td>295</td>\n",
              "    </tr>\n",
              "    <tr>\n",
              "      <th>1</th>\n",
              "      <td>CA</td>\n",
              "      <td>F</td>\n",
              "      <td>1910</td>\n",
              "      <td>Helen</td>\n",
              "      <td>239</td>\n",
              "    </tr>\n",
              "    <tr>\n",
              "      <th>2</th>\n",
              "      <td>CA</td>\n",
              "      <td>F</td>\n",
              "      <td>1910</td>\n",
              "      <td>Dorothy</td>\n",
              "      <td>220</td>\n",
              "    </tr>\n",
              "    <tr>\n",
              "      <th>3</th>\n",
              "      <td>CA</td>\n",
              "      <td>F</td>\n",
              "      <td>1910</td>\n",
              "      <td>Margaret</td>\n",
              "      <td>163</td>\n",
              "    </tr>\n",
              "    <tr>\n",
              "      <th>4</th>\n",
              "      <td>CA</td>\n",
              "      <td>F</td>\n",
              "      <td>1910</td>\n",
              "      <td>Frances</td>\n",
              "      <td>134</td>\n",
              "    </tr>\n",
              "    <tr>\n",
              "      <th>5</th>\n",
              "      <td>CA</td>\n",
              "      <td>F</td>\n",
              "      <td>1910</td>\n",
              "      <td>Ruth</td>\n",
              "      <td>128</td>\n",
              "    </tr>\n",
              "    <tr>\n",
              "      <th>6</th>\n",
              "      <td>CA</td>\n",
              "      <td>F</td>\n",
              "      <td>1910</td>\n",
              "      <td>Evelyn</td>\n",
              "      <td>126</td>\n",
              "    </tr>\n",
              "    <tr>\n",
              "      <th>7</th>\n",
              "      <td>CA</td>\n",
              "      <td>F</td>\n",
              "      <td>1910</td>\n",
              "      <td>Alice</td>\n",
              "      <td>118</td>\n",
              "    </tr>\n",
              "    <tr>\n",
              "      <th>8</th>\n",
              "      <td>CA</td>\n",
              "      <td>F</td>\n",
              "      <td>1910</td>\n",
              "      <td>Virginia</td>\n",
              "      <td>101</td>\n",
              "    </tr>\n",
              "    <tr>\n",
              "      <th>9</th>\n",
              "      <td>CA</td>\n",
              "      <td>F</td>\n",
              "      <td>1910</td>\n",
              "      <td>Elizabeth</td>\n",
              "      <td>93</td>\n",
              "    </tr>\n",
              "    <tr>\n",
              "      <th>10</th>\n",
              "      <td>CA</td>\n",
              "      <td>F</td>\n",
              "      <td>1910</td>\n",
              "      <td>Florence</td>\n",
              "      <td>93</td>\n",
              "    </tr>\n",
              "    <tr>\n",
              "      <th>11</th>\n",
              "      <td>CA</td>\n",
              "      <td>F</td>\n",
              "      <td>1910</td>\n",
              "      <td>Marie</td>\n",
              "      <td>90</td>\n",
              "    </tr>\n",
              "    <tr>\n",
              "      <th>12</th>\n",
              "      <td>CA</td>\n",
              "      <td>F</td>\n",
              "      <td>1910</td>\n",
              "      <td>Mildred</td>\n",
              "      <td>90</td>\n",
              "    </tr>\n",
              "    <tr>\n",
              "      <th>13</th>\n",
              "      <td>CA</td>\n",
              "      <td>F</td>\n",
              "      <td>1910</td>\n",
              "      <td>Rose</td>\n",
              "      <td>74</td>\n",
              "    </tr>\n",
              "    <tr>\n",
              "      <th>14</th>\n",
              "      <td>CA</td>\n",
              "      <td>F</td>\n",
              "      <td>1910</td>\n",
              "      <td>Hazel</td>\n",
              "      <td>68</td>\n",
              "    </tr>\n",
              "  </tbody>\n",
              "</table>\n",
              "</div>"
            ],
            "text/plain": [
              "   State Sex  Year       Name  Count\n",
              "0     CA   F  1910       Mary    295\n",
              "1     CA   F  1910      Helen    239\n",
              "2     CA   F  1910    Dorothy    220\n",
              "3     CA   F  1910   Margaret    163\n",
              "4     CA   F  1910    Frances    134\n",
              "5     CA   F  1910       Ruth    128\n",
              "6     CA   F  1910     Evelyn    126\n",
              "7     CA   F  1910      Alice    118\n",
              "8     CA   F  1910   Virginia    101\n",
              "9     CA   F  1910  Elizabeth     93\n",
              "10    CA   F  1910   Florence     93\n",
              "11    CA   F  1910      Marie     90\n",
              "12    CA   F  1910    Mildred     90\n",
              "13    CA   F  1910       Rose     74\n",
              "14    CA   F  1910      Hazel     68"
            ]
          },
          "execution_count": 7,
          "metadata": {},
          "output_type": "execute_result"
        }
      ],
      "source": [
        "import urllib.request\n",
        "import os.path\n",
        "import zipfile\n",
        "import pandas as pd\n",
        "\n",
        "data_url = \"https://www.ssa.gov/oact/babynames/state/namesbystate.zip\"\n",
        "local_filename = \"babynamesbystate.zip\"\n",
        "if not os.path.exists(local_filename): # if the data exists don't download again\n",
        "    with urllib.request.urlopen(data_url) as resp, open(local_filename, 'wb') as f:\n",
        "        f.write(resp.read())\n",
        "\n",
        "zf = zipfile.ZipFile(local_filename, 'r')\n",
        "\n",
        "ca_name = 'STATE.CA.TXT'\n",
        "field_names = ['State', 'Sex', 'Year', 'Name', 'Count']\n",
        "with zf.open(ca_name) as fh:\n",
        "    babynames = pd.read_csv(fh, header=None, names=field_names)\n",
        "\n",
        "babynames.head(15)"
      ]
    },
    {
      "cell_type": "markdown",
      "metadata": {
        "id": "6WTNw56KfRA2"
      },
      "source": [
        "# Q2.\n",
        "Calculate the some statics of babynames DataFrame using Utility Functions, like .describe(), .size(), .shape() and report your analysis in comments"
      ]
    },
    {
      "cell_type": "code",
      "execution_count": 8,
      "metadata": {
        "colab": {
          "base_uri": "https://localhost:8080/"
        },
        "id": "WOX88FOSFVO5",
        "outputId": "9a5a4451-04af-48f0-eaff-22e1a951bfad"
      },
      "outputs": [
        {
          "name": "stdout",
          "output_type": "stream",
          "text": [
            "Describe the Babynames DataFrame :\n",
            "\n",
            "                 Year          Count\n",
            "count  407428.000000  407428.000000\n",
            "mean     1985.733609      79.543456\n",
            "std        27.007660     293.698654\n",
            "min      1910.000000       5.000000\n",
            "25%      1969.000000       7.000000\n",
            "50%      1992.000000      13.000000\n",
            "75%      2008.000000      38.000000\n",
            "max      2022.000000    8260.000000\n",
            "\n",
            "Size the Babynames DataFrame : 2037140\n",
            "\n",
            "Shape the Babynames DataFrame : (407428, 5)\n"
          ]
        }
      ],
      "source": [
        "print('Describe the Babynames DataFrame :\\n\\n',babynames.describe())\n",
        "print('\\nSize the Babynames DataFrame :',babynames.size)\n",
        "print('\\nShape the Babynames DataFrame :',babynames.shape)"
      ]
    },
    {
      "cell_type": "markdown",
      "metadata": {
        "id": "SfH7STDBhWC7"
      },
      "source": [
        "# Q.3:\n",
        "\n",
        "Using the babynames DataFrame that contains baby names data for the state of California, how can you use the 'isin' method to find out which records have names that are in a given list of names, such as \"Emma,\" \"Liam,\" and \"Olivia,\" and what would be the output of this operation when applied to the first 15 rows of the DataFrame (babynames.head(15))?"
      ]
    },
    {
      "cell_type": "code",
      "execution_count": 9,
      "metadata": {
        "colab": {
          "base_uri": "https://localhost:8080/"
        },
        "id": "hqBOidu2hpCh",
        "outputId": "da73ed95-dc90-4429-d9d0-f4aa8b45941a"
      },
      "outputs": [
        {
          "name": "stdout",
          "output_type": "stream",
          "text": [
            "Filtered DataFrame: \n",
            "\n",
            "        State Sex  Year    Name  Count\n",
            "53        CA   F  1910    Emma     29\n",
            "293       CA   F  1911    Emma     29\n",
            "525       CA   F  1912    Emma     56\n",
            "701       CA   F  1912  Olivia      8\n",
            "840       CA   F  1913    Emma     56\n",
            "...      ...  ..   ...     ...    ...\n",
            "396005    CA   M  2019    Liam   2401\n",
            "398870    CA   M  2020    Liam   2426\n",
            "401402    CA   M  2020    Emma      5\n",
            "401666    CA   M  2021    Liam   2477\n",
            "404545    CA   M  2022    Liam   2610\n",
            "\n",
            "[283 rows x 5 columns]\n"
          ]
        }
      ],
      "source": [
        "# List of names to check\n",
        "name_list = [\"Emma\", \"Liam\", \"Olivia\"]\n",
        "\n",
        "# Use the isin method to filter records with names in the name_list\n",
        "filtered_df = babynames[babynames['Name'].isin(name_list)]\n",
        "\n",
        "# Display the filtered DataFrame\n",
        "print(\"Filtered DataFrame: \\n\\n\",filtered_df)"
      ]
    },
    {
      "cell_type": "markdown",
      "metadata": {
        "id": "3LdJ07oPinL7"
      },
      "source": [
        "# Q.4:\n",
        "How can you use the 'str.startswith' method in pandas to filter records in a babyname DataFrame? Provide an example code using the babynames DataFrame and explain how this method can be employed to extract data for baby names that begin with 'A' or 'B' set of letters."
      ]
    },
    {
      "cell_type": "code",
      "execution_count": 10,
      "metadata": {
        "colab": {
          "base_uri": "https://localhost:8080/"
        },
        "id": "tVqVmJ4ajln9",
        "outputId": "60ba0a2d-de13-446d-ab84-03caef3c6c66"
      },
      "outputs": [
        {
          "name": "stdout",
          "output_type": "stream",
          "text": [
            "Baby names starting with 'A' OR B: \n",
            "\n",
            "        State Sex  Year     Name  Count\n",
            "7         CA   F  1910    Alice    118\n",
            "23        CA   F  1910  Bernice     59\n",
            "31        CA   F  1910     Anna     51\n",
            "32        CA   F  1910      Ann     47\n",
            "36        CA   F  1910    Betty     40\n",
            "...      ...  ..   ...      ...    ...\n",
            "407125    CA   M  2022   Brando      5\n",
            "407126    CA   M  2022  Braxtyn      5\n",
            "407127    CA   M  2022  Brenden      5\n",
            "407128    CA   M  2022     Brix      5\n",
            "407129    CA   M  2022    Broly      5\n",
            "\n",
            "[61691 rows x 5 columns]\n"
          ]
        }
      ],
      "source": [
        "# Filter rows where the 'Name' column starts with 'A' OR B\n",
        "filtered_df = babynames[(babynames['Name'].str.startswith('A')) | (babynames['Name'].str.startswith('B'))]\n",
        "\n",
        "# Display the filtered DataFrame\n",
        "print(\"Baby names starting with 'A' OR B: \\n\\n\" , filtered_df)\n"
      ]
    },
    {
      "cell_type": "markdown",
      "metadata": {
        "id": "pMQ3UZysFVO6"
      },
      "source": [
        "# Q.5\n",
        "\n",
        "Find the most popular baby name in California in 2012\n",
        "\n",
        "__Exercise__: Try to find the most popular baby name by finding the maximum value for 'Count' and then apply filtering to find the name.\n"
      ]
    },
    {
      "cell_type": "code",
      "execution_count": 11,
      "metadata": {
        "colab": {
          "base_uri": "https://localhost:8080/"
        },
        "id": "hZxRzE-FFVO6",
        "outputId": "876a7600-bf39-47c8-c33e-10995e2a704e"
      },
      "outputs": [
        {
          "name": "stdout",
          "output_type": "stream",
          "text": [
            "Most popular baby name in California in 2012: \n",
            "\n",
            "        State Sex  Year    Name  Count\n",
            "197530    CA   F  2012  Sophia   3644\n"
          ]
        }
      ],
      "source": [
        "# Find the most popular baby name in California in 2012\n",
        "filtered_df = babynames[(babynames['State'] == 'CA') & (babynames['Year'] == 2012)]\n",
        "most_popular_name = filtered_df[filtered_df['Count'] == filtered_df['Count'].max()]\n",
        "\n",
        "# Display the most popular baby name\n",
        "print(\"Most popular baby name in California in 2012: \\n\\n\", most_popular_name)"
      ]
    },
    {
      "cell_type": "markdown",
      "metadata": {
        "id": "oENLC2gLFVO7"
      },
      "source": [
        "# Q. 6\n",
        "Find baby names that start with J, in th Year from 2001 to 2019\n",
        "\n",
        "*Note: To answer this question, we need a way to look at the individual characters of the baby names*"
      ]
    },
    {
      "cell_type": "code",
      "execution_count": 12,
      "metadata": {
        "colab": {
          "base_uri": "https://localhost:8080/"
        },
        "id": "Z2wBuGwyFVO7",
        "outputId": "39fac25f-51c0-4b46-c92f-ecd6cd59cf47"
      },
      "outputs": [
        {
          "name": "stdout",
          "output_type": "stream",
          "text": [
            "Baby names starting with 'J' in the Year from 2001 to 2019: \n",
            "\n",
            "        State Sex  Year         Name  Count\n",
            "152826    CA   F  2001      Jessica   2244\n",
            "152828    CA   F  2001     Jennifer   2027\n",
            "152832    CA   F  2001      Jasmine   1655\n",
            "152847    CA   F  2001   Jacqueline   1195\n",
            "152857    CA   F  2001        Julia    983\n",
            "...      ...  ..   ...          ...    ...\n",
            "398685    CA   M  2019  Joseantonio      5\n",
            "398686    CA   M  2019       Jovian      5\n",
            "398687    CA   M  2019       Jujhar      5\n",
            "398688    CA   M  2019      Jullian      5\n",
            "398689    CA   M  2019         June      5\n",
            "\n",
            "[11276 rows x 5 columns]\n"
          ]
        }
      ],
      "source": [
        "# Note: Series has powerful string manipulation methods associated with it\n",
        "\n",
        "# Filter rows where the 'Name' column starts with 'J'\n",
        "\n",
        "#                     Method # 1\n",
        "\n",
        "# filtered_df = babynames[(babynames['Name'].str.startswith('J')) & (babynames['Year'].between(2001, 2019))]\n",
        "\n",
        "#                     Method # 2\n",
        "\n",
        "filtered_df = babynames[(babynames['Name'].str[0] == 'J') & ((babynames['Year'] >= 2001) & (babynames['Year'] <=2019))]\n",
        "\n",
        "# Display the filtered DataFrame\n",
        "print(\"Baby names starting with 'J' in the Year from 2001 to 2019: \\n\\n\", filtered_df)"
      ]
    },
    {
      "cell_type": "markdown",
      "metadata": {
        "id": "8RiGrIV-mIbP"
      },
      "source": [
        "# Q.7\n",
        "Add a new column called \"name_length\" to the babynames DataFrame, you can use .str.len() in existing Name column. Moreover. also modify the Length values with new values like existing_value-1 and rename the length column with new label as desceribe in slides.\n",
        "\n"
      ]
    },
    {
      "cell_type": "code",
      "execution_count": 13,
      "metadata": {
        "colab": {
          "base_uri": "https://localhost:8080/"
        },
        "id": "bpX-TzecuRpt",
        "outputId": "1b0f4ce5-4f90-473c-ee14-2d4e0641f942"
      },
      "outputs": [
        {
          "name": "stdout",
          "output_type": "stream",
          "text": [
            "Updated DataFrame: \n",
            "\n",
            "        State Sex  Year      Name  Count  name_length\n",
            "0         CA   F  1910      Mary    295            4\n",
            "1         CA   F  1910     Helen    239            5\n",
            "2         CA   F  1910   Dorothy    220            7\n",
            "3         CA   F  1910  Margaret    163            8\n",
            "4         CA   F  1910   Frances    134            7\n",
            "...      ...  ..   ...       ...    ...          ...\n",
            "407423    CA   M  2022   Zayvier      5            7\n",
            "407424    CA   M  2022       Zia      5            3\n",
            "407425    CA   M  2022      Zora      5            4\n",
            "407426    CA   M  2022    Zuriel      5            6\n",
            "407427    CA   M  2022      Zylo      5            4\n",
            "\n",
            "[407428 rows x 6 columns]\n"
          ]
        }
      ],
      "source": [
        "# Calculate the length of each name and add it as a new column \"_length\"\n",
        "babynames['name_length'] = babynames['Name'].str.len()\n",
        "\n",
        "# Display the updated DataFrame\n",
        "print(\"Updated DataFrame: \\n\\n\", babynames)"
      ]
    },
    {
      "cell_type": "code",
      "execution_count": 14,
      "metadata": {
        "colab": {
          "base_uri": "https://localhost:8080/"
        },
        "id": "ttL84sdTxA7A",
        "outputId": "2aa668eb-505e-4787-e96b-0712413623bd"
      },
      "outputs": [
        {
          "name": "stdout",
          "output_type": "stream",
          "text": [
            "Renamed DataFrame: \n",
            "\n",
            "        State Sex  Year      Name  Count  Length\n",
            "0         CA   F  1910      Mary    295       4\n",
            "1         CA   F  1910     Helen    239       5\n",
            "2         CA   F  1910   Dorothy    220       7\n",
            "3         CA   F  1910  Margaret    163       8\n",
            "4         CA   F  1910   Frances    134       7\n",
            "...      ...  ..   ...       ...    ...     ...\n",
            "407423    CA   M  2022   Zayvier      5       7\n",
            "407424    CA   M  2022       Zia      5       3\n",
            "407425    CA   M  2022      Zora      5       4\n",
            "407426    CA   M  2022    Zuriel      5       6\n",
            "407427    CA   M  2022      Zylo      5       4\n",
            "\n",
            "[407428 rows x 6 columns]\n"
          ]
        }
      ],
      "source": [
        "# Rename the \"_length\" column to \"Length\"\n",
        "rename_column_name = babynames.rename(columns={'name_length': 'Length'}, inplace=True)\n",
        "print(\"Renamed DataFrame: \\n\\n\", babynames)"
      ]
    },
    {
      "cell_type": "code",
      "execution_count": null,
      "metadata": {
        "id": "bVzGvaVDv2bD"
      },
      "outputs": [],
      "source": [
        "# Suppose you want to delete the 'Lenght' column\n",
        "# babynames.drop('Length', axis=1, inplace=True)\n",
        "# print(\"Updated DataFrame: \\n\\n\", babynames)"
      ]
    },
    {
      "cell_type": "markdown",
      "metadata": {
        "id": "1S_7ZKySo6CS"
      },
      "source": [
        "# Q.8\n",
        "\n",
        "Use .str.split() to sample the names with 'ad' string and show first 10 samples."
      ]
    },
    {
      "cell_type": "code",
      "execution_count": 15,
      "metadata": {
        "colab": {
          "base_uri": "https://localhost:8080/"
        },
        "id": "6ljvNnGxFVO9",
        "outputId": "58b36a93-aea9-4f19-a2c7-92669e1afb2e"
      },
      "outputs": [
        {
          "name": "stdout",
          "output_type": "stream",
          "text": [
            "Sample DataFrame: \n",
            "\n",
            "        State Sex  Year          Name  Count  Length\n",
            "129415    CA   F  1994       Khadija     12       7\n",
            "337967    CA   M  1998         Ahmad     64       5\n",
            "396933    CA   M  2019           Jad     24       3\n",
            "196860    CA   F  2011  Mariadejesus      6      12\n",
            "400631    CA   M  2020         Hades      9       5\n",
            "174142    CA   F  2006      Madilynn     17       8\n",
            "281316    CA   M  1968         Brady     12       5\n",
            "208254    CA   F  2014        Madina      8       6\n",
            "184917    CA   F  2008         Kadie      5       5\n",
            "228286    CA   F  2019        Jadore      5       6\n"
          ]
        }
      ],
      "source": [
        "# Use .str.split() to sample the names with 'ad' string and show first 10 samples\n",
        "sample_df = babynames[babynames['Name'].str.contains('ad')].sample(10)\n",
        "# Display the sample DataFrame\n",
        "print(\"Sample DataFrame: \\n\\n\", sample_df)"
      ]
    },
    {
      "cell_type": "markdown",
      "metadata": {
        "id": "xpvkVZSmFVO9"
      },
      "source": [
        "More on str methods when we'll study regular expressions in this course. Note that there are other approaches that we can use to find the same answer as above."
      ]
    },
    {
      "cell_type": "code",
      "execution_count": 16,
      "metadata": {
        "colab": {
          "base_uri": "https://localhost:8080/"
        },
        "id": "_Mf-crJ54KFQ",
        "outputId": "c1a31a8d-8d54-4511-e7eb-98f28223a4e2"
      },
      "outputs": [
        {
          "name": "stdout",
          "output_type": "stream",
          "text": [
            "Sample DataFrame: \n",
            "\n",
            "        State Sex  Year      Name  Count  Length\n",
            "127458    CA   F  1993   Radhika      5       7\n",
            "41500     CA   F  1959  Trinidad     10       8\n",
            "392193    CA   M  2017    Madhav      8       6\n",
            "148393    CA   F  1999     Kadie      6       5\n",
            "268982    CA   M  1957   Arcadio      5       7\n",
            "399617    CA   M  2020       Jad     33       3\n",
            "105419    CA   F  1987   Cassady      5       7\n",
            "153054    CA   F  2001   Madelyn    193       7\n",
            "234180    CA   F  2021   Soledad     11       7\n",
            "165126    CA   F  2004   Kadence     49       7\n"
          ]
        }
      ],
      "source": [
        "# Create a boolean mask for rows containing 'ad' in the \"Name\" column\n",
        "mask = babynames['Name'].str.contains('ad')\n",
        "\n",
        "# Use the mask to select rows and sample 10 random rows\n",
        "sample_df = babynames[mask].sample(10)\n",
        "\n",
        "# Display the sample DataFrame\n",
        "print(\"Sample DataFrame: \\n\\n\", sample_df)"
      ]
    },
    {
      "cell_type": "markdown",
      "metadata": {
        "id": "RmQtaxLnFVO9"
      },
      "source": [
        "# Q.9\n",
        " Sort names by their length."
      ]
    },
    {
      "cell_type": "markdown",
      "metadata": {
        "id": "L7kJKsSoFVO9"
      },
      "source": [
        "In the babynames DataFrame, which baby name appears most frequently across all years and states, and how can you use pandas to find this information? Provide the code and steps to determine the most popular baby name in the dataset."
      ]
    },
    {
      "cell_type": "code",
      "execution_count": 17,
      "metadata": {
        "colab": {
          "base_uri": "https://localhost:8080/"
        },
        "id": "y8Zyi2pVqts2",
        "outputId": "38544820-2d4e-4e7f-c960-d572eb2bf40b"
      },
      "outputs": [
        {
          "name": "stdout",
          "output_type": "stream",
          "text": [
            "Most popular baby name:  Michael\n"
          ]
        }
      ],
      "source": [
        "# Group the data by \"Name\" and sum the \"Count\" for each name\n",
        "name_counts = babynames.groupby('Name')['Count'].sum()\n",
        "# print(name_counts)\n",
        "# Find the name with the highest total count\n",
        "most_popular_name = name_counts.idxmax()\n",
        "\n",
        "# Display the most popular name and its count\n",
        "print(\"Most popular baby name: \", most_popular_name)"
      ]
    },
    {
      "cell_type": "markdown",
      "metadata": {
        "id": "C_YBsLEWquYO"
      },
      "source": [
        "# Q.10\n",
        "\n",
        "1: How can you use the .sample() method to randomly select a single row from the babynames DataFrame, and what is the purpose of such a selection?\n",
        "\n",
        "2: Suppose you want to generate a random sample of 10 baby names from the babynames DataFrame. How would you use the .sample() method to achieve this, and what parameters or arguments would you specify?\n",
        "\n",
        "3: In a scenario where you need to ensure reproducibility, explain how you can set a random seed when using the .sample() method in pandas. Why might this be important in certain data analysis tasks?\n",
        "\n",
        "4: You want to perform a bootstrap resampling analysis on the baby names data in the babynames DataFrame. Describe how you can repeatedly sample with replacement using .sample() to create multiple bootstrap samples for statistical analysi"
      ]
    },
    {
      "cell_type": "code",
      "execution_count": 18,
      "metadata": {
        "colab": {
          "base_uri": "https://localhost:8080/"
        },
        "id": "zUuIGtbjq67o",
        "outputId": "08e46d0b-96bb-4074-b140-67bd2eb3228b"
      },
      "outputs": [
        {
          "name": "stdout",
          "output_type": "stream",
          "text": [
            "       State Sex  Year     Name  Count  Length\n",
            "137859    CA   F  1996  Promise      6       7\n",
            "\n",
            "Random sample of 10 baby names :\n",
            "        State Sex  Year     Name  Count  Length\n",
            "223298    CA   F  2018      Ali     10       3\n",
            "308714    CA   M  1986   Taylor    269       6\n",
            "209467    CA   F  2014    Noely      5       5\n",
            "173196    CA   F  2006     Anne     57       4\n",
            "364717    CA   M  2008   Keenan     34       6\n",
            "247066    CA   M  1927  Ygnacio     10       7\n",
            "346134    CA   M  2001     Zack     14       4\n",
            "244096    CA   M  1922     Rene     13       4\n",
            "313295    CA   M  1988   Caesar     37       6\n",
            "43063     CA   F  1960    Dolly     13       5\n",
            "\n",
            "Sampled Data Frame : \n",
            "\n",
            "    A   B\n",
            "8  8  18\n",
            "1  1  11\n",
            "5  5  15\n",
            "0  0  10\n",
            "7  7  17\n"
          ]
        }
      ],
      "source": [
        "# babynames.drop('Length', axis=1, inplace=True)\n",
        "\n",
        "#            ----------  Question 10 - Part 1  ----------\n",
        "\n",
        "# 1: How can you use the .sample() method to randomly select a single row from\n",
        "# the babynames DataFrame, and what is the purpose of such a selection?\n",
        "random_selection = babynames.sample()\n",
        "print(random_selection)\n",
        "\n",
        "# Purpose of .sample method\n",
        "# The most common usage of the pandas .sample() method is to get a sample of random rows from a pandas data frame.\n",
        "\n",
        "#            ----------  Question 10 - Part 2  ----------\n",
        "\n",
        "# 2: Suppose you want to generate a random sample of 10 baby names from the\n",
        "# babynames DataFrame. How would you use the .sample() method to achieve this,\n",
        "# and what parameters or arguments would you specify?\n",
        "\n",
        "random_ten_selection = babynames.sample(10)\n",
        "print('\\nRandom sample of 10 baby names :\\n',random_ten_selection)\n",
        "\n",
        "#            ----------  Question 10 - Part 3  ----------\n",
        "\n",
        "# 3: In a scenario where you need to ensure reproducibility, explain how you\n",
        "# can set a random seed when using the .sample() method in pandas.\n",
        "\n",
        "# Set the random seed\n",
        "random_seed = 42\n",
        "\n",
        "# Creating DataFrame for demonstration\n",
        "data = {'A': range(10), 'B': range(10, 20)}\n",
        "df = pd.DataFrame(data)\n",
        "\n",
        "# Sampling with a random seed\n",
        "sampled_df = df.sample(n=5, random_state=random_seed)\n",
        "\n",
        "print('\\nSampled Data Frame : \\n\\n',sampled_df)\n",
        "\n",
        "\n",
        "# Why might this be important in certain data analysis tasks?\n",
        "\n",
        "# This helps in achieving reproducibility in your data analysis tasks,\n",
        "# which is crucial for ensuring the reliability of your findings, especially in\n",
        "# research or critical decision-making processes.\n",
        "\n",
        "#            ----------  Question 10 - Part 4  ----------\n",
        "\n",
        "# 4th Part\n",
        "# Assuming you have the 'babynames' DataFrame\n",
        "# Set the random seed for reproducibility\n",
        "\n",
        "# Number of bootstrap samples\n",
        "\n",
        "# Sample size (same as the original dataset)\n",
        "\n",
        "# Initialize a list to store bootstrap sample statistics\n",
        "\n",
        "# Perform bootstrapping\n",
        "\n",
        "    # Generate a bootstrap sample with replacement\n",
        "\n",
        "    # Perform your statistical analysis on the bootstrap sample here\n",
        "    # For example, you can calculate the mean, median, or other statistics\n",
        "\n",
        "    # Append the statistic of interest to the list\n"
      ]
    },
    {
      "cell_type": "markdown",
      "metadata": {
        "id": "5O39msrBFVO-"
      },
      "source": [
        "# Q.11\n",
        "1: The code randomly mixes up the list of baby names. Why might someone want to do this, and how could it affect the analysis of the names?\n",
        "\n",
        "2: After mixing, the code figures out how long each baby name is. Why would we care about name lengths, and what can this tell us about the names?\n",
        "\n",
        "3: The code arranges the name lengths from longest to shortest. Why might we want to do this, and what could it help us find in the data?\n",
        "\n",
        "4: The code finds the order of baby names based on their lengths and shows us the first few names in this new order. When might we need to organize names this way, and what might we discover from the first few names in this order?"
      ]
    },
    {
      "cell_type": "code",
      "execution_count": null,
      "metadata": {
        "id": "-lyTRJMeFVO-"
      },
      "outputs": [],
      "source": [
        "#Part1, shuffling can be done using sample(frac=1)\n",
        "\n",
        "\n",
        "#Part2\n",
        "\n",
        "\n",
        "#Part3\n",
        "\n",
        "#Part4\n"
      ]
    }
  ],
  "metadata": {
    "colab": {
      "provenance": []
    },
    "kernelspec": {
      "display_name": "Python 3",
      "language": "python",
      "name": "python3"
    },
    "language_info": {
      "codemirror_mode": {
        "name": "ipython",
        "version": 3
      },
      "file_extension": ".py",
      "mimetype": "text/x-python",
      "name": "python",
      "nbconvert_exporter": "python",
      "pygments_lexer": "ipython3",
      "version": "3.10.13"
    },
    "vscode": {
      "interpreter": {
        "hash": "7a3d88c904243d2c3f246166597f86d1c0a39f3d97496d1fe394945d0c6d436d"
      }
    }
  },
  "nbformat": 4,
  "nbformat_minor": 0
}
