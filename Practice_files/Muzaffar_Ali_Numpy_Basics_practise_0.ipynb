{
  "cells": [
    {
      "cell_type": "code",
      "execution_count": 1,
      "metadata": {
        "id": "YAvC8k1FKC6i"
      },
      "outputs": [],
      "source": [
        "import numpy as np\n",
        "from scipy.stats import skew, kurtosis"
      ]
    },
    {
      "cell_type": "markdown",
      "metadata": {
        "id": "z-ttfWOCWYAD"
      },
      "source": [
        "### Basic Array Creation"
      ]
    },
    {
      "cell_type": "markdown",
      "metadata": {
        "id": "ZksDKlwjHvFV"
      },
      "source": [
        "# Creatation of List\n",
        "How to create Lists in python?"
      ]
    },
    {
      "cell_type": "code",
      "execution_count": 2,
      "metadata": {
        "colab": {
          "base_uri": "https://localhost:8080/"
        },
        "id": "mCgQsxXkF3nb",
        "outputId": "6f3adaae-5226-4436-ed49-ae9337b286ab"
      },
      "outputs": [
        {
          "name": "stdout",
          "output_type": "stream",
          "text": [
            "[1, 2, 3, 4]\n"
          ]
        },
        {
          "data": {
            "text/plain": [
              "array([1, 2, 3, 4])"
            ]
          },
          "execution_count": 2,
          "metadata": {},
          "output_type": "execute_result"
        }
      ],
      "source": [
        "# Create Lists in Python Without Using np\n",
        "a = [1,2,3,4]\n",
        "print(a)\n",
        "\n",
        "# Create Lists in Python Without Using np\n",
        "a = np.array((1,2,3,4))\n",
        "a"
      ]
    },
    {
      "cell_type": "markdown",
      "metadata": {
        "id": "EUmihvpDIAzW"
      },
      "source": [
        "# Type\n",
        "Accuire type of list in python."
      ]
    },
    {
      "cell_type": "code",
      "execution_count": 3,
      "metadata": {
        "colab": {
          "base_uri": "https://localhost:8080/"
        },
        "id": "Aw_RtHvuRkDi",
        "outputId": "deecff94-2748-4121-f85c-1587abd74d8c"
      },
      "outputs": [
        {
          "data": {
            "text/plain": [
              "dtype('int64')"
            ]
          },
          "execution_count": 3,
          "metadata": {},
          "output_type": "execute_result"
        }
      ],
      "source": [
        "a.dtype"
      ]
    },
    {
      "cell_type": "markdown",
      "metadata": {
        "id": "M2TOiuioIc6M"
      },
      "source": [
        "# Creatation of Arrays\n",
        "1.SIMPLE ARRAY CREATION\n",
        "\n",
        "2.CHECKING THE TYPE\n",
        "\n",
        "3.NUMERIC \"TYPE\" OF ELEMENTS OF ARRAYS\n",
        "\n",
        "4.Array dim\n",
        "\n",
        "5.Array Shape\n",
        "\n",
        "6.BYTES PER ELEMENT\n",
        "\n",
        "7.BYTES OF MEMORY USED, How many bytes for one array element\n",
        "\n",
        "8.Total bytes in an Array"
      ]
    },
    {
      "cell_type": "code",
      "execution_count": 5,
      "metadata": {
        "colab": {
          "base_uri": "https://localhost:8080/"
        },
        "id": "uy_hPIW4A4uM",
        "outputId": "97feb3d4-f49e-439f-e6a2-e19db67658fa"
      },
      "outputs": [
        {
          "data": {
            "text/plain": [
              "(array([1, 2, 3, 4, 5]), numpy.ndarray, dtype('int64'), 1, (5,), 8, 40, 40)"
            ]
          },
          "execution_count": 5,
          "metadata": {},
          "output_type": "execute_result"
        }
      ],
      "source": [
        "# Int array\n",
        "# 1. SIMPLE ARRAY CREATION\n",
        "a = np.array((1,2,3,4,5))\n",
        "# 2. CHECKING THE TYPE\n",
        "b = type(a)\n",
        "# 3. NUMERIC \"TYPE\" OF ELEMENTS OF ARRAYS\n",
        "c = a.dtype\n",
        "# 4.Array dim\n",
        "d = a.ndim\n",
        "# 5.Array Shape\n",
        "e = a.shape\n",
        "# 6.BYTES PER ELEMENT\n",
        "f = a.itemsize\n",
        "# 7.BYTES OF MEMORY USED, How many bytes for one array element\n",
        "g = a.nbytes\n",
        "# 8.Total bytes in an Array\n",
        "h = a.size * a.itemsize\n",
        "\n",
        "#Print All Values \n",
        "a,b,c,d,e,f,g,h"
      ]
    },
    {
      "cell_type": "code",
      "execution_count": 6,
      "metadata": {
        "colab": {
          "base_uri": "https://localhost:8080/"
        },
        "id": "tf9pmYpYLuEu",
        "outputId": "d7c6d1bb-3eeb-41b9-e89b-2d6f676eec2e"
      },
      "outputs": [
        {
          "data": {
            "text/plain": [
              "(array([1.5, 2.2, 3.3, 4.4, 5.5]),\n",
              " numpy.ndarray,\n",
              " dtype('float64'),\n",
              " 1,\n",
              " (5,),\n",
              " 8,\n",
              " 40,\n",
              " 40)"
            ]
          },
          "execution_count": 6,
          "metadata": {},
          "output_type": "execute_result"
        }
      ],
      "source": [
        "# Decimal array\n",
        "# 1. SIMPLE ARRAY CREATION\n",
        "a = np.array((1.5,2.2,3.3,4.4,5.5))\n",
        "# 2. CHECKING THE TYPE\n",
        "b = type(a)\n",
        "# 3. NUMERIC \"TYPE\" OF ELEMENTS OF ARRAYS\n",
        "c = a.dtype\n",
        "# 4.Array dim\n",
        "d = a.ndim\n",
        "# 5.Array Shape\n",
        "e = a.shape\n",
        "# 6.BYTES PER ELEMENT\n",
        "f = a.itemsize\n",
        "# 7.BYTES OF MEMORY USED, How many bytes for one array element\n",
        "g = a.nbytes\n",
        "# 8.Total bytes in an Array\n",
        "h = a.size * a.itemsize\n",
        "\n",
        "#Print All Values \n",
        "a,b,c,d,e,f,g,h"
      ]
    },
    {
      "cell_type": "markdown",
      "metadata": {
        "id": "czi-ntWzFJ0M"
      },
      "source": [
        "9.Try to assign a float into an int32\n",
        "\n",
        "10.Use .fill function # fill has the same behavior\n"
      ]
    },
    {
      "cell_type": "code",
      "execution_count": 7,
      "metadata": {
        "colab": {
          "base_uri": "https://localhost:8080/"
        },
        "id": "5r2iCLhHFq_-",
        "outputId": "bae1a509-30cd-4cf2-d06d-fb6e4c537f0e"
      },
      "outputs": [
        {
          "data": {
            "text/plain": [
              "array([14, 14, 14, 14, 14, 14], dtype=int32)"
            ]
          },
          "execution_count": 7,
          "metadata": {},
          "output_type": "execute_result"
        }
      ],
      "source": [
        "# 9.Try to assign a float into an int32\n",
        "a = np.array((1,2,3,4,5,6)).astype(\"int32\")\n",
        "a[:] = 14.6\n",
        "a"
      ]
    },
    {
      "cell_type": "code",
      "execution_count": 8,
      "metadata": {
        "colab": {
          "base_uri": "https://localhost:8080/"
        },
        "id": "DDSQRUQ_415Y",
        "outputId": "815791a3-c23c-4985-962a-214c6e72cb66"
      },
      "outputs": [
        {
          "data": {
            "text/plain": [
              "array([2, 2, 2, 2, 2, 2], dtype=int32)"
            ]
          },
          "execution_count": 8,
          "metadata": {},
          "output_type": "execute_result"
        }
      ],
      "source": [
        "# 10.Use .fill function # fill has the same behavior\n",
        "a.fill(2.4)\n",
        "a"
      ]
    },
    {
      "cell_type": "markdown",
      "metadata": {
        "id": "UK4-Grt0F8_k"
      },
      "source": [
        "11.Add two  arrays\n",
        "\n",
        "12.Multiple both arrays\n",
        "\n",
        "13.Use ** operator in array operation\n",
        "\n",
        "14.Create array from 0.0 to 11.0\n",
        "\n",
        "15.Multiply entire array with a scalar value\n",
        " c = (2.0 * np.pi)\n",
        "\n",
        "16.Use np.arrange function tocreate an array with step of from 1.0 to 3.0"
      ]
    },
    {
      "cell_type": "code",
      "execution_count": 9,
      "metadata": {
        "colab": {
          "base_uri": "https://localhost:8080/"
        },
        "id": "1cRgGYTdGayU",
        "outputId": "7e9f98be-a5e0-49b0-92f8-5c8104e58ac3"
      },
      "outputs": [
        {
          "data": {
            "text/plain": [
              "array([ 6,  8, 10, 12])"
            ]
          },
          "execution_count": 9,
          "metadata": {},
          "output_type": "execute_result"
        }
      ],
      "source": [
        "# 11.Add two  arrays\n",
        "a = np.array((1,2,3,4))\n",
        "b = np.array((5,6,7,8))\n",
        "c = a + b\n",
        "c\n"
      ]
    },
    {
      "cell_type": "code",
      "execution_count": 10,
      "metadata": {
        "colab": {
          "base_uri": "https://localhost:8080/"
        },
        "id": "CudMO1TI6S3r",
        "outputId": "5f3bee5b-2f62-484c-d033-40a7ea0dcf64"
      },
      "outputs": [
        {
          "data": {
            "text/plain": [
              "array([ 5, 12, 21, 32])"
            ]
          },
          "execution_count": 10,
          "metadata": {},
          "output_type": "execute_result"
        }
      ],
      "source": [
        "# 12.Multiple both arrays\n",
        "a = np.array((1,2,3,4))\n",
        "b = np.array((5,6,7,8))\n",
        "c = a * b\n",
        "c\n"
      ]
    },
    {
      "cell_type": "code",
      "execution_count": 11,
      "metadata": {
        "colab": {
          "base_uri": "https://localhost:8080/"
        },
        "id": "lmhQkeFx6VFm",
        "outputId": "00796fbd-1b5a-4a98-a837-9273db4d7f5b"
      },
      "outputs": [
        {
          "data": {
            "text/plain": [
              "array([    1,    64,  2187, 65536])"
            ]
          },
          "execution_count": 11,
          "metadata": {},
          "output_type": "execute_result"
        }
      ],
      "source": [
        "# 13.Use ** operator in array operation\n",
        "a = np.array((1,2,3,4))\n",
        "b = np.array((5,6,7,8))\n",
        "c = a ** b\n",
        "c\n"
      ]
    },
    {
      "cell_type": "code",
      "execution_count": 12,
      "metadata": {
        "colab": {
          "base_uri": "https://localhost:8080/"
        },
        "id": "0Dco2U276g7d",
        "outputId": "aa6d8af6-e84e-4a2a-a71a-9ddce54c0ab6"
      },
      "outputs": [
        {
          "data": {
            "text/plain": [
              "array([ 0.,  1.,  2.,  3.,  4.,  5.,  6.,  7.,  8.,  9., 10.])"
            ]
          },
          "execution_count": 12,
          "metadata": {},
          "output_type": "execute_result"
        }
      ],
      "source": [
        "# 14.Create array from 0.0 to 11.0\n",
        "a = np.arange(0.0,11.0)\n",
        "a"
      ]
    },
    {
      "cell_type": "code",
      "execution_count": 13,
      "metadata": {
        "colab": {
          "base_uri": "https://localhost:8080/"
        },
        "id": "U38vrLt76nM5",
        "outputId": "ea553d69-9921-4ee5-ac47-8879abdbe6a2"
      },
      "outputs": [
        {
          "data": {
            "text/plain": [
              "array([ 6.28318531, 12.56637061, 18.84955592, 25.13274123])"
            ]
          },
          "execution_count": 13,
          "metadata": {},
          "output_type": "execute_result"
        }
      ],
      "source": [
        "# 15.Multiply entire array with a scalar value\n",
        "b = np.array((1,2,3,4))\n",
        "c = (2.0 * np.pi)\n",
        "d = b * c\n",
        "d"
      ]
    },
    {
      "cell_type": "code",
      "execution_count": 14,
      "metadata": {
        "colab": {
          "base_uri": "https://localhost:8080/"
        },
        "id": "0DTSLloN7AXL",
        "outputId": "47086640-a471-4d51-ad11-3933bf5885c3"
      },
      "outputs": [
        {
          "data": {
            "text/plain": [
              "array([1. , 1.5, 2. , 2.5])"
            ]
          },
          "execution_count": 14,
          "metadata": {},
          "output_type": "execute_result"
        }
      ],
      "source": [
        "# 16.Use np.arrange function to create an array with step of from 1.0 to 3.0\n",
        "a = np.arange(1.0,3.0,0.5)\n",
        "a"
      ]
    },
    {
      "cell_type": "markdown",
      "metadata": {
        "id": "60fA9aHmI0g_"
      },
      "source": [
        "# Slicing\n",
        "var[lower:upper:step]\n",
        "• Extracts a portion of a sequence by specifying a lower and upper bound.\n",
        "\n",
        "• The lower-bound element is included, but the upper-bound element is not included.\n",
        "\n",
        "• Mathematically: [lower, upper). The step value specifies the stride between elements.\n",
        "\n",
        "1. Etract array indices from 1 to 3:\n",
        "2. Use negative indices as well\n",
        "3. Omitted boundaries are assumed to be the beginning (or end) of the array grab first three elements\n",
        "4. Grab last two elements\n",
        "5. Grab every other element\n",
        "6. slicing the last two elements returns the data there\n",
        "7. Can we insert an iterable of length two? or a scalar value\n",
        "8.Arrays created by slicing share data with the originating array. Changing values in a slice also changes the original array.\n",
        "For example create a slice containing two elements of a changing b changed a! Have an experiment\n",
        "9. if an array a = [[0, 1, 2, 3, 4],[1, 2, 3, 4, 5]] extract values from row 3 to onward and from col 0, 2 and 5\n",
        "10. Perform some masking on a = np.arange(0,36).reshape(6,6)\n",
        "with mask = np.array([1, 0, 1, 0, 0, 1])\n"
      ]
    },
    {
      "cell_type": "code",
      "execution_count": 15,
      "metadata": {
        "colab": {
          "base_uri": "https://localhost:8080/"
        },
        "id": "CVqexfEBMB-w",
        "outputId": "0f193931-a4ad-494f-e897-cf00f882aece"
      },
      "outputs": [
        {
          "data": {
            "text/plain": [
              "array([2, 3, 4])"
            ]
          },
          "execution_count": 15,
          "metadata": {},
          "output_type": "execute_result"
        }
      ],
      "source": [
        "# 1. Etract array indices from 1 to 3:\n",
        "a = np.arange(1,11)\n",
        "a[1:4]"
      ]
    },
    {
      "cell_type": "code",
      "execution_count": 16,
      "metadata": {
        "colab": {
          "base_uri": "https://localhost:8080/"
        },
        "id": "0Zwl0mVd7cuH",
        "outputId": "fc1e2066-da0c-42cf-b295-d1e90e842224"
      },
      "outputs": [
        {
          "data": {
            "text/plain": [
              "array([ 8,  9, 10])"
            ]
          },
          "execution_count": 16,
          "metadata": {},
          "output_type": "execute_result"
        }
      ],
      "source": [
        "# 2. Use negative indices as well\n",
        "a = np.arange(1,11)\n",
        "a[-3:]"
      ]
    },
    {
      "cell_type": "code",
      "execution_count": 17,
      "metadata": {
        "colab": {
          "base_uri": "https://localhost:8080/"
        },
        "id": "ASw3EErV82mU",
        "outputId": "8953e14f-ea06-4aec-d373-3148736c9c5a"
      },
      "outputs": [
        {
          "data": {
            "text/plain": [
              "array([1, 2, 3])"
            ]
          },
          "execution_count": 17,
          "metadata": {},
          "output_type": "execute_result"
        }
      ],
      "source": [
        "# 3. Omitted boundaries are assumed to be the beginning (or end) of the array grab first three elements\n",
        "a = np.arange(1,11)\n",
        "a[:3]"
      ]
    },
    {
      "cell_type": "code",
      "execution_count": 18,
      "metadata": {
        "colab": {
          "base_uri": "https://localhost:8080/"
        },
        "id": "LMZL-23n9I_-",
        "outputId": "c8885f6f-b4c2-473d-8023-2a49e571aca0"
      },
      "outputs": [
        {
          "data": {
            "text/plain": [
              "array([ 9, 10])"
            ]
          },
          "execution_count": 18,
          "metadata": {},
          "output_type": "execute_result"
        }
      ],
      "source": [
        "# 4. Grab last two elements\n",
        "a = np.arange(1,11)\n",
        "a[-2:]"
      ]
    },
    {
      "cell_type": "code",
      "execution_count": 19,
      "metadata": {
        "colab": {
          "base_uri": "https://localhost:8080/"
        },
        "id": "BilVotl79NhG",
        "outputId": "fc4d56d3-607a-454a-c867-82f6744ddf58"
      },
      "outputs": [
        {
          "data": {
            "text/plain": [
              "array([1, 3, 5, 7, 9])"
            ]
          },
          "execution_count": 19,
          "metadata": {},
          "output_type": "execute_result"
        }
      ],
      "source": [
        "# 5. Grab every other element\n",
        "a = np.arange(1,11)\n",
        "a[::2]"
      ]
    },
    {
      "cell_type": "code",
      "execution_count": 20,
      "metadata": {
        "colab": {
          "base_uri": "https://localhost:8080/"
        },
        "id": "BPfFgQjY-Bt6",
        "outputId": "59e7cd0c-1bdb-4cea-be10-8d9ebfb1578d"
      },
      "outputs": [
        {
          "data": {
            "text/plain": [
              "array([ 9, 10])"
            ]
          },
          "execution_count": 20,
          "metadata": {},
          "output_type": "execute_result"
        }
      ],
      "source": [
        "# 6. slicing the last two elements returns the data there\n",
        "a = np.arange(1,11)\n",
        "a[-2:]\n"
      ]
    },
    {
      "cell_type": "code",
      "execution_count": 21,
      "metadata": {
        "colab": {
          "base_uri": "https://localhost:8080/"
        },
        "id": "LgbrM3oM-vls",
        "outputId": "907d3173-3617-440f-d517-dd1439e40840"
      },
      "outputs": [
        {
          "data": {
            "text/plain": [
              "array([2, 3])"
            ]
          },
          "execution_count": 21,
          "metadata": {},
          "output_type": "execute_result"
        }
      ],
      "source": [
        "# 7. Can we insert an iterable of length two? or a scalar value\n",
        "a = np.arange(1,11)\n",
        "a[[1,2]]"
      ]
    },
    {
      "cell_type": "code",
      "execution_count": 22,
      "metadata": {
        "colab": {
          "base_uri": "https://localhost:8080/"
        },
        "id": "gOScRskg_Q6Z",
        "outputId": "e6ead489-b83a-455a-bb6b-4fee58b4a7e0"
      },
      "outputs": [
        {
          "data": {
            "text/plain": [
              "array([  1, 100,   3,   4,   5,   6,   7,   8,   9,  10])"
            ]
          },
          "execution_count": 22,
          "metadata": {},
          "output_type": "execute_result"
        }
      ],
      "source": [
        "# 8.Arrays created by slicing share data with the originating array. Changing values in a slice also changes the original array.\n",
        "# For example create a slice containing two elements of a changing b changed a! Have an experiment\n",
        "a = np.arange(1,11)\n",
        "b = a[1:3]\n",
        "b[0] = 100\n",
        "a"
      ]
    },
    {
      "cell_type": "code",
      "execution_count": 25,
      "metadata": {
        "colab": {
          "base_uri": "https://localhost:8080/"
        },
        "id": "30Ml5veRXWzW",
        "outputId": "975a8502-3729-412f-c920-e4f141e75b61"
      },
      "outputs": [
        {
          "ename": "IndexError",
          "evalue": "too many indices for array: array is 1-dimensional, but 2 were indexed",
          "output_type": "error",
          "traceback": [
            "\u001b[0;31m---------------------------------------------------------------------------\u001b[0m",
            "\u001b[0;31mIndexError\u001b[0m                                Traceback (most recent call last)",
            "Cell \u001b[0;32mIn[25], line 2\u001b[0m\n\u001b[1;32m      1\u001b[0m \u001b[38;5;66;03m# 2D-Array Slicing\u001b[39;00m\n\u001b[0;32m----> 2\u001b[0m \u001b[43ma\u001b[49m\u001b[43m[\u001b[49m\u001b[38;5;241;43m-\u001b[39;49m\u001b[38;5;241;43m2\u001b[39;49m\u001b[43m:\u001b[49m\u001b[38;5;241;43m-\u001b[39;49m\u001b[38;5;241;43m1\u001b[39;49m\u001b[43m,\u001b[49m\u001b[38;5;241;43m2\u001b[39;49m\u001b[43m:\u001b[49m\u001b[38;5;241;43m4\u001b[39;49m\u001b[43m]\u001b[49m\n\u001b[1;32m      3\u001b[0m \u001b[38;5;66;03m# arr[start_row:end_row, start_col:end_col]\u001b[39;00m\n",
            "\u001b[0;31mIndexError\u001b[0m: too many indices for array: array is 1-dimensional, but 2 were indexed"
          ]
        }
      ],
      "source": [
        "# 2D-Array Slicing\n",
        "a[-2:-1,2:4]\n",
        "# arr[start_row:end_row, start_col:end_col]"
      ]
    },
    {
      "cell_type": "code",
      "execution_count": 26,
      "metadata": {
        "colab": {
          "base_uri": "https://localhost:8080/"
        },
        "id": "Qm_HzwmiYRND",
        "outputId": "3194b443-9333-4314-8a5b-423ff3045017"
      },
      "outputs": [
        {
          "name": "stdout",
          "output_type": "stream",
          "text": [
            "[[[ 1  2  3  4]\n",
            "  [ 5  6  7  8]\n",
            "  [ 9 10 11 12]\n",
            "  [13 14 15 16]]\n",
            "\n",
            " [[17 18 19 20]\n",
            "  [21 22 23 24]\n",
            "  [25 26 27 28]\n",
            "  [29 30 31 32]]\n",
            "\n",
            " [[33 34 35 36]\n",
            "  [37 38 39 40]\n",
            "  [41 42 43 44]\n",
            "  [45 46 47 48]]]\n"
          ]
        },
        {
          "data": {
            "text/plain": [
              "array([[[ 6,  7],\n",
              "        [10, 11]],\n",
              "\n",
              "       [[22, 23],\n",
              "        [26, 27]],\n",
              "\n",
              "       [[38, 39],\n",
              "        [42, 43]]])"
            ]
          },
          "execution_count": 26,
          "metadata": {},
          "output_type": "execute_result"
        }
      ],
      "source": [
        "# 3D-Array Slicing\n",
        "threeD = np.array(range(1, 49)).reshape(3, 4, 4)\n",
        "print(threeD)\n",
        "threeD[:,1:3,1:3]"
      ]
    },
    {
      "cell_type": "code",
      "execution_count": 27,
      "metadata": {
        "colab": {
          "base_uri": "https://localhost:8080/"
        },
        "id": "e5oX1LEeBJY1",
        "outputId": "dc4c8638-234d-4b2c-ed60-c636d6d1d5f7"
      },
      "outputs": [
        {
          "name": "stdout",
          "output_type": "stream",
          "text": [
            "[[ 0  1  2  3  4  5]\n",
            " [ 6  7  8  9 10 11]\n",
            " [12 13 14 15 16 17]\n",
            " [18 19 20 21 22 23]\n",
            " [24 25 26 27 28 29]\n",
            " [30 31 32 33 34 35]]\n",
            "[[12 17 14]\n",
            " [18 23 20]\n",
            " [24 29 26]\n",
            " [30 35 32]]\n"
          ]
        }
      ],
      "source": [
        "# 9. if an array a = [[0, 1, 2, 3, 4],[1, 2, 3, 4, 5]] extract values from row 3 to onward and from col 0, 2 and 5\n",
        "a = np.arange(0,36).reshape(6,6)\n",
        "print(a)\n",
        "print(a[2:,[0,5,2]])"
      ]
    },
    {
      "cell_type": "code",
      "execution_count": 28,
      "metadata": {
        "colab": {
          "base_uri": "https://localhost:8080/"
        },
        "id": "XWxGqoVbC5Ls",
        "outputId": "06bb9ff9-5780-4a01-bbf0-83a97421d827"
      },
      "outputs": [
        {
          "name": "stdout",
          "output_type": "stream",
          "text": [
            "[[ 0  1  2  3  4  5]\n",
            " [ 6  7  8  9 10 11]\n",
            " [12 13 14 15 16 17]\n",
            " [18 19 20 21 22 23]\n",
            " [24 25 26 27 28 29]\n",
            " [30 31 32 33 34 35]]\n"
          ]
        },
        {
          "data": {
            "text/plain": [
              "array([ 0,  2,  5,  6,  8, 11, 12, 14, 17, 18, 20, 23, 24, 26, 28, 29, 30,\n",
              "       32, 35])"
            ]
          },
          "execution_count": 28,
          "metadata": {},
          "output_type": "execute_result"
        }
      ],
      "source": [
        "# 10. Perform some masking on a = np.arange(0,36).reshape(6,6)\n",
        "# with mask = np.array([1, 0, 1, 0, 0, 1])\n",
        "a = np.arange(0,36).reshape(6,6)\n",
        "mask = np.array([1, 0, 1, 0, 0, 1])\n",
        "print(a)\n",
        "# print(a[mask])\n",
        "# a[[1,0,1,0,0,1]]\n",
        "\n",
        "a[[[True, False, True, False, False, True],\n",
        "[True, False, True, False, False, True],\n",
        "[True, False, True, False, False, True],\n",
        "[True, False, True, False, False, True],\n",
        "[True, False, True, False, True, True],\n",
        "[True, False, True, False, False, True]]]"
      ]
    },
    {
      "cell_type": "markdown",
      "metadata": {
        "id": "WSHrRcoQN0Mu"
      },
      "source": [
        "# Array Functions\n",
        "1.Arange([start,] stop[, step],dtype=None)\n",
        "Nearly identical to Python’s range(). Creates an array of values in the range [start,stop) with the specified step value. Allows non-integer values for start, stop, and step. Default dtype is derived from the start, stop, and step values. create an array with arange.\n",
        "\n",
        "2.Create arrays with ONES, ZEROS, shape is a number or sequence specifying the dimensions of the array. If dtype is not specified, it defaults to float64.\n",
        "\n",
        "3.Generate an n by n identity array. The default dtype is float64.\n",
        "\n",
        "4.use empty, full, and fill, max, min, std, mean, var, argmax, linspace\n",
        "\n",
        "5.\n",
        "\n",
        "  Rule 1:\n",
        "  Operations between multiple array objects are first checked for proper shape match.\n",
        "\n",
        "  Rule 2:\n",
        "  Mathematical operators (+ - * / exp, log, ...) apply element by element, on the values.\n",
        "\n",
        "  Rule 3:\n",
        "  Reduction operations (mean, std, skew, kurt, sum, prod, ...) apply to the whole array, unless an axis is specified.\n",
        "\n",
        "  Rule 4:\n",
        "  Missing values propagate unless explicitly ignored (nanmean, nansum, ...).\n",
        "\n",
        "6.\n",
        "Create the array below with\n",
        "                  a = np.arange(-15, 15).reshape(5, 6) ** 2\n",
        "1. The maximum of each row\n",
        "2. The mean of each column\n",
        "3. The position of the overall minimum\n"
      ]
    },
    {
      "cell_type": "code",
      "execution_count": 29,
      "metadata": {
        "colab": {
          "base_uri": "https://localhost:8080/"
        },
        "id": "-JEUK-2BU_L2",
        "outputId": "17119e41-585a-45c5-e535-7f2ba12e6b36"
      },
      "outputs": [
        {
          "data": {
            "text/plain": [
              "array([1., 3., 5., 7., 9.])"
            ]
          },
          "execution_count": 29,
          "metadata": {},
          "output_type": "execute_result"
        }
      ],
      "source": [
        "# 1.Arange([start,] stop[, step],dtype=None)\n",
        "# Nearly identical to Python’s range(). Creates an array of values in the range [start,stop) with the specified step value.\n",
        "# Allows non-integer values for start, stop, and step. Default dtype is derived from the start, stop, and step values. create an array with arange.\n",
        "\n",
        "a = np.arange(1, 10.1, 2)\n",
        "a"
      ]
    },
    {
      "cell_type": "code",
      "execution_count": 30,
      "metadata": {
        "colab": {
          "base_uri": "https://localhost:8080/"
        },
        "id": "4PR9iTlNsRxY",
        "outputId": "e0b86dd3-48c0-4264-9aa0-df9a4313bf75"
      },
      "outputs": [
        {
          "name": "stdout",
          "output_type": "stream",
          "text": [
            "Ones Array:\n",
            "[[1. 1. 1. 1.]\n",
            " [1. 1. 1. 1.]\n",
            " [1. 1. 1. 1.]]\n",
            "\n",
            "Zeros Array:\n",
            "[[0. 0. 0. 0.]\n",
            " [0. 0. 0. 0.]\n",
            " [0. 0. 0. 0.]]\n"
          ]
        }
      ],
      "source": [
        "# 2.Create arrays with ONES, ZEROS, shape is a number or sequence specifying the dimensions of the array. If dtype is not specified, it defaults to float64.\n",
        "shape = (3, 4)  # Specify the shape of the array\n",
        "ones_array = np.ones(shape)\n",
        "zeros_array = np.zeros(shape)\n",
        "\n",
        "print(\"Ones Array:\")\n",
        "print(ones_array)\n",
        "\n",
        "print(\"\\nZeros Array:\")\n",
        "print(zeros_array)"
      ]
    },
    {
      "cell_type": "code",
      "execution_count": 31,
      "metadata": {
        "colab": {
          "base_uri": "https://localhost:8080/"
        },
        "id": "xvJAobFA1uSg",
        "outputId": "db2c4b9f-cca0-474c-ea58-01374d682428"
      },
      "outputs": [
        {
          "name": "stdout",
          "output_type": "stream",
          "text": [
            "Ones Array: \n",
            "\n",
            " [[1. 0. 0. 0.]\n",
            " [0. 1. 0. 0.]\n",
            " [0. 0. 1. 0.]\n",
            " [0. 0. 0. 1.]]\n"
          ]
        }
      ],
      "source": [
        "# 3.Generate an n by n identity array. The default dtype is float64.\n",
        "n = 4\n",
        "identity_array = np.identity(n)\n",
        "print(\"Ones Array: \\n\\n\", identity_array)\n",
        "# print(identity_array)"
      ]
    },
    {
      "cell_type": "code",
      "execution_count": 32,
      "metadata": {
        "colab": {
          "base_uri": "https://localhost:8080/"
        },
        "id": "N_SsPL5N2nJW",
        "outputId": "ff1c2947-b64c-4f57-b674-73d71f7d4382"
      },
      "outputs": [
        {
          "name": "stdout",
          "output_type": "stream",
          "text": [
            "Empty Array: \n",
            "\n",
            " [[1. 1.]\n",
            " [1. 1.]]\n",
            "\n",
            "Full Array: \n",
            "\n",
            " [[7 7]\n",
            " [7 7]]\n",
            "\n",
            "Fill Array: \n",
            "\n",
            " [[5 5]\n",
            " [5 5]]\n",
            "\n",
            "Max Value:  5\n",
            "\n",
            "Min Value:  1\n",
            "\n",
            "Std Value:  1.479019945774904\n",
            "\n",
            "Mean Value:  3.25\n",
            "\n",
            "Var Value:  2.1875\n",
            "\n",
            "Argmax Value:  2\n",
            "\n",
            "Linspace Array:  [ 1.    3.25  5.5   7.75 10.  ]\n"
          ]
        }
      ],
      "source": [
        "# 4.use empty, full, and fill, max, min, std, mean, var, argmax, linspace\n",
        "# Empty\n",
        "empty_array = np.empty((2, 2))\n",
        "print(\"Empty Array: \\n\\n\", empty_array)\n",
        "\n",
        "# Full\n",
        "full_array = np.full((2, 2), 7)\n",
        "print(\"\\nFull Array: \\n\\n\", full_array)\n",
        "\n",
        "# Fill\n",
        "fill_array = np.full((2, 2), 7)\n",
        "fill_array.fill(5)\n",
        "print(\"\\nFill Array: \\n\\n\", fill_array)\n",
        "\n",
        "# Max\n",
        "max_array = np.array([1, 5, 3, 4])\n",
        "max_value = np.max(max_array)\n",
        "print(\"\\nMax Value: \", max_value)\n",
        "\n",
        "# Min\n",
        "min_array = np.array([1, 5, 3, 4])\n",
        "min_value = np.min(min_array)\n",
        "print(\"\\nMin Value: \", min_value)\n",
        "\n",
        "# Std\n",
        "std_array = np.array([1, 5, 3, 4])\n",
        "std_value = np.std(std_array)\n",
        "print(\"\\nStd Value: \", std_value)\n",
        "\n",
        "# Mean\n",
        "mean_array = np.array([1, 5, 3, 4])\n",
        "mean_value = np.mean(mean_array)\n",
        "print(\"\\nMean Value: \", mean_value)\n",
        "\n",
        "# Var\n",
        "var_array = np.array([1, 5, 3, 4])\n",
        "var_value = np.var(var_array)\n",
        "print(\"\\nVar Value: \", var_value)\n",
        "\n",
        "# Argmax\n",
        "argmax_array = np.array([1, 5, 10, 4])\n",
        "argmax_value = np.argmax(argmax_array)\n",
        "print(\"\\nArgmax Value: \", argmax_value)\n",
        "\n",
        "# Linspace\n",
        "linspace_array = np.linspace(1, 10, 5)\n",
        "print(\"\\nLinspace Array: \", linspace_array)"
      ]
    },
    {
      "cell_type": "code",
      "execution_count": 33,
      "metadata": {
        "id": "Oc7ZX1a2gw5I"
      },
      "outputs": [
        {
          "data": {
            "text/plain": [
              "array([ 1.  ,  3.25,  5.5 ,  7.75, 10.  ])"
            ]
          },
          "execution_count": 33,
          "metadata": {},
          "output_type": "execute_result"
        }
      ],
      "source": [
        "arra = np.arange(1,11,2.25)\n",
        "arra"
      ]
    },
    {
      "cell_type": "code",
      "execution_count": 34,
      "metadata": {
        "colab": {
          "base_uri": "https://localhost:8080/"
        },
        "id": "QcvHtpJq31kK",
        "outputId": "44961bf1-2aac-4800-877f-7f2f28bd7da0"
      },
      "outputs": [],
      "source": [
        "# 5.\n",
        "\n",
        "  # Rule 1:\n",
        "  # Operations between multiple array objects are first checked for proper shape match.\n",
        "\n",
        "array1 = np.array([[1, 2, 3],\n",
        "                   [4, 5, 6]])\n",
        "\n",
        "array2 = np.array([[7, 8, 9],\n",
        "                   [10, 11, 12]])\n",
        "\n",
        "array3 = np\n"
      ]
    },
    {
      "cell_type": "code",
      "execution_count": 35,
      "metadata": {
        "colab": {
          "base_uri": "https://localhost:8080/"
        },
        "id": "Ps7m61OV7cmJ",
        "outputId": "b607ecfc-9393-496f-f9df-e035e86e525d"
      },
      "outputs": [
        {
          "name": "stdout",
          "output_type": "stream",
          "text": [
            "\n",
            "Array Addition:\n",
            "\n",
            " [[ 8 10 12]\n",
            " [14 16 18]]\n",
            "\n",
            "Array Subtraction:\n",
            "\n",
            " [[-6 -6 -6]\n",
            " [-6 -6 -6]]\n",
            "\n",
            "Array Multiplication:\n",
            "\n",
            " [[ 7 16 27]\n",
            " [40 55 72]]\n",
            "\n",
            "Array Division:\n",
            "\n",
            " [[0.14285714 0.25       0.33333333]\n",
            " [0.4        0.45454545 0.5       ]]\n",
            "\n",
            "Array Exponential:\n",
            "\n",
            " [[  2.71828183   7.3890561   20.08553692]\n",
            " [ 54.59815003 148.4131591  403.42879349]]\n",
            "\n",
            "Array Logarithm:\n",
            "\n",
            " [[1.94591015 2.07944154 2.19722458]\n",
            " [2.30258509 2.39789527 2.48490665]]\n"
          ]
        }
      ],
      "source": [
        "  # Rule 2:\n",
        "  # Mathematical operators (+ - * / exp, log, ...) apply element by element, on the values.\n",
        "\n",
        "array_addition = array1 + array2\n",
        "array_subtraction = array1 - array2\n",
        "array_multiplication = array1 * array2\n",
        "array_division = array1 / array2\n",
        "\n",
        "    # Mathematical Operations (log,exp)\n",
        "\n",
        "result_exp = np.exp(array1)\n",
        "result_log = np.log(array2)\n",
        "\n",
        "print(\"\\nArray Addition:\\n\\n\", array_addition)\n",
        "print(\"\\nArray Subtraction:\\n\\n\", array_subtraction)\n",
        "print(\"\\nArray Multiplication:\\n\\n\", array_multiplication)\n",
        "print(\"\\nArray Division:\\n\\n\", array_division)\n",
        "print(\"\\nArray Exponential:\\n\\n\", result_exp)\n",
        "print(\"\\nArray Logarithm:\\n\\n\", result_log)"
      ]
    },
    {
      "cell_type": "code",
      "execution_count": 36,
      "metadata": {
        "colab": {
          "base_uri": "https://localhost:8080/"
        },
        "id": "ky6VmIsw76J1",
        "outputId": "33a327c0-7b84-433b-ec5a-54645f7fcd08"
      },
      "outputs": [
        {
          "name": "stdout",
          "output_type": "stream",
          "text": [
            "\n",
            "Array Mean: 3.5\n",
            "\n",
            "Array Standard Deviation: 1.707825127659933\n",
            "\n",
            "Array Skew: [0. 0. 0.]\n",
            "\n",
            "Array Kurtosis: [-2. -2. -2.]\n",
            "\n",
            "Array Sum: 21\n",
            "\n",
            "Array Product: 665280\n",
            "\n",
            "Array Concatenation:\n",
            "\n",
            " [[ 1  2  3]\n",
            " [ 4  5  6]\n",
            " [ 7  8  9]\n",
            " [10 11 12]]\n",
            "\n",
            "Array Splitting:\n",
            "\n",
            " [array([[1, 2, 3]]), array([[4, 5, 6]])]\n"
          ]
        }
      ],
      "source": [
        "\n",
        "# Rule 3:\n",
        "  # Reduction operations (mean, std, skew, kurt, sum, prod, ...) apply to the whole array, unless an axis is specified.\n",
        "\n",
        "  # Reduction Operations\n",
        "array_mean = np.mean(array1)\n",
        "array_std = np.std(array2)\n",
        "array_skew = skew(array1, axis = 0)\n",
        "array_kurt = kurtosis(array2)\n",
        "array_sum = np.sum(array1)\n",
        "array_prod = np.prod(array2)\n",
        "array_concatenate = np.concatenate((array1, array2), axis=0)\n",
        "array_split = np.split(array1, 2)\n",
        "\n",
        "print(\"\\nArray Mean:\", array_mean)\n",
        "print(\"\\nArray Standard Deviation:\", array_std)\n",
        "print(\"\\nArray Skew:\", array_skew)\n",
        "print(\"\\nArray Kurtosis:\", array_kurt)\n",
        "print(\"\\nArray Sum:\", array_sum)\n",
        "print(\"\\nArray Product:\", array_prod)\n",
        "print(\"\\nArray Concatenation:\\n\\n\", array_concatenate)\n",
        "print(\"\\nArray Splitting:\\n\\n\", array_split)\n"
      ]
    },
    {
      "cell_type": "code",
      "execution_count": 37,
      "metadata": {
        "colab": {
          "base_uri": "https://localhost:8080/"
        },
        "id": "DWWjBVra-8Av",
        "outputId": "74c79e19-5278-4d77-e876-ed73b0269477"
      },
      "outputs": [
        {
          "name": "stdout",
          "output_type": "stream",
          "text": [
            "Array with NaN values:\n",
            "[[ 1.  2. nan]\n",
            " [ 4. nan  6.]]\n",
            "\n",
            "Mean (ignoring NaN values): 3.25\n",
            "Sum (ignoring NaN values): 13.0\n"
          ]
        }
      ],
      "source": [
        "# Rule 4:\n",
        "# Missing values propagate unless explicitly ignored (nanmean, nansum, ...).\n",
        "\n",
        "# Define an array with NaN values\n",
        "array_with_nan = np.array([[1, 2, np.nan],\n",
        "                            [4, np.nan, 6]])\n",
        "\n",
        "# Calculate mean and sum, ignoring NaN values\n",
        "mean_without_nan = np.nanmean(array_with_nan)\n",
        "sum_without_nan = np.nansum(array_with_nan)\n",
        "\n",
        "print(\"Array with NaN values:\")\n",
        "print(array_with_nan)\n",
        "\n",
        "print(\"\\nMean (ignoring NaN values):\", mean_without_nan)\n",
        "print(\"Sum (ignoring NaN values):\", sum_without_nan)\n"
      ]
    },
    {
      "cell_type": "code",
      "execution_count": 38,
      "metadata": {
        "colab": {
          "base_uri": "https://localhost:8080/"
        },
        "id": "rl3DZsO_ImdJ",
        "outputId": "2b5fa4e8-d863-4a4b-8cd5-c5596f183282"
      },
      "outputs": [
        {
          "name": "stdout",
          "output_type": "stream",
          "text": [
            "[[225 196 169 144 121 100]\n",
            " [ 81  64  49  36  25  16]\n",
            " [  9   4   1   0   1   4]\n",
            " [  9  16  25  36  49  64]\n",
            " [ 81 100 121 144 169 196]]\n",
            "Maximum of each row: [225  81   9  64 196]\n",
            "\n",
            "Mean of each column : [81. 76. 73. 72. 73. 76.]\n",
            "\n",
            "Position of the overall minimum : (2, 3)\n"
          ]
        }
      ],
      "source": [
        "# Create the array below with\n",
        "#                   a = np.arange(-15, 15).reshape(5, 6) ** 2\n",
        "# 1. The maximum of each row\n",
        "# 2. The mean of each column\n",
        "# 3. The position of the overall minimum\n",
        "\n",
        "\n",
        "a = np.arange(-15, 15).reshape(5, 6) ** 2\n",
        "print(a)\n",
        "# Task 1: Maximum of each row\n",
        "max_of_each_row = np.max(a, axis=1)\n",
        "print(\"Maximum of each row:\", max_of_each_row)\n",
        "\n",
        "# Task 2: Mean of each column\n",
        "mean_of_each_column = np.mean(a, axis=0)\n",
        "print(\"\\nMean of each column :\", mean_of_each_column)\n",
        "\n",
        "# Task 3: Position of the overall minimum\n",
        "min_position = np.unravel_index(np.argmin(a), a.shape)\n",
        "print(\"\\nPosition of the overall minimum :\" , min_position)"
      ]
    },
    {
      "cell_type": "markdown",
      "metadata": {
        "id": "uO-B0OXYWl7A"
      },
      "source": [
        "### Zip Operations on Numpy Arrays\n",
        "Use a zip function on two arrys.\n",
        "\n",
        "Create another array which would be the sum of corresponding elements of two arrays using for loop."
      ]
    },
    {
      "cell_type": "code",
      "execution_count": 39,
      "metadata": {
        "colab": {
          "base_uri": "https://localhost:8080/"
        },
        "id": "QWAhbiOXHEc9",
        "outputId": "84c94a24-5d98-402b-c4e4-8c0938548a04"
      },
      "outputs": [
        {
          "name": "stdout",
          "output_type": "stream",
          "text": [
            "Zipped Arrays : [(1, 2), (2, 3), (3, 4), (4, 5)]\n"
          ]
        }
      ],
      "source": [
        "array_a = [1, 2, 3, 4]\n",
        "array_b = [2, 3, 4, 5]\n",
        "\n",
        "# Answer Here\n",
        "zipped_arrays = zip(array_a, array_b)\n",
        "zipped_list = list(zipped_arrays)\n",
        "print('Zipped Arrays :',zipped_list)"
      ]
    },
    {
      "cell_type": "code",
      "execution_count": 40,
      "metadata": {
        "colab": {
          "base_uri": "https://localhost:8080/"
        },
        "id": "ePXox_XHMQTr",
        "outputId": "c3b60c98-2c88-4289-eb75-a5503de75881"
      },
      "outputs": [
        {
          "name": "stdout",
          "output_type": "stream",
          "text": [
            "Sum of Corresponding Elements:\n",
            "[3 5 7 9]\n"
          ]
        }
      ],
      "source": [
        "#For loop to add corresponding elements in two lists\n",
        "\n",
        "# Answer Here\n",
        "# Initialize an empty list to store the sum of corresponding elements\n",
        "sum_array = []\n",
        "\n",
        "# Iterate through the arrays and calculate the sum of corresponding elements\n",
        "for elem1, elem2 in zip(array_a, array_b):\n",
        "    sum_array.append(elem1 + elem2)\n",
        "\n",
        "# Convert the list to a NumPy array\n",
        "sum_array = np.array(sum_array)\n",
        "\n",
        "print(\"Sum of Corresponding Elements:\")\n",
        "print(sum_array)\n"
      ]
    },
    {
      "cell_type": "markdown",
      "metadata": {
        "id": "psT5IFZSda6X"
      },
      "source": [
        "# Array Broadcasting\n",
        "NumPy arrays of different dimensionality can be combined in the same expression. Arrays with smaller dimension are broadcasted to match the larger arrays, without copying data.\n",
        "\n",
        "Broadcasting has two rules.\n",
        "RULE 1: PREPEND ONES TO SMALLER ARRAY'S SHAPE\n",
        "RULE 2: DIMENSIONS OF SIZE 1 ARE REPEATED WITHOUT COPYING\n"
      ]
    },
    {
      "cell_type": "code",
      "execution_count": 41,
      "metadata": {
        "colab": {
          "base_uri": "https://localhost:8080/"
        },
        "id": "fWiaefR1eCKO",
        "outputId": "2c30f571-30e7-4846-9dca-6854b82ee71d"
      },
      "outputs": [
        {
          "name": "stdout",
          "output_type": "stream",
          "text": [
            "RULE 1: PREPEND ONES TO SMALLER ARRAY'S SHAPE\n",
            "\n",
            " Reshaped Array : [[1. 1. 1. 1. 1.]]\n",
            "\n",
            " Reshaped Array : [[1. 1. 1. 1. 1.]]\n",
            "\n",
            "RULE 2: DIMENSIONS OF SIZE 1 ARE REPEATED WITHOUT COPYING\n",
            "\n",
            " Reshaped Array :\n",
            " [[2. 2. 2. 2. 2.]\n",
            " [2. 2. 2. 2. 2.]\n",
            " [2. 2. 2. 2. 2.]]\n"
          ]
        }
      ],
      "source": [
        "# Answer Here\n",
        "# Broadcasting has two rules.\n",
        "# RULE 1: PREPEND ONES TO SMALLER ARRAY'S SHAPE\n",
        "# RULE 2: DIMENSIONS OF SIZE 1 ARE REPEATED WITHOUT COPYING\n",
        "\n",
        "print(\"RULE 1: PREPEND ONES TO SMALLER ARRAY'S SHAPE\")\n",
        "a = np.ones((3, 5)) # a.shape == (3, 5)\n",
        "b = np.ones((5,)) # b.shape == (5,)\n",
        "reshaped_array_choice1 = b.reshape(1, 5) # result is a (1,5)-shaped array\n",
        "reshaped_array_choice2 = b[np.newaxis, :]  # equivalent, more concise\n",
        "\n",
        "print('\\n Reshaped Array :',reshaped_array_choice1)\n",
        "print('\\n Reshaped Array :',reshaped_array_choice2)\n",
        "\n",
        "print(\"\\nRULE 2: DIMENSIONS OF SIZE 1 ARE REPEATED WITHOUT COPYING\")\n",
        "\n",
        "c = a + b # c.shape == (3, 5)\n",
        "# is logically equivalent to...\n",
        "tmp_b = b.reshape(1, 5)\n",
        "tmp_b_repeat = tmp_b.repeat(3, axis=0)\n",
        "c = a + tmp_b_repeat\n",
        "\n",
        "print('\\n Reshaped Array :\\n',c)"
      ]
    },
    {
      "cell_type": "markdown",
      "metadata": {
        "id": "YyL6p9_PktTp"
      },
      "source": [
        "1.Use reduce() operation on an array to reduec it into a single meaningful value. You. can also use a specific axis to apply reduce operation.\n",
        "\n",
        "2.accumulate() creates a new array containing the intermediate results of the reduce operation at each element in a.\n"
      ]
    },
    {
      "cell_type": "code",
      "execution_count": 42,
      "metadata": {
        "colab": {
          "base_uri": "https://localhost:8080/"
        },
        "id": "jiRwJE8klCwk",
        "outputId": "5424a5a9-52d6-4def-d5b1-0f60a9d44c23"
      },
      "outputs": [
        {
          "name": "stdout",
          "output_type": "stream",
          "text": [
            "Reduce Operation \n",
            " \n",
            "Reduced Operation :  10\n",
            "\n",
            " \" STRING LIST EXAMPLE \"\n",
            "\n",
            " String Reduced :  abcdef\n",
            "\n",
            " \" LOGICAL OP EXAMPLES \"\n",
            "\n",
            " Reduce using AND Operator : False\n",
            "\n",
            " Reduce using OR Operator : True\n"
          ]
        }
      ],
      "source": [
        "# 1.Use reduce() operation on an array to reduec it into a single meaningful value. You. can also use a specific axis to apply reduce operation.\n",
        "\n",
        "print(\"Reduce Operation \\n \")\n",
        "a = np.array([1,2,3,4])\n",
        "b = np.add.reduce(a)\n",
        "print('Reduced Operation : ',b)\n",
        "\n",
        "#       --------------------------------------------------\n",
        "\n",
        "print('\\n \" STRING LIST EXAMPLE \"')\n",
        "string = np.array(['ab','cd','ef'], dtype='object')\n",
        "string_reduce = np.add.reduce(string)\n",
        "print('\\n String Reduced : ', string_reduce)\n",
        "\n",
        "#       --------------------------------------------------------\n",
        "\n",
        "print('\\n \" LOGICAL OP EXAMPLES \"')\n",
        "LOGICAL_OP_Reduce = np.array([1,1,0,1])\n",
        "Reduce_AND_Operator = np.logical_and.reduce(LOGICAL_OP_Reduce)\n",
        "print('\\n Reduce using AND Operator :',Reduce_AND_Operator)\n",
        "Reduce_OR_Operator = np.logical_or.reduce(LOGICAL_OP_Reduce)\n",
        "print('\\n Reduce using OR Operator :',Reduce_OR_Operator)"
      ]
    },
    {
      "cell_type": "code",
      "execution_count": 43,
      "metadata": {
        "colab": {
          "base_uri": "https://localhost:8080/"
        },
        "id": "wsL18sF6U3j9",
        "outputId": "87e41b5a-fbb0-4e24-c8fb-9180ecefea6e"
      },
      "outputs": [
        {
          "name": "stdout",
          "output_type": "stream",
          "text": [
            "Accumulate Operation \n",
            " \n",
            "Accumulate Operation :  [ 1  3  6 10]\n",
            "\n",
            " \" STRING LIST EXAMPLE \"\n",
            "\n",
            " String Accumulate :  abcdef\n",
            "\n",
            " \" LOGICAL OP EXAMPLES \"\n",
            "\n",
            " Accumulate using AND Operator : [ True  True False]\n",
            "\n",
            " Accumulate using OR Operator : [ True  True  True]\n"
          ]
        }
      ],
      "source": [
        "# 2.accumulate() creates a new array containing the intermediate results of the reduce operation at each element in a.\n",
        "\n",
        "print(\"Accumulate Operation \\n \")\n",
        "a = np.array([1,2,3,4])\n",
        "b = np.add.accumulate(a)\n",
        "print('Accumulate Operation : ',b)\n",
        "\n",
        "#       --------------------------------------------------\n",
        "\n",
        "print('\\n \" STRING LIST EXAMPLE \"')\n",
        "string = np.array(['ab','cd','ef'], dtype='object')\n",
        "string_accumulate = np.add.accumulate(string)\n",
        "print('\\n String Accumulate : ', string_reduce)\n",
        "\n",
        "#       --------------------------------------------------------\n",
        "\n",
        "print('\\n \" LOGICAL OP EXAMPLES \"')\n",
        "LOGICAL_OP_Accumulate = np.array([1,1,0])\n",
        "Accumulate_AND_Operator = np.logical_and.accumulate(LOGICAL_OP_Accumulate)\n",
        "print('\\n Accumulate using AND Operator :',Accumulate_AND_Operator)\n",
        "Accumulate_OR_Operator = np.logical_or.accumulate(LOGICAL_OP_Accumulate)\n",
        "print('\\n Accumulate using OR Operator :', Accumulate_OR_Operator)"
      ]
    }
  ],
  "metadata": {
    "colab": {
      "provenance": []
    },
    "kernelspec": {
      "display_name": "Python 3",
      "name": "python3"
    },
    "language_info": {
      "codemirror_mode": {
        "name": "ipython",
        "version": 3
      },
      "file_extension": ".py",
      "mimetype": "text/x-python",
      "name": "python",
      "nbconvert_exporter": "python",
      "pygments_lexer": "ipython3",
      "version": "3.10.13"
    }
  },
  "nbformat": 4,
  "nbformat_minor": 0
}
