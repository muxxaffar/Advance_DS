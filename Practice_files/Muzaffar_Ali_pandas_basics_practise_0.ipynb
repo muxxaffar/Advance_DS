{
  "cells": [
    {
      "cell_type": "code",
      "execution_count": 1,
      "metadata": {
        "id": "c_eVXa9OPtvB"
      },
      "outputs": [],
      "source": [
        "import pandas as pd # A general purpose Python library for data analysis\n",
        "import numpy as np # A library for scientific computing in Python (e.g., provides high-performance multi-dimensional array objects and operations)\n",
        "\n",
        "import matplotlib.pyplot as plt # a plotting library for Python and NumPy (readily customizable)\n",
        "import seaborn as sns # Another plotting library for Python (fewer syntax, excellent default themes, behind the scenes, it uses matplotlib)\n",
        "import time"
      ]
    },
    {
      "cell_type": "markdown",
      "metadata": {
        "id": "PSdsojacPtvD"
      },
      "source": [
        "## Knowledge Stream Summer 2023\n",
        "\n",
        "In this notebook, we will learn about the key data structures provided by the Pandas library: **Data Frames, Series, and Indices**.\n",
        "\n",
        "In addition, we will learn about the following operations:\n",
        "* How to access data contained in these structures?\n",
        "* How to read files (e.g., csv, xlsx, sql) to create these structures?\n",
        "* How to carry out different data manipulation tasks using these structures?\n",
        "\n",
        "`Dataset`: US elections with information about candidates, their party, votes won, year of election and the result."
      ]
    },
    {
      "cell_type": "markdown",
      "metadata": {
        "id": "sufDZrcePtvF"
      },
      "source": [
        "## Reading in Data Frames from Files"
      ]
    },
    {
      "cell_type": "markdown",
      "metadata": {
        "id": "SKvAs5UMPtvG"
      },
      "source": [
        "Pandas has a number of useful file reading tools. You can see them enumerated by typing **\"pd.re\"** and pressing `tab`. We'll be using **read_csv** today. Note that these file reading functions do all the *data parsing* for you, which is very useful."
      ]
    },
    {
      "cell_type": "markdown",
      "metadata": {
        "id": "wAchNI6BPtvG"
      },
      "source": [
        "Before loading a file into a dataframe, let's first take a look at the **elections.csv** file"
      ]
    },
    {
      "cell_type": "code",
      "execution_count": 3,
      "metadata": {
        "colab": {
          "base_uri": "https://localhost:8080/"
        },
        "id": "vQruwj5rPtvG",
        "outputId": "58704c7b-2bfb-426b-9bd2-6c67c280d9ec",
        "scrolled": true
      },
      "outputs": [
        {
          "name": "stdout",
          "output_type": "stream",
          "text": [
            "\n",
            "\n",
            ".CSV File Data That read : \n",
            "\n",
            "    Candidate        Party     %  Year Result\n",
            "0     Reagan   Republican  50.7  1980    win\n",
            "1     Carter   Democratic  41.0  1980   loss\n",
            "2   Anderson  Independent   6.6  1980   loss\n",
            "3     Reagan   Republican  58.8  1984    win\n",
            "4    Mondale   Democratic  37.6  1984   loss\n",
            "5       Bush   Republican  53.4  1988    win\n",
            "6    Dukakis   Democratic  45.6  1988   loss\n",
            "7    Clinton   Democratic  43.0  1992    win\n",
            "8       Bush   Republican  37.4  1992   loss\n",
            "9      Perot  Independent  18.9  1992   loss\n",
            "10   Clinton   Democratic  49.2  1996    win\n",
            "11      Dole   Republican  40.7  1996   loss\n",
            "12     Perot  Independent   8.4  1996   loss\n",
            "13      Gore   Democratic  48.4  2000   loss\n",
            "14      Bush   Republican  47.9  2000    win\n",
            "15     Kerry   Democratic  48.3  2004   loss\n",
            "16      Bush   Republican  50.7  2004    win\n",
            "17     Obama   Democratic  52.9  2008    win\n",
            "18    McCain   Republican  45.7  2008   loss\n",
            "19     Obama   Democratic  51.1  2012    win\n",
            "20    Romney   Republican  47.2  2012   loss\n",
            "21   Clinton   Democratic  48.2  2016   loss\n",
            "22     Trump   Republican  46.1  2016    win\n"
          ]
        }
      ],
      "source": [
        "#Answer Here\n",
        "\n",
        "x = pd.read_csv('/workspaces/Advance_DS/elections.csv')\n",
        "print('\\n\\n.CSV File Data That read : \\n\\n', x)\n"
      ]
    },
    {
      "cell_type": "markdown",
      "metadata": {
        "id": "DFG0R-hvPtvH"
      },
      "source": [
        "We can use the **head command** to show only a few rows of a dataframe."
      ]
    },
    {
      "cell_type": "code",
      "execution_count": 4,
      "metadata": {
        "colab": {
          "base_uri": "https://localhost:8080/"
        },
        "id": "hlqOypI8-gbJ",
        "outputId": "6b5647b8-4d32-4c3b-e5a2-450d040029fc"
      },
      "outputs": [
        {
          "name": "stdout",
          "output_type": "stream",
          "text": [
            "                 Party     %  Year Result\n",
            "Candidate                                \n",
            "Reagan      Republican  50.7  1980    win\n",
            "Carter      Democratic  41.0  1980   loss\n",
            "Anderson   Independent   6.6  1980   loss\n",
            "Reagan      Republican  58.8  1984    win\n",
            "Mondale     Democratic  37.6  1984   loss\n",
            "Bush        Republican  53.4  1988    win\n",
            "Dukakis     Democratic  45.6  1988   loss\n",
            "Clinton     Democratic  43.0  1992    win\n",
            "Bush        Republican  37.4  1992   loss\n",
            "Perot      Independent  18.9  1992   loss\n",
            "Clinton     Democratic  49.2  1996    win\n",
            "Dole        Republican  40.7  1996   loss\n",
            "Perot      Independent   8.4  1996   loss\n",
            "Gore        Democratic  48.4  2000   loss\n",
            "Bush        Republican  47.9  2000    win\n",
            "Kerry       Democratic  48.3  2004   loss\n",
            "Bush        Republican  50.7  2004    win\n",
            "Obama       Democratic  52.9  2008    win\n",
            "McCain      Republican  45.7  2008   loss\n",
            "Obama       Democratic  51.1  2012    win\n",
            "Romney      Republican  47.2  2012   loss\n",
            "Clinton     Democratic  48.2  2016   loss\n",
            "Trump       Republican  46.1  2016    win\n"
          ]
        }
      ],
      "source": [
        "x = pd.read_csv('/workspaces/Advance_DS/elections.csv', index_col='Candidate')\n",
        "print(x)"
      ]
    },
    {
      "cell_type": "code",
      "execution_count": 5,
      "metadata": {
        "colab": {
          "base_uri": "https://localhost:8080/"
        },
        "id": "PrVMOo6WAQaN",
        "outputId": "b91a9978-7e77-43a8-8af6-ac4753e0be54"
      },
      "outputs": [
        {
          "name": "stdout",
          "output_type": "stream",
          "text": [
            "   Candidate        Party     %  Year Result\n",
            "0     Reagan   Republican  50.7  1980    win\n",
            "1     Carter   Democratic  41.0  1980   loss\n",
            "2   Anderson  Independent   6.6  1980   loss\n",
            "3     Reagan   Republican  58.8  1984    win\n",
            "4    Mondale   Democratic  37.6  1984   loss\n",
            "5       Bush   Republican  53.4  1988    win\n",
            "6    Dukakis   Democratic  45.6  1988   loss\n",
            "7    Clinton   Democratic  43.0  1992    win\n",
            "8       Bush   Republican  37.4  1992   loss\n",
            "9      Perot  Independent  18.9  1992   loss\n",
            "10   Clinton   Democratic  49.2  1996    win\n",
            "11      Dole   Republican  40.7  1996   loss\n",
            "12     Perot  Independent   8.4  1996   loss\n",
            "13      Gore   Democratic  48.4  2000   loss\n",
            "14      Bush   Republican  47.9  2000    win\n",
            "15     Kerry   Democratic  48.3  2004   loss\n",
            "16      Bush   Republican  50.7  2004    win\n",
            "17     Obama   Democratic  52.9  2008    win\n",
            "18    McCain   Republican  45.7  2008   loss\n",
            "19     Obama   Democratic  51.1  2012    win\n",
            "20    Romney   Republican  47.2  2012   loss\n",
            "21   Clinton   Democratic  48.2  2016   loss\n",
            "22     Trump   Republican  46.1  2016    win\n"
          ]
        }
      ],
      "source": [
        "a = x.reset_index()\n",
        "print(a)"
      ]
    },
    {
      "cell_type": "markdown",
      "metadata": {
        "id": "bHoeuiciPtvH"
      },
      "source": [
        "# heading\n",
        "## heading2"
      ]
    },
    {
      "cell_type": "code",
      "execution_count": 6,
      "metadata": {
        "colab": {
          "base_uri": "https://localhost:8080/"
        },
        "id": "ft8isrsOPtvI",
        "outputId": "2d63df26-e28f-4fac-8da0-a5e9285f5ac6"
      },
      "outputs": [
        {
          "name": "stdout",
          "output_type": "stream",
          "text": [
            "By default first five rows show :\n",
            "   Candidate        Party     %  Year Result\n",
            "0    Reagan   Republican  50.7  1980    win\n",
            "1    Carter   Democratic  41.0  1980   loss\n",
            "2  Anderson  Independent   6.6  1980   loss\n",
            "3    Reagan   Republican  58.8  1984    win\n",
            "4   Mondale   Democratic  37.6  1984   loss\n"
          ]
        }
      ],
      "source": [
        "# Answer Here\n",
        "b = a.head()\n",
        "print('By default first five rows show :\\n' , b)"
      ]
    },
    {
      "cell_type": "code",
      "execution_count": 7,
      "metadata": {
        "colab": {
          "base_uri": "https://localhost:8080/"
        },
        "id": "SJOYaKgdA6LU",
        "outputId": "35d18c1f-b781-4b3e-d8e3-7b418c1a4f0a"
      },
      "outputs": [
        {
          "name": "stdout",
          "output_type": "stream",
          "text": [
            "First ten (10) rows show :\n",
            "   Candidate        Party     %  Year Result\n",
            "0    Reagan   Republican  50.7  1980    win\n",
            "1    Carter   Democratic  41.0  1980   loss\n",
            "2  Anderson  Independent   6.6  1980   loss\n",
            "3    Reagan   Republican  58.8  1984    win\n",
            "4   Mondale   Democratic  37.6  1984   loss\n",
            "5      Bush   Republican  53.4  1988    win\n",
            "6   Dukakis   Democratic  45.6  1988   loss\n",
            "7   Clinton   Democratic  43.0  1992    win\n",
            "8      Bush   Republican  37.4  1992   loss\n",
            "9     Perot  Independent  18.9  1992   loss\n"
          ]
        }
      ],
      "source": [
        "b = a.head(10)\n",
        "print('First ten (10) rows show :\\n' , b)"
      ]
    },
    {
      "cell_type": "markdown",
      "metadata": {
        "id": "k2hQ-7gCPtvI"
      },
      "source": [
        "There is also a **tail command**."
      ]
    },
    {
      "cell_type": "code",
      "execution_count": null,
      "metadata": {
        "colab": {
          "base_uri": "https://localhost:8080/"
        },
        "id": "Hd90_fIZPtvI",
        "outputId": "01782f30-d7a6-40b4-ed34-a5017329d9a5"
      },
      "outputs": [
        {
          "name": "stdout",
          "output_type": "stream",
          "text": [
            "Last five rows show \n",
            "    Candidate       Party     %  Year Result\n",
            "18    McCain  Republican  45.7  2008   loss\n",
            "19     Obama  Democratic  51.1  2012    win\n",
            "20    Romney  Republican  47.2  2012   loss\n",
            "21   Clinton  Democratic  48.2  2016   loss\n",
            "22     Trump  Republican  46.1  2016    win\n"
          ]
        }
      ],
      "source": [
        "#Answer Here\n",
        "c = a.tail()\n",
        "print('Last five rows show \\n' , c)"
      ]
    },
    {
      "cell_type": "markdown",
      "metadata": {
        "id": "rts8fQn7PtvI"
      },
      "source": [
        "The `read_csv` command lets us specify a **column to use an index**. For example, we could have used __Year__ as the index."
      ]
    },
    {
      "cell_type": "code",
      "execution_count": null,
      "metadata": {
        "colab": {
          "base_uri": "https://localhost:8080/"
        },
        "id": "r3-biPiJPtvI",
        "outputId": "86a6cf19-383a-414e-86d8-b02f8902cf85"
      },
      "outputs": [
        {
          "name": "stdout",
          "output_type": "stream",
          "text": [
            "Now Year as an index :\n",
            "      Candidate        Party     % Result\n",
            "Year                                    \n",
            "1980    Reagan   Republican  50.7    win\n",
            "1980    Carter   Democratic  41.0   loss\n",
            "1980  Anderson  Independent   6.6   loss\n",
            "1984    Reagan   Republican  58.8    win\n",
            "1984   Mondale   Democratic  37.6   loss\n",
            "1988      Bush   Republican  53.4    win\n",
            "1988   Dukakis   Democratic  45.6   loss\n",
            "1992   Clinton   Democratic  43.0    win\n",
            "1992      Bush   Republican  37.4   loss\n",
            "1992     Perot  Independent  18.9   loss\n",
            "1996   Clinton   Democratic  49.2    win\n",
            "1996      Dole   Republican  40.7   loss\n",
            "1996     Perot  Independent   8.4   loss\n",
            "2000      Gore   Democratic  48.4   loss\n",
            "2000      Bush   Republican  47.9    win\n",
            "2004     Kerry   Democratic  48.3   loss\n",
            "2004      Bush   Republican  50.7    win\n",
            "2008     Obama   Democratic  52.9    win\n",
            "2008    McCain   Republican  45.7   loss\n",
            "2012     Obama   Democratic  51.1    win\n",
            "2012    Romney   Republican  47.2   loss\n",
            "2016   Clinton   Democratic  48.2   loss\n",
            "2016     Trump   Republican  46.1    win\n"
          ]
        }
      ],
      "source": [
        "#Answer Here\n",
        "d = a.set_index('Year')\n",
        "print('Now Year as an index :\\n' , d)\n"
      ]
    },
    {
      "cell_type": "markdown",
      "metadata": {
        "id": "zWtY3hv5R9B5"
      },
      "source": [
        "Alternately, we could have used the **set_index** commmand on the dataframe."
      ]
    },
    {
      "cell_type": "code",
      "execution_count": null,
      "metadata": {
        "colab": {
          "base_uri": "https://localhost:8080/",
          "height": 701
        },
        "id": "8WCiJpdADTKl",
        "outputId": "14de3a15-b76d-47e1-ff5d-c2c0dcee00ad"
      },
      "outputs": [
        {
          "name": "stdout",
          "output_type": "stream",
          "text": [
            "Now Year as an index using DataFrame:\n",
            "               Candidate                  Party  Popular vote Result          %\n",
            "Year                                                                          \n",
            "1824     Andrew Jackson  Democratic-Republican        151271   loss  57.210122\n",
            "1824  John Quincy Adams  Democratic-Republican        113142    win  42.789878\n",
            "1828     Andrew Jackson             Democratic        642806    win  56.203927\n",
            "1828  John Quincy Adams    National Republican        500897   loss  43.796073\n",
            "1832     Andrew Jackson             Democratic        702735    win  54.574789\n",
            "...                 ...                    ...           ...    ...        ...\n",
            "2016         Jill Stein                  Green       1457226   loss   1.073699\n",
            "2020       Joseph Biden             Democratic      81268924    win  51.311515\n",
            "2020       Donald Trump             Republican      74216154   loss  46.858542\n",
            "2020       Jo Jorgensen            Libertarian       1865724   loss   1.177979\n",
            "2020     Howard Hawkins                  Green        405035   loss   0.255731\n",
            "\n",
            "[182 rows x 5 columns]\n"
          ]
        },
        {
          "data": {
            "application/vnd.google.colaboratory.intrinsic+json": {
              "summary": "{\n  \"name\": \"dataFrame\",\n  \"rows\": 182,\n  \"fields\": [\n    {\n      \"column\": \"Year\",\n      \"properties\": {\n        \"dtype\": \"number\",\n        \"std\": 57,\n        \"min\": 1824,\n        \"max\": 2020,\n        \"num_unique_values\": 50,\n        \"samples\": [\n          1876,\n          1980,\n          1944\n        ],\n        \"semantic_type\": \"\",\n        \"description\": \"\"\n      }\n    },\n    {\n      \"column\": \"Candidate\",\n      \"properties\": {\n        \"dtype\": \"string\",\n        \"num_unique_values\": 132,\n        \"samples\": [\n          \"Warren Harding\",\n          \"George McGovern\",\n          \"Stephen A. Douglas\"\n        ],\n        \"semantic_type\": \"\",\n        \"description\": \"\"\n      }\n    },\n    {\n      \"column\": \"Party\",\n      \"properties\": {\n        \"dtype\": \"category\",\n        \"num_unique_values\": 36,\n        \"samples\": [\n          \"Constitution\",\n          \"Greenback\",\n          \"American Independent\"\n        ],\n        \"semantic_type\": \"\",\n        \"description\": \"\"\n      }\n    },\n    {\n      \"column\": \"Popular vote\",\n      \"properties\": {\n        \"dtype\": \"number\",\n        \"std\": 19077149,\n        \"min\": 100715,\n        \"max\": 81268924,\n        \"num_unique_values\": 182,\n        \"samples\": [\n          1386942,\n          146602,\n          448895\n        ],\n        \"semantic_type\": \"\",\n        \"description\": \"\"\n      }\n    },\n    {\n      \"column\": \"Result\",\n      \"properties\": {\n        \"dtype\": \"category\",\n        \"num_unique_values\": 2,\n        \"samples\": [\n          \"win\",\n          \"loss\"\n        ],\n        \"semantic_type\": \"\",\n        \"description\": \"\"\n      }\n    },\n    {\n      \"column\": \"%\",\n      \"properties\": {\n        \"dtype\": \"number\",\n        \"std\": 22.96803399144419,\n        \"min\": 0.098088334,\n        \"max\": 61.34470329,\n        \"num_unique_values\": 182,\n        \"samples\": [\n          44.05654848,\n          1.288860686\n        ],\n        \"semantic_type\": \"\",\n        \"description\": \"\"\n      }\n    }\n  ]\n}",
              "type": "dataframe"
            },
            "text/html": [
              "\n",
              "  <div id=\"df-a9f616d3-cc1c-4e98-83ba-08dc40d326bf\" class=\"colab-df-container\">\n",
              "    <div>\n",
              "<style scoped>\n",
              "    .dataframe tbody tr th:only-of-type {\n",
              "        vertical-align: middle;\n",
              "    }\n",
              "\n",
              "    .dataframe tbody tr th {\n",
              "        vertical-align: top;\n",
              "    }\n",
              "\n",
              "    .dataframe thead th {\n",
              "        text-align: right;\n",
              "    }\n",
              "</style>\n",
              "<table border=\"1\" class=\"dataframe\">\n",
              "  <thead>\n",
              "    <tr style=\"text-align: right;\">\n",
              "      <th></th>\n",
              "      <th>Year</th>\n",
              "      <th>Candidate</th>\n",
              "      <th>Party</th>\n",
              "      <th>Popular vote</th>\n",
              "      <th>Result</th>\n",
              "      <th>%</th>\n",
              "    </tr>\n",
              "  </thead>\n",
              "  <tbody>\n",
              "    <tr>\n",
              "      <th>0</th>\n",
              "      <td>1824</td>\n",
              "      <td>Andrew Jackson</td>\n",
              "      <td>Democratic-Republican</td>\n",
              "      <td>151271</td>\n",
              "      <td>loss</td>\n",
              "      <td>57.210122</td>\n",
              "    </tr>\n",
              "    <tr>\n",
              "      <th>1</th>\n",
              "      <td>1824</td>\n",
              "      <td>John Quincy Adams</td>\n",
              "      <td>Democratic-Republican</td>\n",
              "      <td>113142</td>\n",
              "      <td>win</td>\n",
              "      <td>42.789878</td>\n",
              "    </tr>\n",
              "    <tr>\n",
              "      <th>2</th>\n",
              "      <td>1828</td>\n",
              "      <td>Andrew Jackson</td>\n",
              "      <td>Democratic</td>\n",
              "      <td>642806</td>\n",
              "      <td>win</td>\n",
              "      <td>56.203927</td>\n",
              "    </tr>\n",
              "    <tr>\n",
              "      <th>3</th>\n",
              "      <td>1828</td>\n",
              "      <td>John Quincy Adams</td>\n",
              "      <td>National Republican</td>\n",
              "      <td>500897</td>\n",
              "      <td>loss</td>\n",
              "      <td>43.796073</td>\n",
              "    </tr>\n",
              "    <tr>\n",
              "      <th>4</th>\n",
              "      <td>1832</td>\n",
              "      <td>Andrew Jackson</td>\n",
              "      <td>Democratic</td>\n",
              "      <td>702735</td>\n",
              "      <td>win</td>\n",
              "      <td>54.574789</td>\n",
              "    </tr>\n",
              "    <tr>\n",
              "      <th>...</th>\n",
              "      <td>...</td>\n",
              "      <td>...</td>\n",
              "      <td>...</td>\n",
              "      <td>...</td>\n",
              "      <td>...</td>\n",
              "      <td>...</td>\n",
              "    </tr>\n",
              "    <tr>\n",
              "      <th>177</th>\n",
              "      <td>2016</td>\n",
              "      <td>Jill Stein</td>\n",
              "      <td>Green</td>\n",
              "      <td>1457226</td>\n",
              "      <td>loss</td>\n",
              "      <td>1.073699</td>\n",
              "    </tr>\n",
              "    <tr>\n",
              "      <th>178</th>\n",
              "      <td>2020</td>\n",
              "      <td>Joseph Biden</td>\n",
              "      <td>Democratic</td>\n",
              "      <td>81268924</td>\n",
              "      <td>win</td>\n",
              "      <td>51.311515</td>\n",
              "    </tr>\n",
              "    <tr>\n",
              "      <th>179</th>\n",
              "      <td>2020</td>\n",
              "      <td>Donald Trump</td>\n",
              "      <td>Republican</td>\n",
              "      <td>74216154</td>\n",
              "      <td>loss</td>\n",
              "      <td>46.858542</td>\n",
              "    </tr>\n",
              "    <tr>\n",
              "      <th>180</th>\n",
              "      <td>2020</td>\n",
              "      <td>Jo Jorgensen</td>\n",
              "      <td>Libertarian</td>\n",
              "      <td>1865724</td>\n",
              "      <td>loss</td>\n",
              "      <td>1.177979</td>\n",
              "    </tr>\n",
              "    <tr>\n",
              "      <th>181</th>\n",
              "      <td>2020</td>\n",
              "      <td>Howard Hawkins</td>\n",
              "      <td>Green</td>\n",
              "      <td>405035</td>\n",
              "      <td>loss</td>\n",
              "      <td>0.255731</td>\n",
              "    </tr>\n",
              "  </tbody>\n",
              "</table>\n",
              "<p>182 rows × 6 columns</p>\n",
              "</div>\n",
              "    <div class=\"colab-df-buttons\">\n",
              "\n",
              "  <div class=\"colab-df-container\">\n",
              "    <button class=\"colab-df-convert\" onclick=\"convertToInteractive('df-a9f616d3-cc1c-4e98-83ba-08dc40d326bf')\"\n",
              "            title=\"Convert this dataframe to an interactive table.\"\n",
              "            style=\"display:none;\">\n",
              "\n",
              "  <svg xmlns=\"http://www.w3.org/2000/svg\" height=\"24px\" viewBox=\"0 -960 960 960\">\n",
              "    <path d=\"M120-120v-720h720v720H120Zm60-500h600v-160H180v160Zm220 220h160v-160H400v160Zm0 220h160v-160H400v160ZM180-400h160v-160H180v160Zm440 0h160v-160H620v160ZM180-180h160v-160H180v160Zm440 0h160v-160H620v160Z\"/>\n",
              "  </svg>\n",
              "    </button>\n",
              "\n",
              "  <style>\n",
              "    .colab-df-container {\n",
              "      display:flex;\n",
              "      gap: 12px;\n",
              "    }\n",
              "\n",
              "    .colab-df-convert {\n",
              "      background-color: #E8F0FE;\n",
              "      border: none;\n",
              "      border-radius: 50%;\n",
              "      cursor: pointer;\n",
              "      display: none;\n",
              "      fill: #1967D2;\n",
              "      height: 32px;\n",
              "      padding: 0 0 0 0;\n",
              "      width: 32px;\n",
              "    }\n",
              "\n",
              "    .colab-df-convert:hover {\n",
              "      background-color: #E2EBFA;\n",
              "      box-shadow: 0px 1px 2px rgba(60, 64, 67, 0.3), 0px 1px 3px 1px rgba(60, 64, 67, 0.15);\n",
              "      fill: #174EA6;\n",
              "    }\n",
              "\n",
              "    .colab-df-buttons div {\n",
              "      margin-bottom: 4px;\n",
              "    }\n",
              "\n",
              "    [theme=dark] .colab-df-convert {\n",
              "      background-color: #3B4455;\n",
              "      fill: #D2E3FC;\n",
              "    }\n",
              "\n",
              "    [theme=dark] .colab-df-convert:hover {\n",
              "      background-color: #434B5C;\n",
              "      box-shadow: 0px 1px 3px 1px rgba(0, 0, 0, 0.15);\n",
              "      filter: drop-shadow(0px 1px 2px rgba(0, 0, 0, 0.3));\n",
              "      fill: #FFFFFF;\n",
              "    }\n",
              "  </style>\n",
              "\n",
              "    <script>\n",
              "      const buttonEl =\n",
              "        document.querySelector('#df-a9f616d3-cc1c-4e98-83ba-08dc40d326bf button.colab-df-convert');\n",
              "      buttonEl.style.display =\n",
              "        google.colab.kernel.accessAllowed ? 'block' : 'none';\n",
              "\n",
              "      async function convertToInteractive(key) {\n",
              "        const element = document.querySelector('#df-a9f616d3-cc1c-4e98-83ba-08dc40d326bf');\n",
              "        const dataTable =\n",
              "          await google.colab.kernel.invokeFunction('convertToInteractive',\n",
              "                                                    [key], {});\n",
              "        if (!dataTable) return;\n",
              "\n",
              "        const docLinkHtml = 'Like what you see? Visit the ' +\n",
              "          '<a target=\"_blank\" href=https://colab.research.google.com/notebooks/data_table.ipynb>data table notebook</a>'\n",
              "          + ' to learn more about interactive tables.';\n",
              "        element.innerHTML = '';\n",
              "        dataTable['output_type'] = 'display_data';\n",
              "        await google.colab.output.renderOutput(dataTable, element);\n",
              "        const docLink = document.createElement('div');\n",
              "        docLink.innerHTML = docLinkHtml;\n",
              "        element.appendChild(docLink);\n",
              "      }\n",
              "    </script>\n",
              "  </div>\n",
              "\n",
              "\n",
              "<div id=\"df-86aa5182-45b0-4be4-a57c-fb69977ebcd9\">\n",
              "  <button class=\"colab-df-quickchart\" onclick=\"quickchart('df-86aa5182-45b0-4be4-a57c-fb69977ebcd9')\"\n",
              "            title=\"Suggest charts\"\n",
              "            style=\"display:none;\">\n",
              "\n",
              "<svg xmlns=\"http://www.w3.org/2000/svg\" height=\"24px\"viewBox=\"0 0 24 24\"\n",
              "     width=\"24px\">\n",
              "    <g>\n",
              "        <path d=\"M19 3H5c-1.1 0-2 .9-2 2v14c0 1.1.9 2 2 2h14c1.1 0 2-.9 2-2V5c0-1.1-.9-2-2-2zM9 17H7v-7h2v7zm4 0h-2V7h2v10zm4 0h-2v-4h2v4z\"/>\n",
              "    </g>\n",
              "</svg>\n",
              "  </button>\n",
              "\n",
              "<style>\n",
              "  .colab-df-quickchart {\n",
              "      --bg-color: #E8F0FE;\n",
              "      --fill-color: #1967D2;\n",
              "      --hover-bg-color: #E2EBFA;\n",
              "      --hover-fill-color: #174EA6;\n",
              "      --disabled-fill-color: #AAA;\n",
              "      --disabled-bg-color: #DDD;\n",
              "  }\n",
              "\n",
              "  [theme=dark] .colab-df-quickchart {\n",
              "      --bg-color: #3B4455;\n",
              "      --fill-color: #D2E3FC;\n",
              "      --hover-bg-color: #434B5C;\n",
              "      --hover-fill-color: #FFFFFF;\n",
              "      --disabled-bg-color: #3B4455;\n",
              "      --disabled-fill-color: #666;\n",
              "  }\n",
              "\n",
              "  .colab-df-quickchart {\n",
              "    background-color: var(--bg-color);\n",
              "    border: none;\n",
              "    border-radius: 50%;\n",
              "    cursor: pointer;\n",
              "    display: none;\n",
              "    fill: var(--fill-color);\n",
              "    height: 32px;\n",
              "    padding: 0;\n",
              "    width: 32px;\n",
              "  }\n",
              "\n",
              "  .colab-df-quickchart:hover {\n",
              "    background-color: var(--hover-bg-color);\n",
              "    box-shadow: 0 1px 2px rgba(60, 64, 67, 0.3), 0 1px 3px 1px rgba(60, 64, 67, 0.15);\n",
              "    fill: var(--button-hover-fill-color);\n",
              "  }\n",
              "\n",
              "  .colab-df-quickchart-complete:disabled,\n",
              "  .colab-df-quickchart-complete:disabled:hover {\n",
              "    background-color: var(--disabled-bg-color);\n",
              "    fill: var(--disabled-fill-color);\n",
              "    box-shadow: none;\n",
              "  }\n",
              "\n",
              "  .colab-df-spinner {\n",
              "    border: 2px solid var(--fill-color);\n",
              "    border-color: transparent;\n",
              "    border-bottom-color: var(--fill-color);\n",
              "    animation:\n",
              "      spin 1s steps(1) infinite;\n",
              "  }\n",
              "\n",
              "  @keyframes spin {\n",
              "    0% {\n",
              "      border-color: transparent;\n",
              "      border-bottom-color: var(--fill-color);\n",
              "      border-left-color: var(--fill-color);\n",
              "    }\n",
              "    20% {\n",
              "      border-color: transparent;\n",
              "      border-left-color: var(--fill-color);\n",
              "      border-top-color: var(--fill-color);\n",
              "    }\n",
              "    30% {\n",
              "      border-color: transparent;\n",
              "      border-left-color: var(--fill-color);\n",
              "      border-top-color: var(--fill-color);\n",
              "      border-right-color: var(--fill-color);\n",
              "    }\n",
              "    40% {\n",
              "      border-color: transparent;\n",
              "      border-right-color: var(--fill-color);\n",
              "      border-top-color: var(--fill-color);\n",
              "    }\n",
              "    60% {\n",
              "      border-color: transparent;\n",
              "      border-right-color: var(--fill-color);\n",
              "    }\n",
              "    80% {\n",
              "      border-color: transparent;\n",
              "      border-right-color: var(--fill-color);\n",
              "      border-bottom-color: var(--fill-color);\n",
              "    }\n",
              "    90% {\n",
              "      border-color: transparent;\n",
              "      border-bottom-color: var(--fill-color);\n",
              "    }\n",
              "  }\n",
              "</style>\n",
              "\n",
              "  <script>\n",
              "    async function quickchart(key) {\n",
              "      const quickchartButtonEl =\n",
              "        document.querySelector('#' + key + ' button');\n",
              "      quickchartButtonEl.disabled = true;  // To prevent multiple clicks.\n",
              "      quickchartButtonEl.classList.add('colab-df-spinner');\n",
              "      try {\n",
              "        const charts = await google.colab.kernel.invokeFunction(\n",
              "            'suggestCharts', [key], {});\n",
              "      } catch (error) {\n",
              "        console.error('Error during call to suggestCharts:', error);\n",
              "      }\n",
              "      quickchartButtonEl.classList.remove('colab-df-spinner');\n",
              "      quickchartButtonEl.classList.add('colab-df-quickchart-complete');\n",
              "    }\n",
              "    (() => {\n",
              "      let quickchartButtonEl =\n",
              "        document.querySelector('#df-86aa5182-45b0-4be4-a57c-fb69977ebcd9 button');\n",
              "      quickchartButtonEl.style.display =\n",
              "        google.colab.kernel.accessAllowed ? 'block' : 'none';\n",
              "    })();\n",
              "  </script>\n",
              "</div>\n",
              "\n",
              "    </div>\n",
              "  </div>\n"
            ],
            "text/plain": [
              "     Year          Candidate                  Party  Popular vote Result  \\\n",
              "0    1824     Andrew Jackson  Democratic-Republican        151271   loss   \n",
              "1    1824  John Quincy Adams  Democratic-Republican        113142    win   \n",
              "2    1828     Andrew Jackson             Democratic        642806    win   \n",
              "3    1828  John Quincy Adams    National Republican        500897   loss   \n",
              "4    1832     Andrew Jackson             Democratic        702735    win   \n",
              "..    ...                ...                    ...           ...    ...   \n",
              "177  2016         Jill Stein                  Green       1457226   loss   \n",
              "178  2020       Joseph Biden             Democratic      81268924    win   \n",
              "179  2020       Donald Trump             Republican      74216154   loss   \n",
              "180  2020       Jo Jorgensen            Libertarian       1865724   loss   \n",
              "181  2020     Howard Hawkins                  Green        405035   loss   \n",
              "\n",
              "             %  \n",
              "0    57.210122  \n",
              "1    42.789878  \n",
              "2    56.203927  \n",
              "3    43.796073  \n",
              "4    54.574789  \n",
              "..         ...  \n",
              "177   1.073699  \n",
              "178  51.311515  \n",
              "179  46.858542  \n",
              "180   1.177979  \n",
              "181   0.255731  \n",
              "\n",
              "[182 rows x 6 columns]"
            ]
          },
          "execution_count": 8,
          "metadata": {},
          "output_type": "execute_result"
        }
      ],
      "source": [
        "#Answer Here\n",
        "# As we read file already\n",
        "dataFrame = pd.DataFrame(a.set_index('Year'))\n",
        "print('Now Year as an index using DataFrame:\\n' , dataFrame)\n",
        "dataFrame.reset_index()"
      ]
    },
    {
      "cell_type": "code",
      "execution_count": 9,
      "metadata": {
        "colab": {
          "base_uri": "https://localhost:8080/",
          "height": 1000
        },
        "id": "bpN36utpDbpA",
        "outputId": "77bbb7f6-f892-4917-c51a-734d97533414"
      },
      "outputs": [
        {
          "name": "stdout",
          "output_type": "stream",
          "text": [
            "DataFrame using Their on DataFrame Structure\n",
            "\n",
            "      Candidate        Party     % Result\n",
            "Year                                    \n",
            "1980    Reagan   Republican  50.7    win\n",
            "1980    Carter   Democratic  41.0   loss\n",
            "1980  Anderson  Independent   6.6   loss\n",
            "1984    Reagan   Republican  58.8    win\n",
            "1984   Mondale   Democratic  37.6   loss\n",
            "1988      Bush   Republican  53.4    win\n",
            "1988   Dukakis   Democratic  45.6   loss\n",
            "1992   Clinton   Democratic  43.0    win\n",
            "1992      Bush   Republican  37.4   loss\n",
            "1992     Perot  Independent  18.9   loss\n",
            "1996   Clinton   Democratic  49.2    win\n",
            "1996      Dole   Republican  40.7   loss\n",
            "1996     Perot  Independent   8.4   loss\n",
            "2000      Gore   Democratic  48.4   loss\n",
            "2000      Bush   Republican  47.9    win\n",
            "2004     Kerry   Democratic  48.3   loss\n",
            "2004      Bush   Republican  50.7    win\n",
            "2008     Obama   Democratic  52.9    win\n",
            "2008    McCain   Republican  45.7   loss\n",
            "2012     Obama   Democratic  51.1    win\n",
            "2012    Romney   Republican  47.2   loss\n",
            "2016   Clinton   Democratic  48.2   loss\n",
            "2016     Trump   Republican  46.1    win\n",
            "\n",
            "\n",
            "\n",
            "\n",
            "\n",
            "DataFrame without Their on DataFrame Structure\n",
            "\n",
            "      Candidate        Party     % Result\n",
            "Year                                    \n",
            "1980    Reagan   Republican  50.7    win\n",
            "1980    Carter   Democratic  41.0   loss\n",
            "1980  Anderson  Independent   6.6   loss\n",
            "1984    Reagan   Republican  58.8    win\n",
            "1984   Mondale   Democratic  37.6   loss\n",
            "1988      Bush   Republican  53.4    win\n",
            "1988   Dukakis   Democratic  45.6   loss\n",
            "1992   Clinton   Democratic  43.0    win\n",
            "1992      Bush   Republican  37.4   loss\n",
            "1992     Perot  Independent  18.9   loss\n",
            "1996   Clinton   Democratic  49.2    win\n",
            "1996      Dole   Republican  40.7   loss\n",
            "1996     Perot  Independent   8.4   loss\n",
            "2000      Gore   Democratic  48.4   loss\n",
            "2000      Bush   Republican  47.9    win\n",
            "2004     Kerry   Democratic  48.3   loss\n",
            "2004      Bush   Republican  50.7    win\n",
            "2008     Obama   Democratic  52.9    win\n",
            "2008    McCain   Republican  45.7   loss\n",
            "2012     Obama   Democratic  51.1    win\n",
            "2012    Romney   Republican  47.2   loss\n",
            "2016   Clinton   Democratic  48.2   loss\n",
            "2016     Trump   Republican  46.1    win\n"
          ]
        },
        {
          "data": {
            "text/html": [
              "<div>\n",
              "<style scoped>\n",
              "    .dataframe tbody tr th:only-of-type {\n",
              "        vertical-align: middle;\n",
              "    }\n",
              "\n",
              "    .dataframe tbody tr th {\n",
              "        vertical-align: top;\n",
              "    }\n",
              "\n",
              "    .dataframe thead th {\n",
              "        text-align: right;\n",
              "    }\n",
              "</style>\n",
              "<table border=\"1\" class=\"dataframe\">\n",
              "  <thead>\n",
              "    <tr style=\"text-align: right;\">\n",
              "      <th></th>\n",
              "      <th>Year</th>\n",
              "      <th>Candidate</th>\n",
              "      <th>Party</th>\n",
              "      <th>%</th>\n",
              "      <th>Result</th>\n",
              "    </tr>\n",
              "  </thead>\n",
              "  <tbody>\n",
              "    <tr>\n",
              "      <th>0</th>\n",
              "      <td>1980</td>\n",
              "      <td>Reagan</td>\n",
              "      <td>Republican</td>\n",
              "      <td>50.7</td>\n",
              "      <td>win</td>\n",
              "    </tr>\n",
              "    <tr>\n",
              "      <th>1</th>\n",
              "      <td>1980</td>\n",
              "      <td>Carter</td>\n",
              "      <td>Democratic</td>\n",
              "      <td>41.0</td>\n",
              "      <td>loss</td>\n",
              "    </tr>\n",
              "    <tr>\n",
              "      <th>2</th>\n",
              "      <td>1980</td>\n",
              "      <td>Anderson</td>\n",
              "      <td>Independent</td>\n",
              "      <td>6.6</td>\n",
              "      <td>loss</td>\n",
              "    </tr>\n",
              "    <tr>\n",
              "      <th>3</th>\n",
              "      <td>1984</td>\n",
              "      <td>Reagan</td>\n",
              "      <td>Republican</td>\n",
              "      <td>58.8</td>\n",
              "      <td>win</td>\n",
              "    </tr>\n",
              "    <tr>\n",
              "      <th>4</th>\n",
              "      <td>1984</td>\n",
              "      <td>Mondale</td>\n",
              "      <td>Democratic</td>\n",
              "      <td>37.6</td>\n",
              "      <td>loss</td>\n",
              "    </tr>\n",
              "    <tr>\n",
              "      <th>5</th>\n",
              "      <td>1988</td>\n",
              "      <td>Bush</td>\n",
              "      <td>Republican</td>\n",
              "      <td>53.4</td>\n",
              "      <td>win</td>\n",
              "    </tr>\n",
              "    <tr>\n",
              "      <th>6</th>\n",
              "      <td>1988</td>\n",
              "      <td>Dukakis</td>\n",
              "      <td>Democratic</td>\n",
              "      <td>45.6</td>\n",
              "      <td>loss</td>\n",
              "    </tr>\n",
              "    <tr>\n",
              "      <th>7</th>\n",
              "      <td>1992</td>\n",
              "      <td>Clinton</td>\n",
              "      <td>Democratic</td>\n",
              "      <td>43.0</td>\n",
              "      <td>win</td>\n",
              "    </tr>\n",
              "    <tr>\n",
              "      <th>8</th>\n",
              "      <td>1992</td>\n",
              "      <td>Bush</td>\n",
              "      <td>Republican</td>\n",
              "      <td>37.4</td>\n",
              "      <td>loss</td>\n",
              "    </tr>\n",
              "    <tr>\n",
              "      <th>9</th>\n",
              "      <td>1992</td>\n",
              "      <td>Perot</td>\n",
              "      <td>Independent</td>\n",
              "      <td>18.9</td>\n",
              "      <td>loss</td>\n",
              "    </tr>\n",
              "    <tr>\n",
              "      <th>10</th>\n",
              "      <td>1996</td>\n",
              "      <td>Clinton</td>\n",
              "      <td>Democratic</td>\n",
              "      <td>49.2</td>\n",
              "      <td>win</td>\n",
              "    </tr>\n",
              "    <tr>\n",
              "      <th>11</th>\n",
              "      <td>1996</td>\n",
              "      <td>Dole</td>\n",
              "      <td>Republican</td>\n",
              "      <td>40.7</td>\n",
              "      <td>loss</td>\n",
              "    </tr>\n",
              "    <tr>\n",
              "      <th>12</th>\n",
              "      <td>1996</td>\n",
              "      <td>Perot</td>\n",
              "      <td>Independent</td>\n",
              "      <td>8.4</td>\n",
              "      <td>loss</td>\n",
              "    </tr>\n",
              "    <tr>\n",
              "      <th>13</th>\n",
              "      <td>2000</td>\n",
              "      <td>Gore</td>\n",
              "      <td>Democratic</td>\n",
              "      <td>48.4</td>\n",
              "      <td>loss</td>\n",
              "    </tr>\n",
              "    <tr>\n",
              "      <th>14</th>\n",
              "      <td>2000</td>\n",
              "      <td>Bush</td>\n",
              "      <td>Republican</td>\n",
              "      <td>47.9</td>\n",
              "      <td>win</td>\n",
              "    </tr>\n",
              "    <tr>\n",
              "      <th>15</th>\n",
              "      <td>2004</td>\n",
              "      <td>Kerry</td>\n",
              "      <td>Democratic</td>\n",
              "      <td>48.3</td>\n",
              "      <td>loss</td>\n",
              "    </tr>\n",
              "    <tr>\n",
              "      <th>16</th>\n",
              "      <td>2004</td>\n",
              "      <td>Bush</td>\n",
              "      <td>Republican</td>\n",
              "      <td>50.7</td>\n",
              "      <td>win</td>\n",
              "    </tr>\n",
              "    <tr>\n",
              "      <th>17</th>\n",
              "      <td>2008</td>\n",
              "      <td>Obama</td>\n",
              "      <td>Democratic</td>\n",
              "      <td>52.9</td>\n",
              "      <td>win</td>\n",
              "    </tr>\n",
              "    <tr>\n",
              "      <th>18</th>\n",
              "      <td>2008</td>\n",
              "      <td>McCain</td>\n",
              "      <td>Republican</td>\n",
              "      <td>45.7</td>\n",
              "      <td>loss</td>\n",
              "    </tr>\n",
              "    <tr>\n",
              "      <th>19</th>\n",
              "      <td>2012</td>\n",
              "      <td>Obama</td>\n",
              "      <td>Democratic</td>\n",
              "      <td>51.1</td>\n",
              "      <td>win</td>\n",
              "    </tr>\n",
              "    <tr>\n",
              "      <th>20</th>\n",
              "      <td>2012</td>\n",
              "      <td>Romney</td>\n",
              "      <td>Republican</td>\n",
              "      <td>47.2</td>\n",
              "      <td>loss</td>\n",
              "    </tr>\n",
              "    <tr>\n",
              "      <th>21</th>\n",
              "      <td>2016</td>\n",
              "      <td>Clinton</td>\n",
              "      <td>Democratic</td>\n",
              "      <td>48.2</td>\n",
              "      <td>loss</td>\n",
              "    </tr>\n",
              "    <tr>\n",
              "      <th>22</th>\n",
              "      <td>2016</td>\n",
              "      <td>Trump</td>\n",
              "      <td>Republican</td>\n",
              "      <td>46.1</td>\n",
              "      <td>win</td>\n",
              "    </tr>\n",
              "  </tbody>\n",
              "</table>\n",
              "</div>"
            ],
            "text/plain": [
              "    Year Candidate        Party     % Result\n",
              "0   1980    Reagan   Republican  50.7    win\n",
              "1   1980    Carter   Democratic  41.0   loss\n",
              "2   1980  Anderson  Independent   6.6   loss\n",
              "3   1984    Reagan   Republican  58.8    win\n",
              "4   1984   Mondale   Democratic  37.6   loss\n",
              "5   1988      Bush   Republican  53.4    win\n",
              "6   1988   Dukakis   Democratic  45.6   loss\n",
              "7   1992   Clinton   Democratic  43.0    win\n",
              "8   1992      Bush   Republican  37.4   loss\n",
              "9   1992     Perot  Independent  18.9   loss\n",
              "10  1996   Clinton   Democratic  49.2    win\n",
              "11  1996      Dole   Republican  40.7   loss\n",
              "12  1996     Perot  Independent   8.4   loss\n",
              "13  2000      Gore   Democratic  48.4   loss\n",
              "14  2000      Bush   Republican  47.9    win\n",
              "15  2004     Kerry   Democratic  48.3   loss\n",
              "16  2004      Bush   Republican  50.7    win\n",
              "17  2008     Obama   Democratic  52.9    win\n",
              "18  2008    McCain   Republican  45.7   loss\n",
              "19  2012     Obama   Democratic  51.1    win\n",
              "20  2012    Romney   Republican  47.2   loss\n",
              "21  2016   Clinton   Democratic  48.2   loss\n",
              "22  2016     Trump   Republican  46.1    win"
            ]
          },
          "execution_count": 9,
          "metadata": {},
          "output_type": "execute_result"
        }
      ],
      "source": [
        "# Here we read .csv file directly\n",
        "\n",
        "dataFrame_1 = pd.DataFrame((pd.read_csv('/workspaces/Advance_DS/elections.csv', index_col='Year')))\n",
        "print('DataFrame using Their on DataFrame Structure\\n\\n',dataFrame_1)\n",
        "dataFrame_1.reset_index()\n",
        "print('\\n\\n')\n",
        "dataFrame_2 = pd.DataFrame((pd.read_csv('/workspaces/Advance_DS/elections.csv').set_index('Year')))\n",
        "print('\\n\\nDataFrame without Their on DataFrame Structure\\n\\n',dataFrame_2)\n",
        "dataFrame_2.reset_index()"
      ]
    },
    {
      "cell_type": "markdown",
      "metadata": {
        "id": "kOpP3gBYPtvJ"
      },
      "source": [
        "# Caution:\n",
        "The **set_index command** (along with all other data frame methods) **does not modify the dataframe**, i.e., the original \"elections\" is untouched. Note: There is a flag called \"inplace\" which does modify the calling dataframe (e.g., `elections.set_index(\"Party\",inplace=True)`)."
      ]
    },
    {
      "cell_type": "markdown",
      "metadata": {
        "id": "HYFFeZwRPtvJ"
      },
      "source": [
        "## Duplicate Columns?\n",
        "By contast, column names MUST be unique. For example, if we try to read in a file for which column names are not unique, Pandas will automatically any duplicates. Load duplicate_columns.csv"
      ]
    },
    {
      "cell_type": "code",
      "execution_count": 10,
      "metadata": {
        "colab": {
          "base_uri": "https://localhost:8080/"
        },
        "id": "4VSBA-Y4PtvJ",
        "outputId": "3af92894-71b3-47ed-cee7-12912e5a84d0"
      },
      "outputs": [
        {
          "name": "stdout",
          "output_type": "stream",
          "text": [
            "Duplicate Column File read :\n",
            "     name    name.1      flavor\n",
            "0   john     smith     vanilla\n",
            "1  zhang      shan   chocolate\n",
            "2  fulan  alfulani  strawberry\n",
            "3   hong   gildong      banana\n",
            "First five rows show :\n",
            "     name    name.1      flavor\n",
            "0   john     smith     vanilla\n",
            "1  zhang      shan   chocolate\n",
            "2  fulan  alfulani  strawberry\n",
            "3   hong   gildong      banana\n"
          ]
        }
      ],
      "source": [
        "columnsShow = pd.read_csv('/workspaces/Advance_DS/duplicate_columns.csv')\n",
        "print('Duplicate Column File read :\\n' , columnsShow)\n",
        "#       -----------------------------------------------------\n",
        "\n",
        "ColumnShow_head = columnsShow.head()\n",
        "print('First five rows show :\\n' , ColumnShow_head)"
      ]
    },
    {
      "cell_type": "markdown",
      "metadata": {
        "id": "fUjSXLNhPtvK"
      },
      "source": [
        "## The [ ] Operator & Indexing"
      ]
    },
    {
      "cell_type": "markdown",
      "metadata": {
        "id": "_y0PM7R9PtvK"
      },
      "source": [
        "The DataFrame class has an indexing operator **[ ]** (also known as the 'brack' operator) that lets you do a variety of different things. If your provide a String to the **[ ]** operator, you get back a ***Series*** corresponding to the requested label.\n",
        "\n",
        "1.Use **[ ]** to display different columns\n",
        "\n",
        "2.Use List retrive multiple columns"
      ]
    },
    {
      "cell_type": "code",
      "execution_count": 11,
      "metadata": {
        "colab": {
          "base_uri": "https://localhost:8080/"
        },
        "id": "MpSUIkiHPtvK",
        "outputId": "a349472c-3552-4cb3-ef83-7def50e9abed"
      },
      "outputs": [
        {
          "name": "stdout",
          "output_type": "stream",
          "text": [
            "Only use Bracket show column name\n",
            "\n",
            " 0     john\n",
            "1    zhang\n",
            "2    fulan\n",
            "3     hong\n",
            "Name: name, dtype: object\n",
            "\n",
            "Only use Bracket show column name.1\n",
            "\n",
            " 0       smith\n",
            "1        shan\n",
            "2    alfulani\n",
            "3     gildong\n",
            "Name: name.1, dtype: object\n",
            "\n",
            "Only use Bracket show column flavor\n",
            "\n",
            " 0       vanilla\n",
            "1     chocolate\n",
            "2    strawberry\n",
            "3        banana\n",
            "Name: flavor, dtype: object\n",
            "\n",
            "\n",
            "Use List\n",
            "\n",
            "     name      flavor    name.1\n",
            "0   john     vanilla     smith\n",
            "1  zhang   chocolate      shan\n",
            "2  fulan  strawberry  alfulani\n",
            "3   hong      banana   gildong\n"
          ]
        }
      ],
      "source": [
        "# Answer Here\n",
        "# 1.Use [ ] to display different columns\n",
        "\n",
        "index_Operator_1 = columnsShow['name']\n",
        "print('Only use Bracket show column name\\n\\n',index_Operator_1)\n",
        "#             ---------------------------------------------\n",
        "index_Operator_2 = columnsShow['name.1']\n",
        "print('\\nOnly use Bracket show column name.1\\n\\n',index_Operator_2)\n",
        "#             ---------------------------------------------\n",
        "index_Operator_3 = columnsShow['flavor']\n",
        "print('\\nOnly use Bracket show column flavor\\n\\n',index_Operator_3)\n",
        "\n",
        "# 2.Use List retrive multiple columns\n",
        "index_Operator = columnsShow[['name','flavor','name.1']]\n",
        "print('\\n\\nUse List\\n\\n',index_Operator)"
      ]
    },
    {
      "cell_type": "markdown",
      "metadata": {
        "id": "DopcbfEpPtvK"
      },
      "source": [
        "The **[ ]** operator also accepts a list of strings. In this case, you get back a **DataFrame** corresponding to the requested strings."
      ]
    },
    {
      "cell_type": "code",
      "execution_count": null,
      "metadata": {
        "colab": {
          "base_uri": "https://localhost:8080/"
        },
        "id": "lX4YozsZPtvK",
        "outputId": "f1bc0908-b286-496c-bb10-63653c0f6463",
        "scrolled": true
      },
      "outputs": [
        {
          "name": "stdout",
          "output_type": "stream",
          "text": [
            "\n",
            "\n",
            "Use List\n",
            "\n",
            "     name      flavor    name.1\n",
            "0   john     vanilla     smith\n",
            "1  zhang   chocolate      shan\n",
            "2  fulan  strawberry  alfulani\n",
            "3   hong      banana   gildong\n"
          ]
        }
      ],
      "source": [
        "# Answer Here\n",
        "dataFrame1 = columnsShow[['name','flavor','name.1']]\n",
        "print('\\n\\nUse List\\n\\n',dataFrame1)"
      ]
    },
    {
      "cell_type": "markdown",
      "metadata": {
        "id": "7pv2JkjRPtvK"
      },
      "source": [
        "A list of one label also returns a DataFrame. This can be handy if you want your results as a DataFrame, not a series."
      ]
    },
    {
      "cell_type": "markdown",
      "metadata": {
        "id": "XqKnvINoPtvL"
      },
      "source": [
        "Note that we can also use the **to_frame** method to turn a Series into a DataFrame.\n",
        "\n",
        "Extract one col name \"Candidates\" from DataFrame it will be a series. Convert series into a DataFrame."
      ]
    },
    {
      "cell_type": "code",
      "execution_count": null,
      "metadata": {
        "colab": {
          "base_uri": "https://localhost:8080/"
        },
        "id": "XUOtNoVnPtvL",
        "outputId": "9c0f7c70-f54d-44a1-b678-564d10195e58"
      },
      "outputs": [
        {
          "name": "stdout",
          "output_type": "stream",
          "text": [
            "    name    name.1      flavor\n",
            "0   john     smith     vanilla\n",
            "1  zhang      shan   chocolate\n",
            "2  fulan  alfulani  strawberry\n",
            "3   hong   gildong      banana\n",
            "\n",
            "\n",
            "Convert Series into DataFrame\n",
            "\n",
            "     name\n",
            "0   john\n",
            "1  zhang\n",
            "2  fulan\n",
            "3   hong\n"
          ]
        }
      ],
      "source": [
        "# Answer Here\n",
        "print(columnsShow)\n",
        "dupplicate_columns = columnsShow['name']\n",
        "convert_duplicate_columns = dupplicate_columns.to_frame()\n",
        "\n",
        "print('\\n\\nConvert Series into DataFrame\\n\\n',convert_duplicate_columns)"
      ]
    },
    {
      "cell_type": "markdown",
      "metadata": {
        "id": "8l2IdtBwPtvL"
      },
      "source": [
        "### Row Indexing\n",
        "\n",
        "The `[]` operator also accepts numerical slices as arguments. In this case, we are indexing by row, not column!\n",
        "\n",
        "Extract few rows from DataFrame"
      ]
    },
    {
      "cell_type": "code",
      "execution_count": null,
      "metadata": {
        "colab": {
          "base_uri": "https://localhost:8080/"
        },
        "id": "VrZMcM5rPtvL",
        "outputId": "3e9f856b-876f-4fc6-d296-729bd7946660",
        "scrolled": true
      },
      "outputs": [
        {
          "name": "stdout",
          "output_type": "stream",
          "text": [
            "                   Candidate                  Party  Popular vote Result  \\\n",
            "Year                                                                       \n",
            "1824       John Quincy Adams  Democratic-Republican        113142    win   \n",
            "1828          Andrew Jackson             Democratic        642806    win   \n",
            "1828       John Quincy Adams    National Republican        500897   loss   \n",
            "1832          Andrew Jackson             Democratic        702735    win   \n",
            "1832              Henry Clay    National Republican        484205   loss   \n",
            "1832            William Wirt           Anti-Masonic        100715   loss   \n",
            "1836       Hugh Lawson White                   Whig        146109   loss   \n",
            "1836        Martin Van Buren             Democratic        763291    win   \n",
            "1836  William Henry Harrison                   Whig        550816   loss   \n",
            "\n",
            "              %  \n",
            "Year             \n",
            "1824  42.789878  \n",
            "1828  56.203927  \n",
            "1828  43.796073  \n",
            "1832  54.574789  \n",
            "1832  37.603628  \n",
            "1832   7.821583  \n",
            "1836  10.005985  \n",
            "1836  52.272472  \n",
            "1836  37.721543  \n"
          ]
        }
      ],
      "source": [
        "# Answer Here\n",
        "extract_rows = dataFrame[1:10]\n",
        "print(extract_rows)\n",
        "\n"
      ]
    },
    {
      "cell_type": "markdown",
      "metadata": {
        "id": "BbzS6oI4PtvN"
      },
      "source": [
        "If you provide a single argument to the `[]` operator, it tries to use it as a name. This is true even if the argument passed to **[ ]** is an integer."
      ]
    },
    {
      "cell_type": "code",
      "execution_count": null,
      "metadata": {
        "id": "tw51ccpUPtvN"
      },
      "outputs": [],
      "source": [
        "# dataFrame[0] #this does not work, try uncommenting this to see it fail in action, woo"
      ]
    },
    {
      "cell_type": "markdown",
      "metadata": {
        "id": "EJsBn7uKPtvN"
      },
      "source": [
        "The following cells allow you to **test your understanding**. Let's go over the summary of what we have learnt (see slides).\n",
        "\n",
        "# Creating DataFrames\n",
        "Create DataFrame using List and Columns name."
      ]
    },
    {
      "cell_type": "code",
      "execution_count": null,
      "metadata": {
        "colab": {
          "base_uri": "https://localhost:8080/"
        },
        "id": "yA1NsyftUQYi",
        "outputId": "c6e3d078-2b0e-4aab-9028-5dca1886e52b"
      },
      "outputs": [
        {
          "name": "stdout",
          "output_type": "stream",
          "text": [
            "  name Gender\n",
            "0   P1      M\n",
            "1   P2      F\n",
            "2   P3      F\n",
            "3   P4      M\n"
          ]
        }
      ],
      "source": [
        "# Answer Here\n",
        "\n",
        "dataFrame_create = pd.DataFrame([['P1','M'],\n",
        "                                 ['P2','F'],\n",
        "                                 ['P3','F'],\n",
        "                                 ['P4','M']],\n",
        "                                columns=['name','Gender'])\n",
        "print(dataFrame_create)"
      ]
    },
    {
      "cell_type": "markdown",
      "metadata": {
        "id": "De8I7tdRhSCc"
      },
      "source": [
        "Creating DataFrames using **Dictionary**."
      ]
    },
    {
      "cell_type": "code",
      "execution_count": null,
      "metadata": {
        "colab": {
          "base_uri": "https://localhost:8080/"
        },
        "id": "YLidbVoJPtvN",
        "outputId": "0d8cfdbb-b30c-464f-ff42-24eedbb6ed7e"
      },
      "outputs": [
        {
          "name": "stdout",
          "output_type": "stream",
          "text": [
            "  name Gender\n",
            "0   P1      M\n",
            "1   P2      F\n",
            "2   P3      F\n",
            "3   P4      M\n"
          ]
        }
      ],
      "source": [
        "# Answer Here\n",
        "dataFrame_create_1 = pd.DataFrame({'name':['P1','P2','P3','P4'],\n",
        "                                   'Gender':['M','F','F','M']})\n",
        "print(dataFrame_create_1)"
      ]
    },
    {
      "cell_type": "markdown",
      "metadata": {
        "id": "GsX8jyA3PtvO"
      },
      "source": [
        "## Filtering via Boolean Array Selection"
      ]
    },
    {
      "cell_type": "markdown",
      "metadata": {
        "id": "RXDjTannPtvO"
      },
      "source": [
        "The `[]` operator also supports array of booleans as an input. In this case, the array must be exactly as long as the number of rows. The result is a **filtered version of the data frame**, where **only rows corresponding to True appear**."
      ]
    },
    {
      "cell_type": "code",
      "execution_count": null,
      "metadata": {
        "id": "pD79oglhPtvP"
      },
      "outputs": [],
      "source": [
        "elections[[False, False, False, False, False,\n",
        "          False, False, True, False, False,\n",
        "          True, False, False, False, True,\n",
        "          False, False, False, False, False,\n",
        "          False, True, False]]"
      ]
    },
    {
      "cell_type": "markdown",
      "metadata": {
        "id": "0lo-osU2PtvP"
      },
      "source": [
        "One very common task in Data Science is **filtering**. Boolean Array Selection is one way to achieve this in Pandas. We start by observing that **logical operators** like the equality operator can be applied to **Pandas Series data** to generate a **Boolean Array**.\n",
        "\n",
        "Compare the 'Result' column to the String 'win' and Show results"
      ]
    },
    {
      "cell_type": "code",
      "execution_count": null,
      "metadata": {
        "id": "Or9NKO2kPtvP"
      },
      "outputs": [],
      "source": [
        "#Answer Here"
      ]
    },
    {
      "cell_type": "markdown",
      "metadata": {
        "id": "bFEH7w974G63"
      },
      "source": [
        "Compare the 'Party' column to the String 'Democratic' and Show results"
      ]
    },
    {
      "cell_type": "code",
      "execution_count": null,
      "metadata": {
        "id": "BeyIZ48fPtvP"
      },
      "outputs": [],
      "source": [
        "#Answer Here"
      ]
    },
    {
      "cell_type": "markdown",
      "metadata": {
        "id": "TiRu5S1FPtvP"
      },
      "source": [
        "The output of the logical operator applied to the Series is **another Series with the same name and index, but of datatype boolean**."
      ]
    },
    {
      "cell_type": "markdown",
      "metadata": {
        "id": "Avt0U9UBPtvQ"
      },
      "source": [
        "These boolean Series can be used as an argument to the `[]` operator.\n",
        "\n",
        "Creates  DataFrame of all election winners since 1980."
      ]
    },
    {
      "cell_type": "code",
      "execution_count": null,
      "metadata": {
        "id": "UTzXe5syPtvQ"
      },
      "outputs": [],
      "source": [
        "#Answer Here"
      ]
    },
    {
      "cell_type": "markdown",
      "metadata": {
        "id": "EEv5yYEhPtvQ"
      },
      "source": [
        "Above, we've assigned the result of the logical operator to a new variable called `iswin`. This is uncommon. Usually, the series is created and used on the same line. Such code is a little tricky to read at first, but you'll get used to it quickly.\n",
        "\n",
        "Show all 'win' results between 1980 to 2000"
      ]
    },
    {
      "cell_type": "code",
      "execution_count": null,
      "metadata": {
        "id": "BBFYJwLwPtvQ"
      },
      "outputs": [],
      "source": [
        "#Answer Here"
      ]
    },
    {
      "cell_type": "markdown",
      "metadata": {
        "id": "_NW4uODP5C7M"
      },
      "source": [
        "Show all 'Loss' results of Independent party"
      ]
    },
    {
      "cell_type": "code",
      "execution_count": null,
      "metadata": {
        "id": "SucI5W7yPtvQ"
      },
      "outputs": [],
      "source": [
        "# Answer Here"
      ]
    },
    {
      "cell_type": "markdown",
      "metadata": {
        "id": "wr9tNNT_PtvQ"
      },
      "source": [
        "We can select multiple criteria by creating multiple boolean Series and combining them using the `&` operator.\n",
        "\n",
        "Show results of win with percentage less than 50%"
      ]
    },
    {
      "cell_type": "code",
      "execution_count": null,
      "metadata": {
        "id": "7VygVujvPtvQ",
        "scrolled": true
      },
      "outputs": [],
      "source": [
        "# Answer Here"
      ]
    },
    {
      "cell_type": "markdown",
      "metadata": {
        "id": "ToedM6lA6Bp7"
      },
      "source": [
        "Show all 'win' results between 1980 to 2000"
      ]
    },
    {
      "cell_type": "code",
      "execution_count": null,
      "metadata": {
        "id": "RfqDKcii6Dcs"
      },
      "outputs": [],
      "source": [
        "# Answer Here"
      ]
    },
    {
      "cell_type": "markdown",
      "metadata": {
        "id": "pkonOW2pPtvR"
      },
      "source": [
        "## Loc and iLoc"
      ]
    },
    {
      "cell_type": "markdown",
      "metadata": {
        "id": "hSiAy9KD5eJk"
      },
      "source": [
        "Show 5 enteries from start"
      ]
    },
    {
      "cell_type": "code",
      "execution_count": null,
      "metadata": {
        "id": "OIwnpgEM6HeI"
      },
      "outputs": [],
      "source": [
        "# Answer Here"
      ]
    },
    {
      "cell_type": "markdown",
      "metadata": {
        "id": "XHhLGedmPtvR"
      },
      "source": [
        "You can provide `.loc` a list of row labels [0-5] and column labels ['Candidate','Party', 'Year'] as input to return a dataframe"
      ]
    },
    {
      "cell_type": "code",
      "execution_count": null,
      "metadata": {
        "id": "XUZe4G0WPtvR"
      },
      "outputs": [],
      "source": [
        "#Answer Here"
      ]
    },
    {
      "cell_type": "markdown",
      "metadata": {
        "id": "Tw5Er1BCPtvR"
      },
      "source": [
        "Loc also supports **slicing** (for all types, including numeric and string labels!). Note that the slicing for loc is **inclusive**, even for numeric slices.\n",
        "\n",
        "Use Slicing on Rows and Columns"
      ]
    },
    {
      "cell_type": "code",
      "execution_count": null,
      "metadata": {
        "id": "SXI38aagPtvR",
        "scrolled": true
      },
      "outputs": [],
      "source": [
        "# Answer Here"
      ]
    },
    {
      "cell_type": "markdown",
      "metadata": {
        "id": "pM5KD0kPPtvR"
      },
      "source": [
        "If we provide only a **single label** for the column argument, we get back a **Series**."
      ]
    },
    {
      "cell_type": "code",
      "execution_count": null,
      "metadata": {
        "id": "Ps6PUX9_PtvS"
      },
      "outputs": [],
      "source": [
        "# Answer Here"
      ]
    },
    {
      "cell_type": "markdown",
      "metadata": {
        "id": "z8qglbBwPtvS"
      },
      "source": [
        "If we want a data frame instead and don't want to use to_frame, we can provide a **list** containing the column name."
      ]
    },
    {
      "cell_type": "code",
      "execution_count": null,
      "metadata": {
        "id": "I9JqZBVMPtvS",
        "scrolled": true
      },
      "outputs": [],
      "source": [
        "# Answer Here"
      ]
    },
    {
      "cell_type": "markdown",
      "metadata": {
        "id": "QighByBIPtvS"
      },
      "source": [
        "If we give only one row but many column labels, we'll get back a **Series** corresponding to a row of the table. This new Series has a neat index, where **each entry is the name of the column** that the data came from."
      ]
    },
    {
      "cell_type": "code",
      "execution_count": null,
      "metadata": {
        "id": "5XT8-_bpPtvS"
      },
      "outputs": [],
      "source": [
        "# Answer Here"
      ]
    },
    {
      "cell_type": "code",
      "execution_count": null,
      "metadata": {
        "id": "hcdTlR8uPtvS"
      },
      "outputs": [],
      "source": [
        "# Answer Here"
      ]
    },
    {
      "cell_type": "markdown",
      "metadata": {
        "id": "oB0GTCT5PtvS"
      },
      "source": [
        "If we omit the column argument altogether, the **default behavior is to retrieve all columns**."
      ]
    },
    {
      "cell_type": "code",
      "execution_count": null,
      "metadata": {
        "id": "cewKbmCYPtvT"
      },
      "outputs": [],
      "source": [
        "# Answer Here\n"
      ]
    },
    {
      "cell_type": "markdown",
      "metadata": {
        "id": "GIuYoSqH7TYj"
      },
      "source": [
        "Specify Rows and Columns as List to retrive specific enteries"
      ]
    },
    {
      "cell_type": "code",
      "execution_count": null,
      "metadata": {
        "id": "roAnjNt2PtvT",
        "scrolled": true
      },
      "outputs": [],
      "source": [
        "# Answer Here"
      ]
    },
    {
      "cell_type": "markdown",
      "metadata": {
        "id": "C7Bfwc6gPtvT"
      },
      "source": [
        "Boolean Series are also boolean arrays, so we can use the Boolean Array Selection from earlier using loc as well."
      ]
    },
    {
      "cell_type": "code",
      "execution_count": null,
      "metadata": {
        "id": "Ub9I30OxPtvT"
      },
      "outputs": [],
      "source": [
        "# Answer Here"
      ]
    },
    {
      "cell_type": "markdown",
      "metadata": {
        "id": "533WKwGXPtvT"
      },
      "source": [
        "## String-labeled Rows\n",
        "\n",
        "Let's do a quick example using data with string-labeled rows instead of integer labeled rows, just to make sure we're really understanding loc.\n",
        "\n",
        "Use mottos.csv file"
      ]
    },
    {
      "cell_type": "code",
      "execution_count": null,
      "metadata": {
        "id": "-y7r7wfBPtvT"
      },
      "outputs": [],
      "source": [
        "# Answer Here"
      ]
    },
    {
      "cell_type": "markdown",
      "metadata": {
        "id": "8E1olDerPtvT"
      },
      "source": [
        "Extract slice, can be specified using slice notation, even if the rows have string labels instead of integer labels."
      ]
    },
    {
      "cell_type": "markdown",
      "metadata": {
        "id": "9meAs22VPtvU"
      },
      "source": [
        "### iloc"
      ]
    },
    {
      "cell_type": "markdown",
      "metadata": {
        "id": "Kgz9kKXLPtvU"
      },
      "source": [
        "loc's cousin iloc is very similar, but is used to access based on numerical position instead of label. For example, to access to the top 3 rows and top 3 columns of a table, we can use [0:3, 0:3]. 'iloc' slicing is **exclusive**, just like standard Python slicing of numerical values.\n",
        "\n",
        "Use iloc to extract first 3 rows and columns from elections DataFrame"
      ]
    },
    {
      "cell_type": "code",
      "execution_count": null,
      "metadata": {
        "id": "TveQUq2oPtvU"
      },
      "outputs": [],
      "source": [
        "#Answer Here"
      ]
    },
    {
      "cell_type": "markdown",
      "metadata": {
        "id": "d75cITKiPtvV"
      },
      "source": [
        "We will use both `loc` and `iloc` in the course. `loc` is generally preferred for a number of reasons, for example:\n",
        "\n",
        "1. It is harder to make mistakes since you have to literally write out what you want to get.\n",
        "2. Code is easier to read, because the reader doesn't have to know e.g., what column #17 represents.\n",
        "3. It is robust against permutations of the data, e.g. the social security administration switches the order of two columns.\n",
        "\n",
        "However, iloc is sometimes more convenient. We'll provide examples of when iloc is the superior choice."
      ]
    },
    {
      "cell_type": "markdown",
      "metadata": {
        "id": "Sj-li9oQPtvV"
      },
      "source": [
        "## Handy Properties and Utility Functions for Series and DataFrames"
      ]
    },
    {
      "cell_type": "markdown",
      "metadata": {
        "id": "2D6yrBvcPtvV"
      },
      "source": [
        "The head, shape, size, and describe methods can be used to quickly get a good sense of the data we're working with. For example:"
      ]
    },
    {
      "cell_type": "code",
      "execution_count": 13,
      "metadata": {
        "id": "I2c3ON6BPtvV"
      },
      "outputs": [],
      "source": [
        "mottos = pd.read_csv(\"/workspaces/Advance_DS/mottos.csv\")"
      ]
    },
    {
      "cell_type": "code",
      "execution_count": 14,
      "metadata": {
        "colab": {
          "base_uri": "https://localhost:8080/"
        },
        "id": "3lj5YSbzPtvV",
        "outputId": "13294335-3406-4c19-b814-fec15d22bcaf"
      },
      "outputs": [
        {
          "name": "stdout",
          "output_type": "stream",
          "text": [
            "Print first 5 rows using head command : \n",
            "         State                          Motto                 Translation  \\\n",
            "0     Alabama  Audemus jura nostra defendere  We dare defend our rights!   \n",
            "1      Alaska            North to the future                           —   \n",
            "2     Arizona                     Ditat Deus                God enriches   \n",
            "3    Arkansas                 Regnat populus             The people rule   \n",
            "4  California                Eureka (Εὕρηκα)             I have found it   \n",
            "\n",
            "  Language Date Adopted  \n",
            "0    Latin         1923  \n",
            "1  English         1967  \n",
            "2    Latin         1863  \n",
            "3    Latin         1907  \n",
            "4    Greek         1849  \n",
            "Print first 5 rows using tail command :              State                  Motto                   Translation  \\\n",
            "45       Virginia    Sic semper tyrannis        Thus always to tyrants   \n",
            "46     Washington          Al-ki or Alki                     By and by   \n",
            "47  West Virginia  Montani semper liberi  Mountaineers are always free   \n",
            "48      Wisconsin                Forward                             —   \n",
            "49        Wyoming           Equal Rights                             —   \n",
            "\n",
            "          Language        Date Adopted  \n",
            "45           Latin                1776  \n",
            "46  Chinook Jargon                   —  \n",
            "47           Latin  September 26, 1863  \n",
            "48         English                1851  \n",
            "49         English                1893  \n",
            "Print first 5 rows using describe command :            State                          Motto Translation Language  \\\n",
            "count        50                             50          49       50   \n",
            "unique       50                             50          30        8   \n",
            "top     Alabama  Audemus jura nostra defendere           —    Latin   \n",
            "freq          1                              1          20       23   \n",
            "\n",
            "       Date Adopted  \n",
            "count            50  \n",
            "unique           47  \n",
            "top            1893  \n",
            "freq              2  \n"
          ]
        }
      ],
      "source": [
        "# Answer Here\n",
        "\n",
        "print('Print first 5 rows using head command : \\n', mottos.head())\n",
        "print('Print first 5 rows using tail command : ', mottos.tail())\n",
        "print('Print first 5 rows using describe command : ', mottos.describe())"
      ]
    },
    {
      "cell_type": "code",
      "execution_count": 15,
      "metadata": {
        "colab": {
          "base_uri": "https://localhost:8080/"
        },
        "id": "AVg-87gBfnBN",
        "outputId": "fdb51d5a-fefe-4f83-e648-1cea7f3ce1e4"
      },
      "outputs": [
        {
          "name": "stdout",
          "output_type": "stream",
          "text": [
            "Print first 5 rows using head command \t: \n",
            "         State                          Motto                 Translation  \\\n",
            "0     Alabama  Audemus jura nostra defendere  We dare defend our rights!   \n",
            "1      Alaska            North to the future                           —   \n",
            "2     Arizona                     Ditat Deus                God enriches   \n",
            "3    Arkansas                 Regnat populus             The people rule   \n",
            "4  California                Eureka (Εὕρηκα)             I have found it   \n",
            "\n",
            "  Language Date Adopted  \n",
            "0    Latin         1923  \n",
            "1  English         1967  \n",
            "2    Latin         1863  \n",
            "3    Latin         1907  \n",
            "4    Greek         1849  \n",
            "\n",
            "Print first 5 rows using tail command \t:              State                  Motto                   Translation  \\\n",
            "45       Virginia    Sic semper tyrannis        Thus always to tyrants   \n",
            "46     Washington          Al-ki or Alki                     By and by   \n",
            "47  West Virginia  Montani semper liberi  Mountaineers are always free   \n",
            "48      Wisconsin                Forward                             —   \n",
            "49        Wyoming           Equal Rights                             —   \n",
            "\n",
            "          Language        Date Adopted  \n",
            "45           Latin                1776  \n",
            "46  Chinook Jargon                   —  \n",
            "47           Latin  September 26, 1863  \n",
            "48         English                1851  \n",
            "49         English                1893  \n",
            "\n",
            "Print first 5 rows using describe command :            State                          Motto Translation Language  \\\n",
            "count        50                             50          49       50   \n",
            "unique       50                             50          30        8   \n",
            "top     Alabama  Audemus jura nostra defendere           —    Latin   \n",
            "freq          1                              1          20       23   \n",
            "\n",
            "       Date Adopted  \n",
            "count            50  \n",
            "unique           47  \n",
            "top            1893  \n",
            "freq              2  \n"
          ]
        }
      ],
      "source": [
        "# Answer Here\n",
        "\n",
        "print('Print first 5 rows using head command \\t: \\n', mottos.head())\n",
        "print('\\nPrint first 5 rows using tail command \\t: ', mottos.tail())\n",
        "print('\\nPrint first 5 rows using describe command : ', mottos.describe())"
      ]
    },
    {
      "cell_type": "markdown",
      "metadata": {
        "id": "bQSKGPxTroVf"
      },
      "source": [
        "Size of DataFrame"
      ]
    },
    {
      "cell_type": "code",
      "execution_count": null,
      "metadata": {
        "colab": {
          "base_uri": "https://localhost:8080/"
        },
        "id": "iGVtW1YEPtvV",
        "outputId": "05426c29-3140-45a2-e090-24ed357da8b1"
      },
      "outputs": [
        {
          "name": "stdout",
          "output_type": "stream",
          "text": [
            "Size of Data Frame :  250\n"
          ]
        }
      ],
      "source": [
        "# Answer Here\n",
        "print('Size of Data Frame : ', mottos.size)"
      ]
    },
    {
      "cell_type": "markdown",
      "metadata": {
        "id": "PB4R3k_6PtvW"
      },
      "source": [
        "The fact that the size is 250 means our data file is relatively small, with only 250 total entries.\n",
        "\n",
        "Shape of DataFrame"
      ]
    },
    {
      "cell_type": "code",
      "execution_count": null,
      "metadata": {
        "id": "dBaU7nMNPtvW"
      },
      "outputs": [],
      "source": [
        "# Answer Here"
      ]
    },
    {
      "cell_type": "markdown",
      "metadata": {
        "id": "NevFNt3_PtvW"
      },
      "source": [
        "Use describe function and extract the meaningful information from DataFrame"
      ]
    },
    {
      "cell_type": "code",
      "execution_count": null,
      "metadata": {
        "id": "7T7Xg4wePtvW"
      },
      "outputs": [],
      "source": [
        "# Answer Here"
      ]
    },
    {
      "cell_type": "markdown",
      "metadata": {
        "id": "jEAxyt57PtvW"
      },
      "source": [
        "Above, we see a quick summary of all the data. For example, the most common language for mottos is Latin, which covers 23 different states. Does anything else seem surprising?"
      ]
    },
    {
      "cell_type": "markdown",
      "metadata": {
        "id": "5Sz84ZcoPtvX"
      },
      "source": [
        "We can get a direct reference to the index using .index."
      ]
    },
    {
      "cell_type": "code",
      "execution_count": null,
      "metadata": {
        "id": "Oc8PNHQSPtvX"
      },
      "outputs": [],
      "source": [
        "# Answer Here"
      ]
    },
    {
      "cell_type": "code",
      "execution_count": null,
      "metadata": {
        "id": "fHrsk46BPtvX"
      },
      "outputs": [],
      "source": [
        "mottos.head(2)"
      ]
    },
    {
      "cell_type": "markdown",
      "metadata": {
        "id": "IZRgHL-cPtvX"
      },
      "source": [
        "It turns out the columns also have an Index. We can access this index by using `.columns`."
      ]
    },
    {
      "cell_type": "code",
      "execution_count": null,
      "metadata": {
        "colab": {
          "base_uri": "https://localhost:8080/"
        },
        "id": "b3uXufYwPtvX",
        "outputId": "c97a8be0-cdf1-4ace-da34-8ed493a72928"
      },
      "outputs": [
        {
          "data": {
            "text/plain": [
              "Index(['State', 'Motto', 'Translation', 'Language', 'Date Adopted'], dtype='object')"
            ]
          },
          "execution_count": 18,
          "metadata": {},
          "output_type": "execute_result"
        }
      ],
      "source": [
        "# Answer Here"
      ]
    },
    {
      "cell_type": "markdown",
      "metadata": {
        "id": "vfqTqtXjPtvY"
      },
      "source": [
        "## Sorting and Value Counts\n",
        "\n",
        "There are also a ton of useful utility methods we can use with Data Frames and Series. For example, we can create a copy of a data frame sorted by a specific column using `sort_values`."
      ]
    },
    {
      "cell_type": "code",
      "execution_count": null,
      "metadata": {
        "id": "ioH43WI_PtvY"
      },
      "outputs": [],
      "source": [
        "# Answer Here"
      ]
    },
    {
      "cell_type": "markdown",
      "metadata": {
        "id": "LwW2YK8gPtvY"
      },
      "source": [
        "As mentioned before, all Data Frame methods return a copy and do **not** modify the original data structure, unless you set inplace to True."
      ]
    },
    {
      "cell_type": "markdown",
      "metadata": {
        "id": "tMqlf3Q8PtvY"
      },
      "source": [
        "If we want to sort in reverse order, we can set `ascending=False`."
      ]
    },
    {
      "cell_type": "code",
      "execution_count": null,
      "metadata": {
        "id": "-Cx7vHzKPtvY"
      },
      "outputs": [],
      "source": [
        "elections.sort_values('%', ascending=False)"
      ]
    },
    {
      "cell_type": "markdown",
      "metadata": {
        "id": "l88QC8yvPtvZ"
      },
      "source": [
        "We can also use `sort_values` on Series objects."
      ]
    },
    {
      "cell_type": "code",
      "execution_count": null,
      "metadata": {
        "id": "4wTi414QPtva"
      },
      "outputs": [],
      "source": [
        "mottos['Language'].sort_values().head(50)"
      ]
    },
    {
      "cell_type": "markdown",
      "metadata": {
        "id": "8_4EHw_lPtvb"
      },
      "source": [
        "For Series, the `value_counts` method is often quite handy."
      ]
    },
    {
      "cell_type": "code",
      "execution_count": null,
      "metadata": {
        "id": "qO1Uxnw3Ptvb"
      },
      "outputs": [],
      "source": [
        "mottos['Language'].value_counts()"
      ]
    },
    {
      "cell_type": "markdown",
      "metadata": {
        "id": "l1fAovTpPtvb"
      },
      "source": [
        "Also commonly used is the `unique` method, which returns **all unique values** as a numpy array."
      ]
    },
    {
      "cell_type": "code",
      "execution_count": null,
      "metadata": {
        "id": "_ToE_vqVPtvb"
      },
      "outputs": [],
      "source": [
        "mottos['Language'].unique()"
      ]
    },
    {
      "cell_type": "code",
      "execution_count": null,
      "metadata": {
        "colab": {
          "base_uri": "https://localhost:8080/"
        },
        "id": "HAYgnI5ZPtvb",
        "outputId": "fe2327f2-b209-45fe-dc98-b866fe139dd9"
      },
      "outputs": [
        {
          "data": {
            "text/plain": [
              "5"
            ]
          },
          "execution_count": 29,
          "metadata": {},
          "output_type": "execute_result"
        }
      ],
      "source": [
        "def fiba(n):\n",
        "    if n < 2:\n",
        "        return n\n",
        "    else:\n",
        "        return fiba(n-1) + fiba(n-2)\n",
        "\n",
        "\n",
        "\n",
        "fiba(5)"
      ]
    },
    {
      "cell_type": "markdown",
      "metadata": {
        "id": "nyvmtSviPtvc"
      },
      "source": [
        "# Thank you!"
      ]
    }
  ],
  "metadata": {
    "colab": {
      "provenance": []
    },
    "kernelspec": {
      "display_name": "Python 3",
      "language": "python",
      "name": "python3"
    },
    "language_info": {
      "codemirror_mode": {
        "name": "ipython",
        "version": 3
      },
      "file_extension": ".py",
      "mimetype": "text/x-python",
      "name": "python",
      "nbconvert_exporter": "python",
      "pygments_lexer": "ipython3",
      "version": "3.10.13"
    },
    "vscode": {
      "interpreter": {
        "hash": "7a3d88c904243d2c3f246166597f86d1c0a39f3d97496d1fe394945d0c6d436d"
      }
    }
  },
  "nbformat": 4,
  "nbformat_minor": 0
}
