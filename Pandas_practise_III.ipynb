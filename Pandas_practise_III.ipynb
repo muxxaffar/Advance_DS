{
  "cells": [
    {
      "cell_type": "markdown",
      "metadata": {
        "id": "NIjiNewjikKW"
      },
      "source": [
        "# Lecture 4 –Fall 2023\n",
        "\n",
        "A demonstration of advanced `pandas` syntax to accompany Lecture 4."
      ]
    },
    {
      "cell_type": "code",
      "execution_count": null,
      "metadata": {
        "colab": {
          "base_uri": "https://localhost:8080/"
        },
        "id": "cgdnHZXjimq0",
        "outputId": "8a53e8e3-790d-45ed-df1e-a97381a64d35"
      },
      "outputs": [],
      "source": [
        "#from google.colab import drive\n",
        "#drive.mount('/content/drive')"
      ]
    },
    {
      "cell_type": "code",
      "execution_count": 7,
      "metadata": {
        "id": "iMMkYGl7ikKa"
      },
      "outputs": [],
      "source": [
        "import numpy as np\n",
        "import pandas as pd\n",
        "import plotly.express as px"
      ]
    },
    {
      "cell_type": "markdown",
      "metadata": {
        "id": "iD2Qu34XikKi"
      },
      "source": [
        "## Dataset: California baby names\n",
        "\n",
        "In today's lecture, we'll work with the `babynames` dataset, which contains information about the names of infants born in California.\n",
        "\n",
        "The cell below pulls census data from a government website and then loads it into a usable form. The code shown here is outside of the scope of Data 100, but you're encouraged to dig into it if you are interested!"
      ]
    },
    {
      "cell_type": "code",
      "execution_count": 8,
      "metadata": {
        "id": "PXW2WryKikKi"
      },
      "outputs": [
        {
          "data": {
            "text/html": [
              "<div>\n",
              "<style scoped>\n",
              "    .dataframe tbody tr th:only-of-type {\n",
              "        vertical-align: middle;\n",
              "    }\n",
              "\n",
              "    .dataframe tbody tr th {\n",
              "        vertical-align: top;\n",
              "    }\n",
              "\n",
              "    .dataframe thead th {\n",
              "        text-align: right;\n",
              "    }\n",
              "</style>\n",
              "<table border=\"1\" class=\"dataframe\">\n",
              "  <thead>\n",
              "    <tr style=\"text-align: right;\">\n",
              "      <th></th>\n",
              "      <th>State</th>\n",
              "      <th>Sex</th>\n",
              "      <th>Year</th>\n",
              "      <th>Name</th>\n",
              "      <th>Count</th>\n",
              "    </tr>\n",
              "  </thead>\n",
              "  <tbody>\n",
              "    <tr>\n",
              "      <th>0</th>\n",
              "      <td>CA</td>\n",
              "      <td>F</td>\n",
              "      <td>1910</td>\n",
              "      <td>Mary</td>\n",
              "      <td>295</td>\n",
              "    </tr>\n",
              "    <tr>\n",
              "      <th>1</th>\n",
              "      <td>CA</td>\n",
              "      <td>F</td>\n",
              "      <td>1910</td>\n",
              "      <td>Helen</td>\n",
              "      <td>239</td>\n",
              "    </tr>\n",
              "    <tr>\n",
              "      <th>2</th>\n",
              "      <td>CA</td>\n",
              "      <td>F</td>\n",
              "      <td>1910</td>\n",
              "      <td>Dorothy</td>\n",
              "      <td>220</td>\n",
              "    </tr>\n",
              "    <tr>\n",
              "      <th>3</th>\n",
              "      <td>CA</td>\n",
              "      <td>F</td>\n",
              "      <td>1910</td>\n",
              "      <td>Margaret</td>\n",
              "      <td>163</td>\n",
              "    </tr>\n",
              "    <tr>\n",
              "      <th>4</th>\n",
              "      <td>CA</td>\n",
              "      <td>F</td>\n",
              "      <td>1910</td>\n",
              "      <td>Frances</td>\n",
              "      <td>134</td>\n",
              "    </tr>\n",
              "  </tbody>\n",
              "</table>\n",
              "</div>"
            ],
            "text/plain": [
              "  State Sex  Year      Name  Count\n",
              "0    CA   F  1910      Mary    295\n",
              "1    CA   F  1910     Helen    239\n",
              "2    CA   F  1910   Dorothy    220\n",
              "3    CA   F  1910  Margaret    163\n",
              "4    CA   F  1910   Frances    134"
            ]
          },
          "execution_count": 8,
          "metadata": {},
          "output_type": "execute_result"
        }
      ],
      "source": [
        "import urllib.request\n",
        "import os.path\n",
        "import zipfile\n",
        "\n",
        "data_url = \"https://www.ssa.gov/oact/babynames/state/namesbystate.zip\"\n",
        "local_filename = \"babynamesbystate.zip\"\n",
        "if not os.path.exists(local_filename): # If the data exists don't download again\n",
        "    with urllib.request.urlopen(data_url) as resp, open(local_filename, 'wb') as f:\n",
        "        f.write(resp.read())\n",
        "\n",
        "zf = zipfile.ZipFile(local_filename, 'r')\n",
        "\n",
        "ca_name = 'STATE.CA.TXT'\n",
        "field_names = ['State', 'Sex', 'Year', 'Name', 'Count']\n",
        "with zf.open(ca_name) as fh:\n",
        "    babynames = pd.read_csv(fh, header=None, names=field_names)\n",
        "\n",
        "babynames.head()"
      ]
    },
    {
      "cell_type": "code",
      "execution_count": 3,
      "metadata": {},
      "outputs": [
        {
          "data": {
            "text/html": [
              "<div>\n",
              "<style scoped>\n",
              "    .dataframe tbody tr th:only-of-type {\n",
              "        vertical-align: middle;\n",
              "    }\n",
              "\n",
              "    .dataframe tbody tr th {\n",
              "        vertical-align: top;\n",
              "    }\n",
              "\n",
              "    .dataframe thead th {\n",
              "        text-align: right;\n",
              "    }\n",
              "</style>\n",
              "<table border=\"1\" class=\"dataframe\">\n",
              "  <thead>\n",
              "    <tr style=\"text-align: right;\">\n",
              "      <th></th>\n",
              "      <th>State</th>\n",
              "      <th>Sex</th>\n",
              "      <th>Year</th>\n",
              "      <th>Name</th>\n",
              "      <th>Count</th>\n",
              "    </tr>\n",
              "  </thead>\n",
              "  <tbody>\n",
              "    <tr>\n",
              "      <th>407423</th>\n",
              "      <td>CA</td>\n",
              "      <td>M</td>\n",
              "      <td>2022</td>\n",
              "      <td>Zayvier</td>\n",
              "      <td>5</td>\n",
              "    </tr>\n",
              "    <tr>\n",
              "      <th>407424</th>\n",
              "      <td>CA</td>\n",
              "      <td>M</td>\n",
              "      <td>2022</td>\n",
              "      <td>Zia</td>\n",
              "      <td>5</td>\n",
              "    </tr>\n",
              "    <tr>\n",
              "      <th>407425</th>\n",
              "      <td>CA</td>\n",
              "      <td>M</td>\n",
              "      <td>2022</td>\n",
              "      <td>Zora</td>\n",
              "      <td>5</td>\n",
              "    </tr>\n",
              "    <tr>\n",
              "      <th>407426</th>\n",
              "      <td>CA</td>\n",
              "      <td>M</td>\n",
              "      <td>2022</td>\n",
              "      <td>Zuriel</td>\n",
              "      <td>5</td>\n",
              "    </tr>\n",
              "    <tr>\n",
              "      <th>407427</th>\n",
              "      <td>CA</td>\n",
              "      <td>M</td>\n",
              "      <td>2022</td>\n",
              "      <td>Zylo</td>\n",
              "      <td>5</td>\n",
              "    </tr>\n",
              "  </tbody>\n",
              "</table>\n",
              "</div>"
            ],
            "text/plain": [
              "       State Sex  Year     Name  Count\n",
              "407423    CA   M  2022  Zayvier      5\n",
              "407424    CA   M  2022      Zia      5\n",
              "407425    CA   M  2022     Zora      5\n",
              "407426    CA   M  2022   Zuriel      5\n",
              "407427    CA   M  2022     Zylo      5"
            ]
          },
          "execution_count": 3,
          "metadata": {},
          "output_type": "execute_result"
        }
      ],
      "source": [
        "babynames.tail()"
      ]
    },
    {
      "cell_type": "markdown",
      "metadata": {
        "id": "gHIddj3IikKl"
      },
      "source": [
        "### Exercises\n",
        "We want to obtain the first three baby names with `count > 250`.\n",
        "\n",
        "1.Code this using, loc and head()\n",
        "\n",
        "2.Code this using, loc and iloc()\n",
        "\n",
        "3.Code this using [] and head ()\n"
      ]
    },
    {
      "cell_type": "code",
      "execution_count": 10,
      "metadata": {
        "id": "vy62CYWpikKl"
      },
      "outputs": [
        {
          "data": {
            "text/html": [
              "<div>\n",
              "<style scoped>\n",
              "    .dataframe tbody tr th:only-of-type {\n",
              "        vertical-align: middle;\n",
              "    }\n",
              "\n",
              "    .dataframe tbody tr th {\n",
              "        vertical-align: top;\n",
              "    }\n",
              "\n",
              "    .dataframe thead th {\n",
              "        text-align: right;\n",
              "    }\n",
              "</style>\n",
              "<table border=\"1\" class=\"dataframe\">\n",
              "  <thead>\n",
              "    <tr style=\"text-align: right;\">\n",
              "      <th></th>\n",
              "      <th>State</th>\n",
              "      <th>Sex</th>\n",
              "      <th>Year</th>\n",
              "      <th>Name</th>\n",
              "      <th>Count</th>\n",
              "    </tr>\n",
              "  </thead>\n",
              "  <tbody>\n",
              "    <tr>\n",
              "      <th>0</th>\n",
              "      <td>CA</td>\n",
              "      <td>F</td>\n",
              "      <td>1910</td>\n",
              "      <td>Mary</td>\n",
              "      <td>295</td>\n",
              "    </tr>\n",
              "    <tr>\n",
              "      <th>233</th>\n",
              "      <td>CA</td>\n",
              "      <td>F</td>\n",
              "      <td>1911</td>\n",
              "      <td>Mary</td>\n",
              "      <td>390</td>\n",
              "    </tr>\n",
              "    <tr>\n",
              "      <th>484</th>\n",
              "      <td>CA</td>\n",
              "      <td>F</td>\n",
              "      <td>1912</td>\n",
              "      <td>Mary</td>\n",
              "      <td>534</td>\n",
              "    </tr>\n",
              "  </tbody>\n",
              "</table>\n",
              "</div>"
            ],
            "text/plain": [
              "    State Sex  Year  Name  Count\n",
              "0      CA   F  1910  Mary    295\n",
              "233    CA   F  1911  Mary    390\n",
              "484    CA   F  1912  Mary    534"
            ]
          },
          "execution_count": 10,
          "metadata": {},
          "output_type": "execute_result"
        }
      ],
      "source": [
        "baby_names = babynames.loc[babynames['Count'] > 250].head(3)\n",
        "baby_names"
      ]
    },
    {
      "cell_type": "code",
      "execution_count": 11,
      "metadata": {
        "id": "DrXbEdNxpaME"
      },
      "outputs": [
        {
          "name": "stdout",
          "output_type": "stream",
          "text": [
            "    State Sex  Year  Name  Count\n",
            "0      CA   F  1910  Mary    295\n",
            "233    CA   F  1911  Mary    390\n",
            "484    CA   F  1912  Mary    534\n"
          ]
        }
      ],
      "source": [
        "babyName_iloc = babynames.loc[babynames['Count'] > 250 ].iloc[:3]\n",
        "print(babyName_iloc)"
      ]
    },
    {
      "cell_type": "code",
      "execution_count": 13,
      "metadata": {
        "id": "73W1d6o5cFye",
        "scrolled": true
      },
      "outputs": [
        {
          "name": "stdout",
          "output_type": "stream",
          "text": [
            "    State Sex  Year  Name  Count\n",
            "0      CA   F  1910  Mary    295\n",
            "233    CA   F  1911  Mary    390\n",
            "484    CA   F  1912  Mary    534\n"
          ]
        }
      ],
      "source": [
        "#use of iloc\n",
        "\n",
        "babynames_brack = babynames[babynames['Count'] > 250 ].head(3)\n",
        "print(babynames_brack)"
      ]
    },
    {
      "cell_type": "markdown",
      "metadata": {
        "id": "pKOoifhQikKl"
      },
      "source": [
        "### `.isin` for Selection based on a list, array, or `Series`"
      ]
    },
    {
      "cell_type": "code",
      "execution_count": 9,
      "metadata": {
        "id": "gsZokeo6ikKl"
      },
      "outputs": [
        {
          "data": {
            "text/html": [
              "<div>\n",
              "<style scoped>\n",
              "    .dataframe tbody tr th:only-of-type {\n",
              "        vertical-align: middle;\n",
              "    }\n",
              "\n",
              "    .dataframe tbody tr th {\n",
              "        vertical-align: top;\n",
              "    }\n",
              "\n",
              "    .dataframe thead th {\n",
              "        text-align: right;\n",
              "    }\n",
              "</style>\n",
              "<table border=\"1\" class=\"dataframe\">\n",
              "  <thead>\n",
              "    <tr style=\"text-align: right;\">\n",
              "      <th></th>\n",
              "      <th>State</th>\n",
              "      <th>Sex</th>\n",
              "      <th>Year</th>\n",
              "      <th>Name</th>\n",
              "      <th>Count</th>\n",
              "    </tr>\n",
              "  </thead>\n",
              "  <tbody>\n",
              "    <tr>\n",
              "      <th>6289</th>\n",
              "      <td>CA</td>\n",
              "      <td>F</td>\n",
              "      <td>1923</td>\n",
              "      <td>Bella</td>\n",
              "      <td>5</td>\n",
              "    </tr>\n",
              "    <tr>\n",
              "      <th>7512</th>\n",
              "      <td>CA</td>\n",
              "      <td>F</td>\n",
              "      <td>1925</td>\n",
              "      <td>Bella</td>\n",
              "      <td>8</td>\n",
              "    </tr>\n",
              "    <tr>\n",
              "      <th>12368</th>\n",
              "      <td>CA</td>\n",
              "      <td>F</td>\n",
              "      <td>1932</td>\n",
              "      <td>Lisa</td>\n",
              "      <td>5</td>\n",
              "    </tr>\n",
              "    <tr>\n",
              "      <th>14741</th>\n",
              "      <td>CA</td>\n",
              "      <td>F</td>\n",
              "      <td>1936</td>\n",
              "      <td>Lisa</td>\n",
              "      <td>8</td>\n",
              "    </tr>\n",
              "    <tr>\n",
              "      <th>17084</th>\n",
              "      <td>CA</td>\n",
              "      <td>F</td>\n",
              "      <td>1939</td>\n",
              "      <td>Lisa</td>\n",
              "      <td>5</td>\n",
              "    </tr>\n",
              "    <tr>\n",
              "      <th>...</th>\n",
              "      <td>...</td>\n",
              "      <td>...</td>\n",
              "      <td>...</td>\n",
              "      <td>...</td>\n",
              "      <td>...</td>\n",
              "    </tr>\n",
              "    <tr>\n",
              "      <th>393248</th>\n",
              "      <td>CA</td>\n",
              "      <td>M</td>\n",
              "      <td>2018</td>\n",
              "      <td>Alex</td>\n",
              "      <td>495</td>\n",
              "    </tr>\n",
              "    <tr>\n",
              "      <th>396111</th>\n",
              "      <td>CA</td>\n",
              "      <td>M</td>\n",
              "      <td>2019</td>\n",
              "      <td>Alex</td>\n",
              "      <td>438</td>\n",
              "    </tr>\n",
              "    <tr>\n",
              "      <th>398983</th>\n",
              "      <td>CA</td>\n",
              "      <td>M</td>\n",
              "      <td>2020</td>\n",
              "      <td>Alex</td>\n",
              "      <td>379</td>\n",
              "    </tr>\n",
              "    <tr>\n",
              "      <th>401788</th>\n",
              "      <td>CA</td>\n",
              "      <td>M</td>\n",
              "      <td>2021</td>\n",
              "      <td>Alex</td>\n",
              "      <td>333</td>\n",
              "    </tr>\n",
              "    <tr>\n",
              "      <th>404663</th>\n",
              "      <td>CA</td>\n",
              "      <td>M</td>\n",
              "      <td>2022</td>\n",
              "      <td>Alex</td>\n",
              "      <td>344</td>\n",
              "    </tr>\n",
              "  </tbody>\n",
              "</table>\n",
              "<p>317 rows × 5 columns</p>\n",
              "</div>"
            ],
            "text/plain": [
              "       State Sex  Year   Name  Count\n",
              "6289      CA   F  1923  Bella      5\n",
              "7512      CA   F  1925  Bella      8\n",
              "12368     CA   F  1932   Lisa      5\n",
              "14741     CA   F  1936   Lisa      8\n",
              "17084     CA   F  1939   Lisa      5\n",
              "...      ...  ..   ...    ...    ...\n",
              "393248    CA   M  2018   Alex    495\n",
              "396111    CA   M  2019   Alex    438\n",
              "398983    CA   M  2020   Alex    379\n",
              "401788    CA   M  2021   Alex    333\n",
              "404663    CA   M  2022   Alex    344\n",
              "\n",
              "[317 rows x 5 columns]"
            ]
          },
          "execution_count": 9,
          "metadata": {},
          "output_type": "execute_result"
        }
      ],
      "source": [
        "# Note: The parentheses surrounding the code make it possible to break the code into multiple lines for readability\n",
        "\n",
        "( babynames[(babynames[\"Name\"] == \"Bella\") |\n",
        "              (babynames[\"Name\"] == \"Alex\") |\n",
        "              (babynames[\"Name\"] == \"Narges\") |\n",
        "              (babynames[\"Name\"] == \"Lisa\")])\n"
      ]
    },
    {
      "cell_type": "code",
      "execution_count": 16,
      "metadata": {
        "id": "MVp7TZUlikKm"
      },
      "outputs": [
        {
          "name": "stdout",
          "output_type": "stream",
          "text": [
            "       State Sex  Year   Name  Count\n",
            "6289      CA   F  1923  Bella      5\n",
            "7512      CA   F  1925  Bella      8\n",
            "12368     CA   F  1932   Lisa      5\n",
            "14741     CA   F  1936   Lisa      8\n",
            "17084     CA   F  1939   Lisa      5\n",
            "...      ...  ..   ...    ...    ...\n",
            "393248    CA   M  2018   Alex    495\n",
            "396111    CA   M  2019   Alex    438\n",
            "398983    CA   M  2020   Alex    379\n",
            "401788    CA   M  2021   Alex    333\n",
            "404663    CA   M  2022   Alex    344\n",
            "\n",
            "[317 rows x 5 columns]\n"
          ]
        }
      ],
      "source": [
        "# A more concise method to achieve the above: .isin\n",
        "#Answer Here\n",
        "babynames_lists = ['Bella', 'Alex', 'narges', 'Lisa']\n",
        "babyname_isin = babynames[babynames['Name'].isin(babynames_lists)]\n",
        "print(babyname_isin)"
      ]
    },
    {
      "cell_type": "markdown",
      "metadata": {
        "id": "FAfz6N3qikKm"
      },
      "source": [
        "### `.str` Functions for Defining a Condition"
      ]
    },
    {
      "cell_type": "code",
      "execution_count": 17,
      "metadata": {
        "id": "xYCh8K0qikKm"
      },
      "outputs": [
        {
          "name": "stdout",
          "output_type": "stream",
          "text": [
            "       State Sex  Year        Name  Count\n",
            "16        CA   F  1910   Josephine     66\n",
            "44        CA   F  1910        Jean     35\n",
            "46        CA   F  1910      Jessie     32\n",
            "59        CA   F  1910       Julia     28\n",
            "66        CA   F  1910     Juanita     25\n",
            "...      ...  ..   ...         ...    ...\n",
            "407245    CA   M  2022     Jibreel      5\n",
            "407246    CA   M  2022   Joseangel      5\n",
            "407247    CA   M  2022  Josejulian      5\n",
            "407248    CA   M  2022       Juelz      5\n",
            "407249    CA   M  2022      Jujhar      5\n",
            "\n",
            "[34751 rows x 5 columns]\n"
          ]
        }
      ],
      "source": [
        "# What if we only want names that start with \"J\"?\n",
        "#Answer Here\n",
        "babynames_starts_J = babynames[babynames['Name'].str.startswith('J')]\n",
        "print(babynames_starts_J)"
      ]
    },
    {
      "cell_type": "markdown",
      "metadata": {
        "id": "4HleKnmwikKm"
      },
      "source": [
        "## Adding, Removing, and Modifying Columns"
      ]
    },
    {
      "cell_type": "markdown",
      "metadata": {
        "id": "XqWTQM1hikKm"
      },
      "source": [
        "### Add a Column\n",
        "To add a column, use `[]` to reference the desired new column, then assign it to a `Series` or array of appropriate length."
      ]
    },
    {
      "cell_type": "code",
      "execution_count": 20,
      "metadata": {
        "id": "-MmB453QikKm"
      },
      "outputs": [
        {
          "name": "stdout",
          "output_type": "stream",
          "text": [
            "0         4\n",
            "1         5\n",
            "2         7\n",
            "3         8\n",
            "4         7\n",
            "         ..\n",
            "407423    7\n",
            "407424    3\n",
            "407425    4\n",
            "407426    6\n",
            "407427    4\n",
            "Name: Name, Length: 407428, dtype: int64\n",
            "       State Sex  Year      Name  Count  name_lenght\n",
            "0         CA   F  1910      Mary    295            4\n",
            "1         CA   F  1910     Helen    239            5\n",
            "2         CA   F  1910   Dorothy    220            7\n",
            "3         CA   F  1910  Margaret    163            8\n",
            "4         CA   F  1910   Frances    134            7\n",
            "...      ...  ..   ...       ...    ...          ...\n",
            "407423    CA   M  2022   Zayvier      5            7\n",
            "407424    CA   M  2022       Zia      5            3\n",
            "407425    CA   M  2022      Zora      5            4\n",
            "407426    CA   M  2022    Zuriel      5            6\n",
            "407427    CA   M  2022      Zylo      5            4\n",
            "\n",
            "[407428 rows x 6 columns]\n"
          ]
        }
      ],
      "source": [
        "# Create a Series of the length of each name\n",
        "babyname_lenght = babynames['Name'].str.len()\n",
        "print(babyname_lenght)\n",
        "\n",
        "# Add a column named \"name_lengths\" that includes the length of each name\n",
        "babynames['name_lenght'] = babyname_lenght\n",
        "print(babynames)"
      ]
    },
    {
      "cell_type": "markdown",
      "metadata": {
        "id": "MrBTd9bZikKn"
      },
      "source": [
        "### Modify a Column\n",
        "To modify a column, use `[]` to access the desired column, then re-assign it to a new array or Series."
      ]
    },
    {
      "cell_type": "code",
      "execution_count": 22,
      "metadata": {
        "id": "s2nh2MkYikKn"
      },
      "outputs": [
        {
          "data": {
            "text/html": [
              "<div>\n",
              "<style scoped>\n",
              "    .dataframe tbody tr th:only-of-type {\n",
              "        vertical-align: middle;\n",
              "    }\n",
              "\n",
              "    .dataframe tbody tr th {\n",
              "        vertical-align: top;\n",
              "    }\n",
              "\n",
              "    .dataframe thead th {\n",
              "        text-align: right;\n",
              "    }\n",
              "</style>\n",
              "<table border=\"1\" class=\"dataframe\">\n",
              "  <thead>\n",
              "    <tr style=\"text-align: right;\">\n",
              "      <th></th>\n",
              "      <th>State</th>\n",
              "      <th>Sex</th>\n",
              "      <th>Year</th>\n",
              "      <th>Name</th>\n",
              "      <th>Count</th>\n",
              "      <th>name_lenght</th>\n",
              "    </tr>\n",
              "  </thead>\n",
              "  <tbody>\n",
              "    <tr>\n",
              "      <th>407423</th>\n",
              "      <td>CA</td>\n",
              "      <td>M</td>\n",
              "      <td>2022</td>\n",
              "      <td>Zayvier</td>\n",
              "      <td>5</td>\n",
              "      <td>7</td>\n",
              "    </tr>\n",
              "    <tr>\n",
              "      <th>407424</th>\n",
              "      <td>CA</td>\n",
              "      <td>M</td>\n",
              "      <td>2022</td>\n",
              "      <td>Zia</td>\n",
              "      <td>5</td>\n",
              "      <td>3</td>\n",
              "    </tr>\n",
              "    <tr>\n",
              "      <th>407425</th>\n",
              "      <td>CA</td>\n",
              "      <td>M</td>\n",
              "      <td>2022</td>\n",
              "      <td>Zora</td>\n",
              "      <td>5</td>\n",
              "      <td>4</td>\n",
              "    </tr>\n",
              "    <tr>\n",
              "      <th>407426</th>\n",
              "      <td>CA</td>\n",
              "      <td>M</td>\n",
              "      <td>2022</td>\n",
              "      <td>Zuriel</td>\n",
              "      <td>5</td>\n",
              "      <td>6</td>\n",
              "    </tr>\n",
              "    <tr>\n",
              "      <th>407427</th>\n",
              "      <td>CA</td>\n",
              "      <td>M</td>\n",
              "      <td>2022</td>\n",
              "      <td>Zylo</td>\n",
              "      <td>5</td>\n",
              "      <td>4</td>\n",
              "    </tr>\n",
              "  </tbody>\n",
              "</table>\n",
              "</div>"
            ],
            "text/plain": [
              "       State Sex  Year     Name  Count  name_lenght\n",
              "407423    CA   M  2022  Zayvier      5            7\n",
              "407424    CA   M  2022      Zia      5            3\n",
              "407425    CA   M  2022     Zora      5            4\n",
              "407426    CA   M  2022   Zuriel      5            6\n",
              "407427    CA   M  2022     Zylo      5            4"
            ]
          },
          "execution_count": 22,
          "metadata": {},
          "output_type": "execute_result"
        }
      ],
      "source": [
        "babynames.tail()\n",
        "# Modify the \"name_lengths\" column to be one less than its original value\n"
      ]
    },
    {
      "cell_type": "markdown",
      "metadata": {
        "id": "ZNgIZDavikKn"
      },
      "source": [
        "### Rename a Column Name\n",
        "Rename a column using the `.rename()` method."
      ]
    },
    {
      "cell_type": "code",
      "execution_count": null,
      "metadata": {
        "id": "SucypH9likKn"
      },
      "outputs": [],
      "source": [
        "# Rename \"name_lengths\" to \"Length\"\n",
        "# babynames['Origional_Column'] = babynames['Rename_Column']\n"
      ]
    },
    {
      "cell_type": "markdown",
      "metadata": {
        "id": "irQLkFH5ikKn"
      },
      "source": [
        "### Delete a Column\n",
        "Remove a column using `.drop()`."
      ]
    },
    {
      "cell_type": "code",
      "execution_count": null,
      "metadata": {
        "id": "mR6hEqODikKn"
      },
      "outputs": [],
      "source": [
        "# Remove our new \"Length\" column"
      ]
    },
    {
      "cell_type": "markdown",
      "metadata": {
        "id": "mrW_x6kdikKq"
      },
      "source": [
        "## Custom sorting"
      ]
    },
    {
      "cell_type": "code",
      "execution_count": null,
      "metadata": {
        "id": "_jngqWCtrvTe"
      },
      "outputs": [],
      "source": [
        "# Sort a Series Containing Names\n",
        "\n"
      ]
    },
    {
      "cell_type": "code",
      "execution_count": null,
      "metadata": {
        "id": "XdXTg7pDikKq"
      },
      "outputs": [],
      "source": [
        "# Sort a DataFrame – there are lots of Michaels in California\n"
      ]
    },
    {
      "cell_type": "markdown",
      "metadata": {
        "id": "_ZVFY3dHsfOb"
      },
      "source": [
        "### Approach 1: Create a temporary column"
      ]
    },
    {
      "cell_type": "code",
      "execution_count": null,
      "metadata": {
        "id": "C3-jQTR7ikKr"
      },
      "outputs": [],
      "source": [
        "# Create a Series of the length of each name\n",
        "\n",
        "# Add a column named \"name_lengths\" that includes the length of each name\n",
        "\n",
        "# Sort by the temporary column\n"
      ]
    },
    {
      "cell_type": "code",
      "execution_count": null,
      "metadata": {
        "id": "ahtA1iWrikKr",
        "tags": []
      },
      "outputs": [],
      "source": [
        "# Drop the 'name_length' column\n"
      ]
    },
    {
      "cell_type": "markdown",
      "metadata": {
        "id": "yRv15FHqikKr"
      },
      "source": [
        "### Approach 2: Sorting using the `key` argument"
      ]
    },
    {
      "cell_type": "code",
      "execution_count": null,
      "metadata": {
        "id": "AQYcQ_hRikKr"
      },
      "outputs": [],
      "source": [
        "# Answer Here"
      ]
    },
    {
      "cell_type": "markdown",
      "metadata": {
        "id": "g0cmkQEOikKr"
      },
      "source": [
        "### Approach 3: Sorting Using the `map` Function\n",
        "\n",
        "We can also use the Python map function if we want to use an arbitrarily defined function. Suppose we want to sort by the number of occurrences of \"dr\" plus the number of occurences of \"ea\"."
      ]
    },
    {
      "cell_type": "code",
      "execution_count": null,
      "metadata": {
        "id": "cK1AbRrCikKr"
      },
      "outputs": [],
      "source": [
        "# First, define a function to count the number of times \"sa\" or \"me\" appear in each name\n",
        "\n",
        "\n",
        "# Then, use `map` to apply `dr_ea_count` to each name in the \"Name\" column\n",
        "\n",
        "# Sort the DataFrame by the new \"dr_ea_count\" column so we can see our handiwork\n",
        "\n"
      ]
    },
    {
      "cell_type": "code",
      "execution_count": null,
      "metadata": {
        "id": "asoXYCpNikKs"
      },
      "outputs": [],
      "source": [
        "# Drop the `dr_ea_count` column\n"
      ]
    },
    {
      "cell_type": "markdown",
      "metadata": {
        "id": "1b5vXusiikKs"
      },
      "source": [
        "## Grouping\n",
        "\n",
        "Group rows that share a common feature, then aggregate data across the group.\n",
        "\n",
        "In this example, we count the total number of babies born in each year (considering only a small subset of the data, for simplicity).\n",
        "\n",
        "<img src=\"images/groupby.png\" width=\"800\"/>"
      ]
    },
    {
      "cell_type": "code",
      "execution_count": null,
      "metadata": {
        "id": "cfXzYMSB1EIM"
      },
      "outputs": [],
      "source": [
        "# DataFrame with baby gril names only\n",
        "# Answer Here\n",
        "#Groupby similar features like year and apply aggregate\n",
        "# Answer Here\n",
        "# Sort by Count\n",
        "# Answer Here\n"
      ]
    },
    {
      "cell_type": "code",
      "execution_count": null,
      "metadata": {
        "id": "9EGgvBXG4ii4"
      },
      "outputs": [],
      "source": [
        "# print first 10 entries\n"
      ]
    },
    {
      "cell_type": "code",
      "execution_count": null,
      "metadata": {
        "id": "MeZ7klFJikKs"
      },
      "outputs": [],
      "source": [
        "#the total baby count in each year\n",
        "# Answer Here\n"
      ]
    },
    {
      "cell_type": "markdown",
      "metadata": {
        "id": "dgGxE-GJikKs"
      },
      "source": [
        "There are many different aggregation functions we can use, all of which are useful in different applications."
      ]
    },
    {
      "cell_type": "code",
      "execution_count": null,
      "metadata": {
        "id": "Bf_9Eu1XikKs"
      },
      "outputs": [],
      "source": [
        "# What is the earliest year in which each name appeared?\n",
        "# Answer Here"
      ]
    },
    {
      "cell_type": "code",
      "execution_count": null,
      "metadata": {
        "id": "ZYRMSMWQikKs"
      },
      "outputs": [],
      "source": [
        "# What is the largest single-year count of each name?\n",
        "# Answer Here"
      ]
    },
    {
      "cell_type": "code",
      "execution_count": null,
      "metadata": {
        "id": "mxMhwEIGtqJ8"
      },
      "outputs": [],
      "source": [
        "#Can you find the most popular baby name in the state of California (CA) for each year? use idxmax function.\n",
        "#Provide a list of years along with the corresponding most popular names.\"\n",
        "result = babynames.groupby(\"Year\")['Count'].idxmax()\n",
        "#Answer Here"
      ]
    },
    {
      "cell_type": "markdown",
      "metadata": {
        "id": "xnszvDOfikKt"
      },
      "source": [
        "## Case Study: Name \"Popularity\""
      ]
    },
    {
      "cell_type": "markdown",
      "metadata": {
        "id": "tbOi1sfmikKt"
      },
      "source": [
        "In this exercise, let's find the name with sex \"F\" that has dropped most in popularity since its peak usage. We'll start by filtering `babynames` to only include names corresponding to sex \"F\"."
      ]
    },
    {
      "cell_type": "code",
      "execution_count": 31,
      "metadata": {
        "id": "BIMyQ0W9ikKt"
      },
      "outputs": [
        {
          "data": {
            "text/html": [
              "<div>\n",
              "<style scoped>\n",
              "    .dataframe tbody tr th:only-of-type {\n",
              "        vertical-align: middle;\n",
              "    }\n",
              "\n",
              "    .dataframe tbody tr th {\n",
              "        vertical-align: top;\n",
              "    }\n",
              "\n",
              "    .dataframe thead th {\n",
              "        text-align: right;\n",
              "    }\n",
              "</style>\n",
              "<table border=\"1\" class=\"dataframe\">\n",
              "  <thead>\n",
              "    <tr style=\"text-align: right;\">\n",
              "      <th></th>\n",
              "      <th>State</th>\n",
              "      <th>Sex</th>\n",
              "      <th>Year</th>\n",
              "      <th>Name</th>\n",
              "      <th>Count</th>\n",
              "    </tr>\n",
              "  </thead>\n",
              "  <tbody>\n",
              "    <tr>\n",
              "      <th>233</th>\n",
              "      <td>CA</td>\n",
              "      <td>F</td>\n",
              "      <td>1911</td>\n",
              "      <td>Mary</td>\n",
              "      <td>390</td>\n",
              "    </tr>\n",
              "    <tr>\n",
              "      <th>234</th>\n",
              "      <td>CA</td>\n",
              "      <td>F</td>\n",
              "      <td>1911</td>\n",
              "      <td>Dorothy</td>\n",
              "      <td>241</td>\n",
              "    </tr>\n",
              "    <tr>\n",
              "      <th>235</th>\n",
              "      <td>CA</td>\n",
              "      <td>F</td>\n",
              "      <td>1911</td>\n",
              "      <td>Helen</td>\n",
              "      <td>209</td>\n",
              "    </tr>\n",
              "    <tr>\n",
              "      <th>236</th>\n",
              "      <td>CA</td>\n",
              "      <td>F</td>\n",
              "      <td>1911</td>\n",
              "      <td>Margaret</td>\n",
              "      <td>204</td>\n",
              "    </tr>\n",
              "    <tr>\n",
              "      <th>237</th>\n",
              "      <td>CA</td>\n",
              "      <td>F</td>\n",
              "      <td>1911</td>\n",
              "      <td>Ruth</td>\n",
              "      <td>156</td>\n",
              "    </tr>\n",
              "    <tr>\n",
              "      <th>...</th>\n",
              "      <td>...</td>\n",
              "      <td>...</td>\n",
              "      <td>...</td>\n",
              "      <td>...</td>\n",
              "      <td>...</td>\n",
              "    </tr>\n",
              "    <tr>\n",
              "      <th>235830</th>\n",
              "      <td>CA</td>\n",
              "      <td>F</td>\n",
              "      <td>2021</td>\n",
              "      <td>Zarahi</td>\n",
              "      <td>5</td>\n",
              "    </tr>\n",
              "    <tr>\n",
              "      <th>235831</th>\n",
              "      <td>CA</td>\n",
              "      <td>F</td>\n",
              "      <td>2021</td>\n",
              "      <td>Zelia</td>\n",
              "      <td>5</td>\n",
              "    </tr>\n",
              "    <tr>\n",
              "      <th>235832</th>\n",
              "      <td>CA</td>\n",
              "      <td>F</td>\n",
              "      <td>2021</td>\n",
              "      <td>Zenobia</td>\n",
              "      <td>5</td>\n",
              "    </tr>\n",
              "    <tr>\n",
              "      <th>235833</th>\n",
              "      <td>CA</td>\n",
              "      <td>F</td>\n",
              "      <td>2021</td>\n",
              "      <td>Zeppelin</td>\n",
              "      <td>5</td>\n",
              "    </tr>\n",
              "    <tr>\n",
              "      <th>235834</th>\n",
              "      <td>CA</td>\n",
              "      <td>F</td>\n",
              "      <td>2021</td>\n",
              "      <td>Zoraya</td>\n",
              "      <td>5</td>\n",
              "    </tr>\n",
              "  </tbody>\n",
              "</table>\n",
              "<p>118618 rows × 5 columns</p>\n",
              "</div>"
            ],
            "text/plain": [
              "       State Sex  Year      Name  Count\n",
              "233       CA   F  1911      Mary    390\n",
              "234       CA   F  1911   Dorothy    241\n",
              "235       CA   F  1911     Helen    209\n",
              "236       CA   F  1911  Margaret    204\n",
              "237       CA   F  1911      Ruth    156\n",
              "...      ...  ..   ...       ...    ...\n",
              "235830    CA   F  2021    Zarahi      5\n",
              "235831    CA   F  2021     Zelia      5\n",
              "235832    CA   F  2021   Zenobia      5\n",
              "235833    CA   F  2021  Zeppelin      5\n",
              "235834    CA   F  2021    Zoraya      5\n",
              "\n",
              "[118618 rows x 5 columns]"
            ]
          },
          "execution_count": 31,
          "metadata": {},
          "output_type": "execute_result"
        }
      ],
      "source": [
        "case1 = babynames[(babynames[\"Sex\"] == \"F\") & (babynames[\"Year\"])]\n",
        "case1 #['Count'].max"
      ]
    },
    {
      "cell_type": "code",
      "execution_count": 23,
      "metadata": {},
      "outputs": [
        {
          "data": {
            "text/html": [
              "<div>\n",
              "<style scoped>\n",
              "    .dataframe tbody tr th:only-of-type {\n",
              "        vertical-align: middle;\n",
              "    }\n",
              "\n",
              "    .dataframe tbody tr th {\n",
              "        vertical-align: top;\n",
              "    }\n",
              "\n",
              "    .dataframe thead th {\n",
              "        text-align: right;\n",
              "    }\n",
              "</style>\n",
              "<table border=\"1\" class=\"dataframe\">\n",
              "  <thead>\n",
              "    <tr style=\"text-align: right;\">\n",
              "      <th></th>\n",
              "      <th>State</th>\n",
              "      <th>Sex</th>\n",
              "      <th>Year</th>\n",
              "      <th>Name</th>\n",
              "      <th>Count</th>\n",
              "    </tr>\n",
              "  </thead>\n",
              "  <tbody>\n",
              "    <tr>\n",
              "      <th>235830</th>\n",
              "      <td>CA</td>\n",
              "      <td>F</td>\n",
              "      <td>2021</td>\n",
              "      <td>Zarahi</td>\n",
              "      <td>5</td>\n",
              "    </tr>\n",
              "    <tr>\n",
              "      <th>235831</th>\n",
              "      <td>CA</td>\n",
              "      <td>F</td>\n",
              "      <td>2021</td>\n",
              "      <td>Zelia</td>\n",
              "      <td>5</td>\n",
              "    </tr>\n",
              "    <tr>\n",
              "      <th>235832</th>\n",
              "      <td>CA</td>\n",
              "      <td>F</td>\n",
              "      <td>2021</td>\n",
              "      <td>Zenobia</td>\n",
              "      <td>5</td>\n",
              "    </tr>\n",
              "    <tr>\n",
              "      <th>235833</th>\n",
              "      <td>CA</td>\n",
              "      <td>F</td>\n",
              "      <td>2021</td>\n",
              "      <td>Zeppelin</td>\n",
              "      <td>5</td>\n",
              "    </tr>\n",
              "    <tr>\n",
              "      <th>235834</th>\n",
              "      <td>CA</td>\n",
              "      <td>F</td>\n",
              "      <td>2021</td>\n",
              "      <td>Zoraya</td>\n",
              "      <td>5</td>\n",
              "    </tr>\n",
              "  </tbody>\n",
              "</table>\n",
              "</div>"
            ],
            "text/plain": [
              "       State Sex  Year      Name  Count\n",
              "235830    CA   F  2021    Zarahi      5\n",
              "235831    CA   F  2021     Zelia      5\n",
              "235832    CA   F  2021   Zenobia      5\n",
              "235833    CA   F  2021  Zeppelin      5\n",
              "235834    CA   F  2021    Zoraya      5"
            ]
          },
          "execution_count": 23,
          "metadata": {},
          "output_type": "execute_result"
        }
      ],
      "source": [
        "case1.tail()"
      ]
    },
    {
      "cell_type": "code",
      "execution_count": null,
      "metadata": {
        "id": "hQNgSJsxikKt"
      },
      "outputs": [],
      "source": [
        "# We sort the data by year"
      ]
    },
    {
      "cell_type": "markdown",
      "metadata": {
        "id": "g9qc5bgGikKt"
      },
      "source": [
        "To build our intuition on how to answer our research question, let's visualize the prevalence of the name \"Jennifer\" over time."
      ]
    },
    {
      "cell_type": "code",
      "execution_count": null,
      "metadata": {
        "id": "FLZPoz0sikKt"
      },
      "outputs": [],
      "source": [
        "# We'll talk about how to generate plots in a later lecture\n",
        "fig = px.line(f_babynames[f_babynames[\"Name\"] == \"Jennifer\"],\n",
        "              x = \"Year\", y = \"Count\")\n",
        "fig.update_layout(font_size = 18,\n",
        "                  autosize=False,\n",
        "                 width=1000,\n",
        "                  height=400)"
      ]
    },
    {
      "cell_type": "markdown",
      "metadata": {
        "id": "SrSXOygjikKt"
      },
      "source": [
        "We'll need a mathematical definition for the change in popularity of a name.\n",
        "\n",
        "Define the metric \"ratio to peak\" (RTP). We'll calculate this as the count of the name in 2022 (the most recent year for which we have data) divided by the largest count of this name in *any* year.\n",
        "\n",
        "A demo calculation for Jennifer:"
      ]
    },
    {
      "cell_type": "code",
      "execution_count": null,
      "metadata": {
        "id": "IVsnEdtiikKu"
      },
      "outputs": [],
      "source": [
        "# Find the highest Jennifer 'count'\n"
      ]
    },
    {
      "cell_type": "code",
      "execution_count": null,
      "metadata": {
        "id": "b9tFhrtYikKu",
        "tags": []
      },
      "outputs": [],
      "source": [
        "# Remember that we sorted f_babynames by year.\n",
        "# This means that grabbing the final entry gives us the most recent count of Jennifers: 114\n",
        "# In 2022, the most recent year for which we have data, 114 Jennifers were born\n"
      ]
    },
    {
      "cell_type": "code",
      "execution_count": null,
      "metadata": {
        "id": "EPykMViiikKu",
        "tags": []
      },
      "outputs": [],
      "source": [
        "# Compute the RTP\n"
      ]
    },
    {
      "cell_type": "markdown",
      "metadata": {
        "id": "GzWdNXmiikKu"
      },
      "source": [
        "We can also write a function that produces the `ratio_to_peak`for a given `Series`. This will allow us to use `.groupby` to speed up our computation for all names in the dataset."
      ]
    },
    {
      "cell_type": "code",
      "execution_count": null,
      "metadata": {
        "id": "kAuuKE8gikKu"
      },
      "outputs": [],
      "source": [
        "# define the function for RTP\n",
        "\"\"\"\n",
        "Compute the RTP for a Series containing the counts per year for a single name\n",
        "\"\"\"\n"
      ]
    },
    {
      "cell_type": "code",
      "execution_count": null,
      "metadata": {
        "id": "-EV_VpRAikKu"
      },
      "outputs": [],
      "source": [
        "# Construct a Series containing our Jennifer count data\n",
        "\n",
        "# Then, find the RTP using the function define above\n"
      ]
    },
    {
      "cell_type": "markdown",
      "metadata": {
        "id": "DCLu7luhikKv"
      },
      "source": [
        "Now, let's use `.groupby` to compute the RTPs for *all* names in the dataset.\n",
        "\n",
        "You may see a warning message when running the cell below. As discussed in lecture, `pandas` can't apply an aggregation function to non-numeric data (it doens't make sense to divide \"CA\" by a number). By default, `.groupby` will drop any columns that cannot be aggregated."
      ]
    },
    {
      "cell_type": "code",
      "execution_count": null,
      "metadata": {
        "id": "Ce_dpVKjbhFv"
      },
      "outputs": [],
      "source": [
        "# Results in a TypeError\n",
        "#rtp_table = f_babynames.groupby(\"Name\").agg(ratio_to_peak)\n",
        "#rtp_table"
      ]
    },
    {
      "cell_type": "code",
      "execution_count": null,
      "metadata": {
        "id": "AUa5jCLFikKv",
        "tags": []
      },
      "outputs": [],
      "source": [
        "# Find the RTP fro all names at once using groupby as describe in lec slides\n"
      ]
    },
    {
      "cell_type": "markdown",
      "metadata": {
        "id": "eghHkFWEikKv"
      },
      "source": [
        "To avoid the warning message above, we explicitly extract only the columns relevant to our analysis before using `.agg`."
      ]
    },
    {
      "cell_type": "code",
      "execution_count": null,
      "metadata": {
        "id": "2M1wSROKikKv"
      },
      "outputs": [],
      "source": [
        "# Recompute the RTPs, but only performing the calculation on the \"Count\" column\n"
      ]
    },
    {
      "cell_type": "code",
      "execution_count": null,
      "metadata": {
        "id": "ZxH-gi2TikKv"
      },
      "outputs": [],
      "source": [
        "# Rename \"Count\" to \"Count RTP\" for clarity\n"
      ]
    },
    {
      "cell_type": "code",
      "execution_count": null,
      "metadata": {
        "id": "t77rHbvjikKv"
      },
      "outputs": [],
      "source": [
        "# What name has fallen the most in popularity?\n"
      ]
    },
    {
      "cell_type": "markdown",
      "metadata": {
        "id": "59cPrjlJikKw"
      },
      "source": [
        "We can visualize the decrease in the popularity of the name \"?:\""
      ]
    },
    {
      "cell_type": "code",
      "execution_count": null,
      "metadata": {
        "id": "QjkUqYecikKw"
      },
      "outputs": [],
      "source": [
        "def plot_name(*names):\n",
        "    fig = px.line(f_babynames[f_babynames[\"Name\"].isin(names)],\n",
        "                  x = \"Year\", y = \"Count\", color=\"Name\",\n",
        "                  title=f\"Popularity for: {names}\")\n",
        "    fig.update_layout(font_size = 18,\n",
        "                  autosize=False,\n",
        "                  width=1000,\n",
        "                  height=400)\n",
        "    return fig\n",
        "# pass the name into plot_name\n",
        "plot_name(\"-\")"
      ]
    },
    {
      "cell_type": "code",
      "execution_count": null,
      "metadata": {
        "id": "xlCnd6ZRikKw"
      },
      "outputs": [],
      "source": [
        "# Find the 10 names that have decreased the most in popularity\n",
        "# Answer Here"
      ]
    },
    {
      "cell_type": "code",
      "execution_count": null,
      "metadata": {
        "id": "JGpQ_fpLikKw"
      },
      "outputs": [],
      "source": [
        "plot_name(*top10)"
      ]
    },
    {
      "cell_type": "markdown",
      "metadata": {
        "id": "xpTKbYENikKw"
      },
      "source": [
        "For fun, try plotting your name or your friends' names."
      ]
    }
  ],
  "metadata": {
    "colab": {
      "provenance": []
    },
    "kernelspec": {
      "display_name": "Python 3 (ipykernel)",
      "language": "python",
      "name": "python3"
    },
    "language_info": {
      "codemirror_mode": {
        "name": "ipython",
        "version": 3
      },
      "file_extension": ".py",
      "mimetype": "text/x-python",
      "name": "python",
      "nbconvert_exporter": "python",
      "pygments_lexer": "ipython3",
      "version": "3.10.13"
    }
  },
  "nbformat": 4,
  "nbformat_minor": 0
}
