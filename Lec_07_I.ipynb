{
  "cells": [
    {
      "cell_type": "markdown",
      "metadata": {
        "id": "2PtM2eH8DZiX"
      },
      "source": [
        "# Lecture 07\n",
        "\n",
        "Your are provided data of a company and its employess in Json formate.\n",
        "You need to perform EDA and solve the problems listed down."
      ]
    },
    {
      "cell_type": "code",
      "execution_count": 5,
      "metadata": {
        "id": "5ywZGhGIDxBt"
      },
      "outputs": [],
      "source": [
        "import numpy as np \n",
        "import pandas as pd \n",
        "import matplotlib.pyplot as plt \n",
        "import seaborn as sns\n",
        "import json \n"
      ]
    },
    {
      "cell_type": "code",
      "execution_count": 11,
      "metadata": {},
      "outputs": [],
      "source": [
        "#cpy_data = pd.read_json('/workspaces/Advance_DS/employee_company_data.json')\n",
        "#cpy_data\n",
        "with open('/workspaces/Advance_DS/employee_company_data.json',\"rb\") as f:\n",
        "    data = json.load(f)"
      ]
    },
    {
      "cell_type": "code",
      "execution_count": 14,
      "metadata": {},
      "outputs": [
        {
          "data": {
            "text/plain": [
              "dict"
            ]
          },
          "execution_count": 14,
          "metadata": {},
          "output_type": "execute_result"
        }
      ],
      "source": [
        "type(data)"
      ]
    },
    {
      "cell_type": "code",
      "execution_count": 26,
      "metadata": {},
      "outputs": [
        {
          "data": {
            "text/plain": [
              "dict_keys(['metadata', 'employees', 'departments', 'company_info', 'office_locations', 'benefits'])"
            ]
          },
          "execution_count": 26,
          "metadata": {},
          "output_type": "execute_result"
        }
      ],
      "source": [
        "data.keys()"
      ]
    },
    {
      "cell_type": "code",
      "execution_count": 25,
      "metadata": {},
      "outputs": [
        {
          "ename": "KeyError",
          "evalue": "'columns'",
          "output_type": "error",
          "traceback": [
            "\u001b[0;31m---------------------------------------------------------------------------\u001b[0m",
            "\u001b[0;31mKeyError\u001b[0m                                  Traceback (most recent call last)",
            "Cell \u001b[0;32mIn[25], line 3\u001b[0m\n\u001b[1;32m      1\u001b[0m \u001b[38;5;66;03m#data['metadata'].keys()\u001b[39;00m\n\u001b[1;32m      2\u001b[0m \u001b[38;5;66;03m#data\u001b[39;00m\n\u001b[0;32m----> 3\u001b[0m \u001b[43mdata\u001b[49m\u001b[43m[\u001b[49m\u001b[38;5;124;43m'\u001b[39;49m\u001b[38;5;124;43mmetadata\u001b[39;49m\u001b[38;5;124;43m'\u001b[39;49m\u001b[43m]\u001b[49m\u001b[43m[\u001b[49m\u001b[38;5;124;43m'\u001b[39;49m\u001b[38;5;124;43mcolumns\u001b[39;49m\u001b[38;5;124;43m'\u001b[39;49m\u001b[43m]\u001b[49m\n",
            "\u001b[0;31mKeyError\u001b[0m: 'columns'"
          ]
        }
      ],
      "source": [
        "#data['metadata'].keys()\n",
        "#data\n",
        "data['metadata']['columns']"
      ]
    },
    {
      "cell_type": "markdown",
      "metadata": {
        "id": "5b1RG3I5D1cE"
      },
      "source": [
        "**Question 1:**\n",
        "\n",
        "Retrieve and display the company's name and location from the JSON data."
      ]
    },
    {
      "cell_type": "code",
      "execution_count": null,
      "metadata": {
        "id": "d0fHGFRCD-Kq"
      },
      "outputs": [],
      "source": [
        "#code Here"
      ]
    },
    {
      "cell_type": "markdown",
      "metadata": {
        "id": "yypx_Ds5J7kt"
      },
      "source": [
        "Convert given employees data into a dataframe."
      ]
    },
    {
      "cell_type": "markdown",
      "metadata": {
        "id": "XVDdCE9oD_lJ"
      },
      "source": [
        "**Question 2:**\n",
        "\n",
        " Find and display the first name, last name, and email address of the employee with ID 3.\n"
      ]
    },
    {
      "cell_type": "code",
      "execution_count": null,
      "metadata": {
        "id": "yDo74tyYEIlx"
      },
      "outputs": [],
      "source": [
        "#code Here"
      ]
    },
    {
      "cell_type": "markdown",
      "metadata": {
        "id": "Jui5-2CsEK4B"
      },
      "source": [
        "**Question 3:**\n",
        "\n",
        "Find the department with the most employees, and display its name along with the number of employees it has."
      ]
    },
    {
      "cell_type": "code",
      "execution_count": null,
      "metadata": {
        "id": "Jlh2Cc4mFzuc"
      },
      "outputs": [],
      "source": [
        "# code Here"
      ]
    },
    {
      "cell_type": "markdown",
      "metadata": {
        "id": "E90nhwtTF9Ng"
      },
      "source": [
        "**Question 4:**\n",
        "\n",
        "Retrieve and display the street addresses of the \"san_francisco_hq\" and \"new_york_branch\" office locations."
      ]
    },
    {
      "cell_type": "code",
      "execution_count": null,
      "metadata": {
        "id": "oGesYRSuHCM1"
      },
      "outputs": [],
      "source": [
        "# code Here"
      ]
    },
    {
      "cell_type": "markdown",
      "metadata": {
        "id": "csJGVy5_HDy9"
      },
      "source": [
        "**Question 5:**\n",
        "\n",
        "Determine whether the company offers health insurance and a retirement plan. Provide the results as \"Yes\" or \"No.\""
      ]
    },
    {
      "cell_type": "code",
      "execution_count": null,
      "metadata": {
        "id": "XaeDLM_7IcoR"
      },
      "outputs": [],
      "source": [
        "# code Here"
      ]
    },
    {
      "cell_type": "markdown",
      "metadata": {
        "id": "A_odL01bIeW9"
      },
      "source": [
        "**Question 6:**\n",
        "\n",
        "Display the version and last updated date from the metadata section of the JSON data."
      ]
    },
    {
      "cell_type": "code",
      "execution_count": null,
      "metadata": {
        "id": "pb9Xy3m2Iytd"
      },
      "outputs": [],
      "source": [
        "# code Here"
      ]
    },
    {
      "cell_type": "markdown",
      "metadata": {
        "id": "uP7uTQUsJDKQ"
      },
      "source": [
        "**Question 7:**\n",
        "\n",
        " Sort the employees by their hire date in ascending order and display the first five employees in the sorted list."
      ]
    },
    {
      "cell_type": "code",
      "execution_count": null,
      "metadata": {
        "id": "_uHzAfPnJh4n"
      },
      "outputs": [],
      "source": [
        "# code Here"
      ]
    },
    {
      "cell_type": "markdown",
      "metadata": {
        "id": "n7XmTMjjJqOM"
      },
      "source": [
        "**Question 8:**\n",
        "\n",
        "Count the number of employees in the dataset and display the result."
      ]
    },
    {
      "cell_type": "code",
      "execution_count": null,
      "metadata": {
        "id": "-cVlWdRLJ1zP"
      },
      "outputs": [],
      "source": [
        "# code Here"
      ]
    },
    {
      "cell_type": "markdown",
      "metadata": {
        "id": "fuOvAHNQKQPG"
      },
      "source": [
        "**Question 9:**\n",
        "\n",
        "Identify employees who do not have a manager (i.e., manager field is empty), and display their names and positions."
      ]
    },
    {
      "cell_type": "code",
      "execution_count": null,
      "metadata": {
        "id": "KlEY1SANKVc4"
      },
      "outputs": [],
      "source": [
        "# code Here"
      ]
    },
    {
      "cell_type": "markdown",
      "metadata": {
        "id": "tYV7TQDMKX-o"
      },
      "source": [
        "**Question 10: Bonus Part**\n",
        "\n",
        "Using a geocoding service or library of your choice (e.g., geopy), convert the street addresses of all office locations into latitude and longitude coordinates. Then, provide the coordinates for each office location."
      ]
    }
  ],
  "metadata": {
    "colab": {
      "provenance": []
    },
    "kernelspec": {
      "display_name": "Python 3",
      "name": "python3"
    },
    "language_info": {
      "codemirror_mode": {
        "name": "ipython",
        "version": 3
      },
      "file_extension": ".py",
      "mimetype": "text/x-python",
      "name": "python",
      "nbconvert_exporter": "python",
      "pygments_lexer": "ipython3",
      "version": "3.10.13"
    }
  },
  "nbformat": 4,
  "nbformat_minor": 0
}
