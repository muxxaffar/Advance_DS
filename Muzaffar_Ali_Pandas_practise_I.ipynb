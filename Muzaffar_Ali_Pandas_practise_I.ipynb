{
 "cells": [
  {
   "cell_type": "markdown",
   "metadata": {
    "id": "_skpg5AsRUq7"
   },
   "source": [
    "**Q1:**\n",
    "\n",
    "Extract the data for the rows where the \"%\" column is greater than 50 from elections DataFrame.\n"
   ]
  },
  {
   "cell_type": "code",
   "execution_count": 2,
   "metadata": {
    "id": "A8LDgoLxRUBI"
   },
   "outputs": [
    {
     "name": "stdout",
     "output_type": "stream",
     "text": [
      "  Candidate        Party     %  Year Result\n",
      "0    Reagan   Republican  50.7  1980    win\n",
      "1    Carter   Democratic  41.0  1980   loss\n",
      "2  Anderson  Independent   6.6  1980   loss\n",
      "3    Reagan   Republican  58.8  1984    win\n",
      "4   Mondale   Democratic  37.6  1984   loss\n",
      "<class 'pandas.core.frame.DataFrame'>\n",
      "RangeIndex: 23 entries, 0 to 22\n",
      "Data columns (total 5 columns):\n",
      " #   Column     Non-Null Count  Dtype  \n",
      "---  ------     --------------  -----  \n",
      " 0   Candidate  23 non-null     object \n",
      " 1   Party      23 non-null     object \n",
      " 2   %          23 non-null     float64\n",
      " 3   Year       23 non-null     int64  \n",
      " 4   Result     23 non-null     object \n",
      "dtypes: float64(1), int64(1), object(3)\n",
      "memory usage: 1.0+ KB\n",
      "None\n",
      "               %         Year\n",
      "count  23.000000    23.000000\n",
      "mean   42.513043  1996.869565\n",
      "std    13.476117    11.627961\n",
      "min     6.600000  1980.000000\n",
      "25%    40.850000  1988.000000\n",
      "50%    47.200000  1996.000000\n",
      "75%    49.950000  2006.000000\n",
      "max    58.800000  2016.000000\n",
      "   Candidate       Party     %  Year Result\n",
      "0     Reagan  Republican  50.7  1980    win\n",
      "3     Reagan  Republican  58.8  1984    win\n",
      "5       Bush  Republican  53.4  1988    win\n",
      "16      Bush  Republican  50.7  2004    win\n",
      "17     Obama  Democratic  52.9  2008    win\n",
      "19     Obama  Democratic  51.1  2012    win\n"
     ]
    }
   ],
   "source": [
    "import pandas as pd\n",
    "import matplotlib.pyplot as plt\n",
    "import seaborn as sns\n",
    "\n",
    "elections = pd.read_csv('elections.csv')\n",
    "\n",
    "print(elections.head())\n",
    "print(elections.info())\n",
    "\n",
    "print(elections.describe())\n",
    "\n",
    "a = elections[elections[\"%\"] > 50]\n",
    "print(a)"
   ]
  },
  {
   "cell_type": "markdown",
   "metadata": {
    "id": "06Uvtuf5Rv90"
   },
   "source": [
    "**Q2:**\n",
    "\n",
    "Retrieve the data for the last three rows and last three columns in elections DataFrame.\n"
   ]
  },
  {
   "cell_type": "code",
   "execution_count": 3,
   "metadata": {
    "id": "4if3E6GfRthm"
   },
   "outputs": [
    {
     "name": "stdout",
     "output_type": "stream",
     "text": [
      "   Candidate       Party     %  Year Result\n",
      "20    Romney  Republican  47.2  2012   loss\n",
      "21   Clinton  Democratic  48.2  2016   loss\n",
      "22     Trump  Republican  46.1  2016    win\n",
      "       %  Year Result\n",
      "0   50.7  1980    win\n",
      "1   41.0  1980   loss\n",
      "2    6.6  1980   loss\n",
      "3   58.8  1984    win\n",
      "4   37.6  1984   loss\n",
      "5   53.4  1988    win\n",
      "6   45.6  1988   loss\n",
      "7   43.0  1992    win\n",
      "8   37.4  1992   loss\n",
      "9   18.9  1992   loss\n",
      "10  49.2  1996    win\n",
      "11  40.7  1996   loss\n",
      "12   8.4  1996   loss\n",
      "13  48.4  2000   loss\n",
      "14  47.9  2000    win\n",
      "15  48.3  2004   loss\n",
      "16  50.7  2004    win\n",
      "17  52.9  2008    win\n",
      "18  45.7  2008   loss\n",
      "19  51.1  2012    win\n",
      "20  47.2  2012   loss\n",
      "21  48.2  2016   loss\n",
      "22  46.1  2016    win\n"
     ]
    }
   ],
   "source": [
    "last_three_rows = elections.iloc[-3:]\n",
    "last_three_columns = elections.iloc[:, -3:]\n",
    "print(last_three_rows)\n",
    "print(last_three_columns)"
   ]
  },
  {
   "cell_type": "markdown",
   "metadata": {
    "id": "irU9Oe_WR4l8"
   },
   "source": [
    "**Q3:**\n",
    "\n",
    "Extract the data for the rows where the \"Year\" column is between 2000 and 2018 (inclusive) and the \"%\" column is greater than 50% from elections DataFrame."
   ]
  },
  {
   "cell_type": "code",
   "execution_count": 4,
   "metadata": {
    "id": "KNZ4g-KmSjhm"
   },
   "outputs": [
    {
     "name": "stdout",
     "output_type": "stream",
     "text": [
      "   Candidate       Party     %  Year Result\n",
      "16      Bush  Republican  50.7  2004    win\n",
      "17     Obama  Democratic  52.9  2008    win\n",
      "19     Obama  Democratic  51.1  2012    win\n"
     ]
    }
   ],
   "source": [
    "a = elections[(elections[\"Year\"] >= 2000) & (elections[\"Year\"] <= 2018) & (elections[\"%\"] > 50)]\n",
    "print(a)"
   ]
  },
  {
   "cell_type": "markdown",
   "metadata": {
    "id": "FJhaUyZGSkSo"
   },
   "source": [
    "**Q4:**\n",
    "\n",
    "Retrieve the data for the first three rows and columns with index positions 1, 3, and 5 in elections DataFrame.\n"
   ]
  },
  {
   "cell_type": "code",
   "execution_count": 5,
   "metadata": {
    "id": "XtNGeVXESo2H"
   },
   "outputs": [
    {
     "name": "stdout",
     "output_type": "stream",
     "text": [
      "  Candidate       Party     %  Year Result\n",
      "1    Carter  Democratic  41.0  1980   loss\n",
      "3    Reagan  Republican  58.8  1984    win\n",
      "5      Bush  Republican  53.4  1988    win\n"
     ]
    }
   ],
   "source": [
    "wins_subset = elections.iloc[[1, 3, 5], :]\n",
    "print(wins_subset)"
   ]
  },
  {
   "cell_type": "markdown",
   "metadata": {
    "id": "d1kOILErStOJ"
   },
   "source": [
    "**Q5:**\n",
    "\n",
    "Retrieve the data for every alternate row starting from the second row, and every alternate column starting from the third column, in the DataFrame."
   ]
  },
  {
   "cell_type": "code",
   "execution_count": 7,
   "metadata": {
    "id": "69nD_h_oS0T-"
   },
   "outputs": [
    {
     "name": "stdout",
     "output_type": "stream",
     "text": [
      "       % Result\n",
      "1   41.0   loss\n",
      "3   58.8    win\n",
      "5   53.4    win\n",
      "7   43.0    win\n",
      "9   18.9   loss\n",
      "11  40.7   loss\n",
      "13  48.4   loss\n",
      "15  48.3   loss\n",
      "17  52.9    win\n",
      "19  51.1    win\n",
      "21  48.2   loss\n"
     ]
    }
   ],
   "source": [
    "bc = elections.iloc[1::2, 2::2]\n",
    "print(bc)"
   ]
  },
  {
   "cell_type": "markdown",
   "metadata": {
    "id": "tcSHZ-3fS0v0"
   },
   "source": [
    "**Q6:**\n",
    "\n",
    "Select the results of a particular party from year 1988 to 2020 where the % win is greater than 50%."
   ]
  },
  {
   "cell_type": "code",
   "execution_count": 8,
   "metadata": {
    "id": "o0SMsI4gTmlk"
   },
   "outputs": [
    {
     "name": "stdout",
     "output_type": "stream",
     "text": [
      "   Candidate       Party     %  Year Result\n",
      "0     Reagan  Republican  50.7  1980    win\n",
      "3     Reagan  Republican  58.8  1984    win\n",
      "5       Bush  Republican  53.4  1988    win\n",
      "16      Bush  Republican  50.7  2004    win\n"
     ]
    }
   ],
   "source": [
    "\n",
    "aa = elections[(elections[\"Party\"] == \"Republican\") & (elections[\"%\"] > 50)]\n",
    "print(aa)"
   ]
  }
 ],
 "metadata": {
  "colab": {
   "provenance": []
  },
  "kernelspec": {
   "display_name": "Python 3 (ipykernel)",
   "language": "python",
   "name": "python3"
  },
  "language_info": {
   "codemirror_mode": {
    "name": "ipython",
    "version": 3
   },
   "file_extension": ".py",
   "mimetype": "text/x-python",
   "name": "python",
   "nbconvert_exporter": "python",
   "pygments_lexer": "ipython3",
   "version": "3.10.13"
  }
 },
 "nbformat": 4,
 "nbformat_minor": 4
}
